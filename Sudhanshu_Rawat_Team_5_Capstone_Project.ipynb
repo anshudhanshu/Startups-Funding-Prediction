{
  "nbformat": 4,
  "nbformat_minor": 0,
  "metadata": {
    "kernelspec": {
      "display_name": "Python 3",
      "language": "python",
      "name": "python3"
    },
    "language_info": {
      "codemirror_mode": {
        "name": "ipython",
        "version": 3
      },
      "file_extension": ".py",
      "mimetype": "text/x-python",
      "name": "python",
      "nbconvert_exporter": "python",
      "pygments_lexer": "ipython3",
      "version": "3.6.6"
    },
    "colab": {
      "name": "Sudhanshu Rawat- Team 5 - Capstone Project.ipynb",
      "provenance": [],
      "collapsed_sections": [
        "NHtxOHCCrK36"
      ],
      "include_colab_link": true
    }
  },
  "cells": [
    {
      "cell_type": "markdown",
      "metadata": {
        "id": "view-in-github",
        "colab_type": "text"
      },
      "source": [
        "<a href=\"https://colab.research.google.com/github/anshudhanshu/Startups-Funding-Prediction/blob/main/Sudhanshu_Rawat_Team_5_Capstone_Project.ipynb\" target=\"_parent\"><img src=\"https://colab.research.google.com/assets/colab-badge.svg\" alt=\"Open In Colab\"/></a>"
      ]
    },
    {
      "cell_type": "markdown",
      "metadata": {
        "id": "tOGC-qoyhJeX"
      },
      "source": [
        "# <b><u> Project Title : Predict whether a startup will get funded in the next three months. </u></b>"
      ]
    },
    {
      "cell_type": "markdown",
      "metadata": {
        "id": "Y06xIdG26kRF"
      },
      "source": [
        "## <b> Problem Description </b>\n",
        "\n",
        "### There has been a staggering growth in investments in young age startups in the last 5 years. A lot of big VC firms are increasingly getting interested in the startup funding space. You are given a task to predict whether a startup will get a funding in the next three months using app traction data and startup details. \n",
        "\n",
        "### This funding can be either seed funding, Series A, Series B, so on and so forth. \n"
      ]
    },
    {
      "cell_type": "markdown",
      "metadata": {
        "id": "AlLxAtlziMbP"
      },
      "source": [
        "## <b> Data Description </b>\r\n",
        "\r\n",
        "### In the file, you have monthly data for the startup entities which contains information about various app traction performance.\r\n",
        "\r\n",
        "### <b> In the given data, you have the following variables:\r\n",
        "* ### UUID - Unique Identifier for a single startup entity\r\n",
        "* ### Month - Month for which the app data is available\r\n",
        "* ### Application category - The category to which an application belongs to\r\n",
        "* ### Avg Session Time - Average time of the session in app during the month\r\n",
        "* ### Total Session Time - Avg session time / user x Open rate = Total session time\r\n",
        "* ### Open_rate - No of times app has been opened by a user\r\n",
        "* ### Reach - % of devices having the app installed\r\n",
        "* ### Funding_ind - Indicator for a funded startup\r\n",
        "\r\n",
        "## <b>Following variables are only available for funded startups:</b>\r\n",
        "* ### Business models -  The business model of the startup                            \r\n",
        "* ### City - the city where the startup is based out of\r\n",
        "* ### Company Stage - the stage of the company\r\n",
        "* ### Feed name - \r\n",
        "* ### Founded year - The year in which the startup was founded\r\n",
        "* ### Latest funded date - The latest date in which the startup was funded\r\n",
        "* ### MAU - % of reach which opened the app in the given month( Monthly Active Users)\r\n",
        "* ### Overview - Overview of the startup\r\n",
        "* ### Practice Areas - \r\n",
        "* ### Region - Region where the startup operates\r\n",
        "* ### Total Funding - Total amount of funding till the month\r\n",
        "* ### Uninstall Rate - Rate of uninstall of applications.\r\n",
        "\r\n"
      ]
    },
    {
      "cell_type": "code",
      "metadata": {
        "id": "DCS01n1zZg0K"
      },
      "source": [
        "!pip install modin"
      ],
      "execution_count": null,
      "outputs": []
    },
    {
      "cell_type": "code",
      "metadata": {
        "id": "AuuKNEYQZrVD"
      },
      "source": [
        "!pip install modin[all] # Install all of the above"
      ],
      "execution_count": null,
      "outputs": []
    },
    {
      "cell_type": "code",
      "metadata": {
        "id": "mH8Lrf_N0ILc"
      },
      "source": [
        "import numpy as np\r\n",
        "import pandas as pd\r\n",
        "# import os\r\n",
        "# os.environ[\"MODIN_ENGINE\"] = \"ray\"  # Modin will use Ray\r\n",
        "# import modin.pandas as pd\r\n"
      ],
      "execution_count": 1,
      "outputs": []
    },
    {
      "cell_type": "code",
      "metadata": {
        "id": "pqZQfruDBdya"
      },
      "source": [
        "import matplotlib.pyplot as plt\r\n",
        "import seaborn as sns\r\n",
        "%matplotlib inline"
      ],
      "execution_count": 2,
      "outputs": []
    },
    {
      "cell_type": "code",
      "metadata": {
        "colab": {
          "base_uri": "https://localhost:8080/"
        },
        "id": "3rRW_aQl8oY4",
        "outputId": "678ea8f8-155d-4045-e313-bfc2ea0c3210"
      },
      "source": [
        "from google.colab import drive\n",
        "drive.mount('/content/drive')"
      ],
      "execution_count": 3,
      "outputs": [
        {
          "output_type": "stream",
          "text": [
            "Mounted at /content/drive\n"
          ],
          "name": "stdout"
        }
      ]
    },
    {
      "cell_type": "code",
      "metadata": {
        "colab": {
          "base_uri": "https://localhost:8080/"
        },
        "id": "DK9-nTme8a5-",
        "outputId": "b221c864-ae25-4f48-b354-2b1843b333b6"
      },
      "source": [
        "%%time\r\n",
        "startups =pd.read_csv('/content/drive/MyDrive/AlmaBetter/Cohort Aravali/Module 4/Week 4/data_driven_investment_0.csv')"
      ],
      "execution_count": 4,
      "outputs": [
        {
          "output_type": "stream",
          "text": [
            "CPU times: user 2.82 s, sys: 376 ms, total: 3.19 s\n",
            "Wall time: 6.38 s\n"
          ],
          "name": "stdout"
        }
      ]
    },
    {
      "cell_type": "code",
      "metadata": {
        "colab": {
          "base_uri": "https://localhost:8080/",
          "height": 299
        },
        "id": "ypgLJpqtJlQ7",
        "outputId": "a3a81fe9-e64b-4f6d-cec4-2973d71d09e6"
      },
      "source": [
        "startups.head()"
      ],
      "execution_count": 5,
      "outputs": [
        {
          "output_type": "execute_result",
          "data": {
            "text/html": [
              "<div>\n",
              "<style scoped>\n",
              "    .dataframe tbody tr th:only-of-type {\n",
              "        vertical-align: middle;\n",
              "    }\n",
              "\n",
              "    .dataframe tbody tr th {\n",
              "        vertical-align: top;\n",
              "    }\n",
              "\n",
              "    .dataframe thead th {\n",
              "        text-align: right;\n",
              "    }\n",
              "</style>\n",
              "<table border=\"1\" class=\"dataframe\">\n",
              "  <thead>\n",
              "    <tr style=\"text-align: right;\">\n",
              "      <th></th>\n",
              "      <th>UUID</th>\n",
              "      <th>month</th>\n",
              "      <th>Application Category</th>\n",
              "      <th>Avg_Session_Time</th>\n",
              "      <th>Business Models</th>\n",
              "      <th>City</th>\n",
              "      <th>Company Stage</th>\n",
              "      <th>Feed Name</th>\n",
              "      <th>Founded Year</th>\n",
              "      <th>Latest Funded Date</th>\n",
              "      <th>MAU</th>\n",
              "      <th>Open_Rate</th>\n",
              "      <th>Overview</th>\n",
              "      <th>Practice Areas</th>\n",
              "      <th>Reach</th>\n",
              "      <th>Region</th>\n",
              "      <th>Total Funding (USD)</th>\n",
              "      <th>Total_Session_Time</th>\n",
              "      <th>Uninstall_Rate</th>\n",
              "      <th>funding_ind</th>\n",
              "    </tr>\n",
              "  </thead>\n",
              "  <tbody>\n",
              "    <tr>\n",
              "      <th>0</th>\n",
              "      <td>c1ad38e2d357610c129657d870ede902e8abfcb9</td>\n",
              "      <td>20180801</td>\n",
              "      <td>Books &amp; Reference</td>\n",
              "      <td>NaN</td>\n",
              "      <td>NaN</td>\n",
              "      <td>NaN</td>\n",
              "      <td>NaN</td>\n",
              "      <td>NaN</td>\n",
              "      <td>NaN</td>\n",
              "      <td>NaN</td>\n",
              "      <td>NaN</td>\n",
              "      <td>NaN</td>\n",
              "      <td>NaN</td>\n",
              "      <td>NaN</td>\n",
              "      <td>0.042963</td>\n",
              "      <td>National</td>\n",
              "      <td>NaN</td>\n",
              "      <td>NaN</td>\n",
              "      <td>0.024443</td>\n",
              "      <td>0</td>\n",
              "    </tr>\n",
              "    <tr>\n",
              "      <th>1</th>\n",
              "      <td>d841e670d9191f896a0cbc75961920887b375756</td>\n",
              "      <td>20180801</td>\n",
              "      <td>Books &amp; Reference</td>\n",
              "      <td>NaN</td>\n",
              "      <td>NaN</td>\n",
              "      <td>NaN</td>\n",
              "      <td>NaN</td>\n",
              "      <td>NaN</td>\n",
              "      <td>NaN</td>\n",
              "      <td>NaN</td>\n",
              "      <td>NaN</td>\n",
              "      <td>NaN</td>\n",
              "      <td>NaN</td>\n",
              "      <td>NaN</td>\n",
              "      <td>0.003244</td>\n",
              "      <td>National</td>\n",
              "      <td>NaN</td>\n",
              "      <td>NaN</td>\n",
              "      <td>0.009828</td>\n",
              "      <td>0</td>\n",
              "    </tr>\n",
              "    <tr>\n",
              "      <th>2</th>\n",
              "      <td>0a59d138b3eaccd22b665eae70c756fef83ddb63</td>\n",
              "      <td>20180801</td>\n",
              "      <td>Finance</td>\n",
              "      <td>NaN</td>\n",
              "      <td>NaN</td>\n",
              "      <td>NaN</td>\n",
              "      <td>NaN</td>\n",
              "      <td>NaN</td>\n",
              "      <td>NaN</td>\n",
              "      <td>NaN</td>\n",
              "      <td>NaN</td>\n",
              "      <td>NaN</td>\n",
              "      <td>NaN</td>\n",
              "      <td>NaN</td>\n",
              "      <td>0.000161</td>\n",
              "      <td>National</td>\n",
              "      <td>NaN</td>\n",
              "      <td>NaN</td>\n",
              "      <td>0.235294</td>\n",
              "      <td>0</td>\n",
              "    </tr>\n",
              "    <tr>\n",
              "      <th>3</th>\n",
              "      <td>0a59d138b3eaccd22b665eae70c756fef83ddb63</td>\n",
              "      <td>20180801</td>\n",
              "      <td>Books &amp; Reference</td>\n",
              "      <td>NaN</td>\n",
              "      <td>NaN</td>\n",
              "      <td>NaN</td>\n",
              "      <td>NaN</td>\n",
              "      <td>NaN</td>\n",
              "      <td>NaN</td>\n",
              "      <td>NaN</td>\n",
              "      <td>NaN</td>\n",
              "      <td>NaN</td>\n",
              "      <td>NaN</td>\n",
              "      <td>NaN</td>\n",
              "      <td>0.000077</td>\n",
              "      <td>National</td>\n",
              "      <td>NaN</td>\n",
              "      <td>NaN</td>\n",
              "      <td>0.350000</td>\n",
              "      <td>0</td>\n",
              "    </tr>\n",
              "    <tr>\n",
              "      <th>4</th>\n",
              "      <td>df5fb9891f77df24a91d039f1817c6c4e79244ef</td>\n",
              "      <td>20180801</td>\n",
              "      <td>Productivity</td>\n",
              "      <td>NaN</td>\n",
              "      <td>NaN</td>\n",
              "      <td>NaN</td>\n",
              "      <td>NaN</td>\n",
              "      <td>NaN</td>\n",
              "      <td>NaN</td>\n",
              "      <td>NaN</td>\n",
              "      <td>NaN</td>\n",
              "      <td>NaN</td>\n",
              "      <td>NaN</td>\n",
              "      <td>NaN</td>\n",
              "      <td>0.000939</td>\n",
              "      <td>National</td>\n",
              "      <td>NaN</td>\n",
              "      <td>NaN</td>\n",
              "      <td>0.312500</td>\n",
              "      <td>0</td>\n",
              "    </tr>\n",
              "  </tbody>\n",
              "</table>\n",
              "</div>"
            ],
            "text/plain": [
              "                                       UUID  ...  funding_ind\n",
              "0  c1ad38e2d357610c129657d870ede902e8abfcb9  ...            0\n",
              "1  d841e670d9191f896a0cbc75961920887b375756  ...            0\n",
              "2  0a59d138b3eaccd22b665eae70c756fef83ddb63  ...            0\n",
              "3  0a59d138b3eaccd22b665eae70c756fef83ddb63  ...            0\n",
              "4  df5fb9891f77df24a91d039f1817c6c4e79244ef  ...            0\n",
              "\n",
              "[5 rows x 20 columns]"
            ]
          },
          "metadata": {
            "tags": []
          },
          "execution_count": 5
        }
      ]
    },
    {
      "cell_type": "code",
      "metadata": {
        "colab": {
          "base_uri": "https://localhost:8080/"
        },
        "id": "Nb29iwfmJxQe",
        "outputId": "5699d2f7-8a8a-4216-b377-588ea1472372"
      },
      "source": [
        "startups.info()"
      ],
      "execution_count": 6,
      "outputs": [
        {
          "output_type": "stream",
          "text": [
            "<class 'pandas.core.frame.DataFrame'>\n",
            "RangeIndex: 1502285 entries, 0 to 1502284\n",
            "Data columns (total 20 columns):\n",
            " #   Column                Non-Null Count    Dtype  \n",
            "---  ------                --------------    -----  \n",
            " 0   UUID                  1500803 non-null  object \n",
            " 1   month                 1502285 non-null  int64  \n",
            " 2   Application Category  1502285 non-null  object \n",
            " 3   Avg_Session_Time      877763 non-null   float64\n",
            " 4   Business Models       2750 non-null     object \n",
            " 5   City                  2743 non-null     object \n",
            " 6   Company Stage         2750 non-null     object \n",
            " 7   Feed Name             2750 non-null     object \n",
            " 8   Founded Year          2750 non-null     float64\n",
            " 9   Latest Funded Date    2750 non-null     object \n",
            " 10  MAU                   118092 non-null   float64\n",
            " 11  Open_Rate             877746 non-null   float64\n",
            " 12  Overview              2750 non-null     object \n",
            " 13  Practice Areas        2750 non-null     object \n",
            " 14  Reach                 1050970 non-null  float64\n",
            " 15  Region                1502285 non-null  object \n",
            " 16  Total Funding (USD)   2526 non-null     float64\n",
            " 17  Total_Session_Time    877696 non-null   float64\n",
            " 18  Uninstall_Rate        352284 non-null   float64\n",
            " 19  funding_ind           1502285 non-null  int64  \n",
            "dtypes: float64(8), int64(2), object(10)\n",
            "memory usage: 229.2+ MB\n"
          ],
          "name": "stdout"
        }
      ]
    },
    {
      "cell_type": "code",
      "metadata": {
        "colab": {
          "base_uri": "https://localhost:8080/"
        },
        "id": "gkkBYsaTfqse",
        "outputId": "ed99c7f6-4149-4254-b140-5c6c72b6a5af"
      },
      "source": [
        "startups.isnull().sum()"
      ],
      "execution_count": 7,
      "outputs": [
        {
          "output_type": "execute_result",
          "data": {
            "text/plain": [
              "UUID                       1482\n",
              "month                         0\n",
              "Application Category          0\n",
              "Avg_Session_Time         624522\n",
              "Business Models         1499535\n",
              "City                    1499542\n",
              "Company Stage           1499535\n",
              "Feed Name               1499535\n",
              "Founded Year            1499535\n",
              "Latest Funded Date      1499535\n",
              "MAU                     1384193\n",
              "Open_Rate                624539\n",
              "Overview                1499535\n",
              "Practice Areas          1499535\n",
              "Reach                    451315\n",
              "Region                        0\n",
              "Total Funding (USD)     1499759\n",
              "Total_Session_Time       624589\n",
              "Uninstall_Rate          1150001\n",
              "funding_ind                   0\n",
              "dtype: int64"
            ]
          },
          "metadata": {
            "tags": []
          },
          "execution_count": 7
        }
      ]
    },
    {
      "cell_type": "code",
      "metadata": {
        "colab": {
          "base_uri": "https://localhost:8080/"
        },
        "id": "T59XyWgkhxCb",
        "outputId": "2cef44e9-4de1-46cd-ebfb-bddffe762d54"
      },
      "source": [
        "funded_startups = startups[startups['funding_ind']==1]\r\n",
        "funded_startups.shape"
      ],
      "execution_count": null,
      "outputs": [
        {
          "output_type": "execute_result",
          "data": {
            "text/plain": [
              "(2750, 20)"
            ]
          },
          "metadata": {
            "tags": []
          },
          "execution_count": 8
        }
      ]
    },
    {
      "cell_type": "code",
      "metadata": {
        "colab": {
          "base_uri": "https://localhost:8080/"
        },
        "id": "fj78wPIJiBWL",
        "outputId": "5810848d-8b82-4bf7-b921-15328bd2d20b"
      },
      "source": [
        "funded_startups.isnull().sum()"
      ],
      "execution_count": null,
      "outputs": [
        {
          "output_type": "execute_result",
          "data": {
            "text/plain": [
              "UUID                       0\n",
              "month                      0\n",
              "Application Category       0\n",
              "Avg_Session_Time        1058\n",
              "Business Models            0\n",
              "City                       7\n",
              "Company Stage              0\n",
              "Feed Name                  0\n",
              "Founded Year               0\n",
              "Latest Funded Date         0\n",
              "MAU                     2291\n",
              "Open_Rate               1058\n",
              "Overview                   0\n",
              "Practice Areas             0\n",
              "Reach                    794\n",
              "Region                     0\n",
              "Total Funding (USD)      224\n",
              "Total_Session_Time      1058\n",
              "Uninstall_Rate          1710\n",
              "funding_ind                0\n",
              "dtype: int64"
            ]
          },
          "metadata": {
            "tags": []
          },
          "execution_count": 9
        }
      ]
    },
    {
      "cell_type": "code",
      "metadata": {
        "id": "favt5s7A9ixp",
        "colab": {
          "base_uri": "https://localhost:8080/",
          "height": 343
        },
        "outputId": "f22fe218-b0b1-48ce-d0e0-8e7b53621918"
      },
      "source": [
        "startups.describe()"
      ],
      "execution_count": null,
      "outputs": [
        {
          "output_type": "execute_result",
          "data": {
            "text/html": [
              "<div>\n",
              "<style scoped>\n",
              "    .dataframe tbody tr th:only-of-type {\n",
              "        vertical-align: middle;\n",
              "    }\n",
              "\n",
              "    .dataframe tbody tr th {\n",
              "        vertical-align: top;\n",
              "    }\n",
              "\n",
              "    .dataframe thead th {\n",
              "        text-align: right;\n",
              "    }\n",
              "</style>\n",
              "<table border=\"1\" class=\"dataframe\">\n",
              "  <thead>\n",
              "    <tr style=\"text-align: right;\">\n",
              "      <th></th>\n",
              "      <th>month</th>\n",
              "      <th>Avg_Session_Time</th>\n",
              "      <th>Founded Year</th>\n",
              "      <th>MAU</th>\n",
              "      <th>Open_Rate</th>\n",
              "      <th>Reach</th>\n",
              "      <th>Total Funding (USD)</th>\n",
              "      <th>Total_Session_Time</th>\n",
              "      <th>Uninstall_Rate</th>\n",
              "      <th>funding_ind</th>\n",
              "    </tr>\n",
              "  </thead>\n",
              "  <tbody>\n",
              "    <tr>\n",
              "      <th>count</th>\n",
              "      <td>1.502285e+06</td>\n",
              "      <td>877763.000000</td>\n",
              "      <td>2750.000000</td>\n",
              "      <td>118092.000000</td>\n",
              "      <td>877746.000000</td>\n",
              "      <td>1.050970e+06</td>\n",
              "      <td>2.526000e+03</td>\n",
              "      <td>877696.000000</td>\n",
              "      <td>352284.000000</td>\n",
              "      <td>1.502285e+06</td>\n",
              "    </tr>\n",
              "    <tr>\n",
              "      <th>mean</th>\n",
              "      <td>2.019719e+07</td>\n",
              "      <td>1.623398</td>\n",
              "      <td>2014.632000</td>\n",
              "      <td>0.398440</td>\n",
              "      <td>3.940700</td>\n",
              "      <td>1.068854e-03</td>\n",
              "      <td>1.270335e+08</td>\n",
              "      <td>5.963753</td>\n",
              "      <td>0.144642</td>\n",
              "      <td>1.830545e-03</td>\n",
              "    </tr>\n",
              "    <tr>\n",
              "      <th>std</th>\n",
              "      <td>5.532754e+03</td>\n",
              "      <td>2.253496</td>\n",
              "      <td>4.000254</td>\n",
              "      <td>0.208611</td>\n",
              "      <td>4.537303</td>\n",
              "      <td>1.692271e-02</td>\n",
              "      <td>4.955262e+08</td>\n",
              "      <td>9.593728</td>\n",
              "      <td>0.130946</td>\n",
              "      <td>4.274570e-02</td>\n",
              "    </tr>\n",
              "    <tr>\n",
              "      <th>min</th>\n",
              "      <td>2.018070e+07</td>\n",
              "      <td>0.000033</td>\n",
              "      <td>1983.000000</td>\n",
              "      <td>0.000019</td>\n",
              "      <td>1.000000</td>\n",
              "      <td>0.000000e+00</td>\n",
              "      <td>6.200000e+01</td>\n",
              "      <td>0.000033</td>\n",
              "      <td>0.000000</td>\n",
              "      <td>0.000000e+00</td>\n",
              "    </tr>\n",
              "    <tr>\n",
              "      <th>25%</th>\n",
              "      <td>2.019120e+07</td>\n",
              "      <td>0.417683</td>\n",
              "      <td>2014.000000</td>\n",
              "      <td>0.235294</td>\n",
              "      <td>1.875000</td>\n",
              "      <td>3.022203e-07</td>\n",
              "      <td>2.014807e+06</td>\n",
              "      <td>1.085491</td>\n",
              "      <td>0.056637</td>\n",
              "      <td>0.000000e+00</td>\n",
              "    </tr>\n",
              "    <tr>\n",
              "      <th>50%</th>\n",
              "      <td>2.020030e+07</td>\n",
              "      <td>0.889806</td>\n",
              "      <td>2015.000000</td>\n",
              "      <td>0.388791</td>\n",
              "      <td>2.933333</td>\n",
              "      <td>5.137744e-06</td>\n",
              "      <td>9.973513e+06</td>\n",
              "      <td>2.726576</td>\n",
              "      <td>0.107383</td>\n",
              "      <td>0.000000e+00</td>\n",
              "    </tr>\n",
              "    <tr>\n",
              "      <th>75%</th>\n",
              "      <td>2.020040e+07</td>\n",
              "      <td>1.917254</td>\n",
              "      <td>2017.000000</td>\n",
              "      <td>0.546220</td>\n",
              "      <td>4.500000</td>\n",
              "      <td>7.543001e-05</td>\n",
              "      <td>4.187457e+07</td>\n",
              "      <td>6.614369</td>\n",
              "      <td>0.190809</td>\n",
              "      <td>0.000000e+00</td>\n",
              "    </tr>\n",
              "    <tr>\n",
              "      <th>max</th>\n",
              "      <td>2.020060e+07</td>\n",
              "      <td>58.561333</td>\n",
              "      <td>2020.000000</td>\n",
              "      <td>1.000000</td>\n",
              "      <td>80.000000</td>\n",
              "      <td>9.990408e-01</td>\n",
              "      <td>7.201430e+09</td>\n",
              "      <td>149.983317</td>\n",
              "      <td>1.000000</td>\n",
              "      <td>1.000000e+00</td>\n",
              "    </tr>\n",
              "  </tbody>\n",
              "</table>\n",
              "</div>"
            ],
            "text/plain": [
              "              month  Avg_Session_Time  ...  Uninstall_Rate   funding_ind\n",
              "count  1.502285e+06     877763.000000  ...   352284.000000  1.502285e+06\n",
              "mean   2.019719e+07          1.623398  ...        0.144642  1.830545e-03\n",
              "std    5.532754e+03          2.253496  ...        0.130946  4.274570e-02\n",
              "min    2.018070e+07          0.000033  ...        0.000000  0.000000e+00\n",
              "25%    2.019120e+07          0.417683  ...        0.056637  0.000000e+00\n",
              "50%    2.020030e+07          0.889806  ...        0.107383  0.000000e+00\n",
              "75%    2.020040e+07          1.917254  ...        0.190809  0.000000e+00\n",
              "max    2.020060e+07         58.561333  ...        1.000000  1.000000e+00\n",
              "\n",
              "[8 rows x 10 columns]"
            ]
          },
          "metadata": {
            "tags": []
          },
          "execution_count": 10
        }
      ]
    },
    {
      "cell_type": "code",
      "metadata": {
        "colab": {
          "base_uri": "https://localhost:8080/",
          "height": 255
        },
        "id": "URiZ3BnmbITV",
        "outputId": "a52b0ec1-c924-495c-c55f-e593d762f431"
      },
      "source": [
        "startups.describe(include='object')"
      ],
      "execution_count": null,
      "outputs": [
        {
          "output_type": "execute_result",
          "data": {
            "text/html": [
              "<div>\n",
              "<style scoped>\n",
              "    .dataframe tbody tr th:only-of-type {\n",
              "        vertical-align: middle;\n",
              "    }\n",
              "\n",
              "    .dataframe tbody tr th {\n",
              "        vertical-align: top;\n",
              "    }\n",
              "\n",
              "    .dataframe thead th {\n",
              "        text-align: right;\n",
              "    }\n",
              "</style>\n",
              "<table border=\"1\" class=\"dataframe\">\n",
              "  <thead>\n",
              "    <tr style=\"text-align: right;\">\n",
              "      <th></th>\n",
              "      <th>UUID</th>\n",
              "      <th>Application Category</th>\n",
              "      <th>Business Models</th>\n",
              "      <th>City</th>\n",
              "      <th>Company Stage</th>\n",
              "      <th>Feed Name</th>\n",
              "      <th>Latest Funded Date</th>\n",
              "      <th>Overview</th>\n",
              "      <th>Practice Areas</th>\n",
              "      <th>Region</th>\n",
              "    </tr>\n",
              "  </thead>\n",
              "  <tbody>\n",
              "    <tr>\n",
              "      <th>count</th>\n",
              "      <td>1500803</td>\n",
              "      <td>1502285</td>\n",
              "      <td>2750</td>\n",
              "      <td>2743</td>\n",
              "      <td>2750</td>\n",
              "      <td>2750</td>\n",
              "      <td>2750</td>\n",
              "      <td>2750</td>\n",
              "      <td>2750</td>\n",
              "      <td>1502285</td>\n",
              "    </tr>\n",
              "    <tr>\n",
              "      <th>unique</th>\n",
              "      <td>147741</td>\n",
              "      <td>48</td>\n",
              "      <td>317</td>\n",
              "      <td>31</td>\n",
              "      <td>13</td>\n",
              "      <td>189</td>\n",
              "      <td>251</td>\n",
              "      <td>350</td>\n",
              "      <td>138</td>\n",
              "      <td>1</td>\n",
              "    </tr>\n",
              "    <tr>\n",
              "      <th>top</th>\n",
              "      <td>4e5ad248d207eaf680153dbbf3b2f5bdf3fa6f27</td>\n",
              "      <td>Education</td>\n",
              "      <td>Social Platforms &gt; Interest Based &gt; Education ...</td>\n",
              "      <td>Bangalore</td>\n",
              "      <td>Seed</td>\n",
              "      <td>Social Platforms\\nTest Preparation Tech</td>\n",
              "      <td>2020-09-25</td>\n",
              "      <td>Q&amp;A-based education community</td>\n",
              "      <td>FinTech</td>\n",
              "      <td>National</td>\n",
              "    </tr>\n",
              "    <tr>\n",
              "      <th>freq</th>\n",
              "      <td>2671</td>\n",
              "      <td>202603</td>\n",
              "      <td>232</td>\n",
              "      <td>781</td>\n",
              "      <td>1251</td>\n",
              "      <td>233</td>\n",
              "      <td>232</td>\n",
              "      <td>232</td>\n",
              "      <td>359</td>\n",
              "      <td>1502285</td>\n",
              "    </tr>\n",
              "  </tbody>\n",
              "</table>\n",
              "</div>"
            ],
            "text/plain": [
              "                                            UUID  ...    Region\n",
              "count                                    1500803  ...   1502285\n",
              "unique                                    147741  ...         1\n",
              "top     4e5ad248d207eaf680153dbbf3b2f5bdf3fa6f27  ...  National\n",
              "freq                                        2671  ...   1502285\n",
              "\n",
              "[4 rows x 10 columns]"
            ]
          },
          "metadata": {
            "tags": []
          },
          "execution_count": 11
        }
      ]
    },
    {
      "cell_type": "code",
      "metadata": {
        "id": "WwhNKrmZbhx6"
      },
      "source": [
        "not_null_avg_time_df=startups[~startups['Avg_Session_Time'].isnull()]"
      ],
      "execution_count": null,
      "outputs": []
    },
    {
      "cell_type": "code",
      "metadata": {
        "colab": {
          "base_uri": "https://localhost:8080/"
        },
        "id": "ikc59xpBcTg5",
        "outputId": "84de5004-d98e-4f8c-face-aa2a2c07feba"
      },
      "source": [
        "not_null_avg_time_df.shape"
      ],
      "execution_count": null,
      "outputs": [
        {
          "output_type": "execute_result",
          "data": {
            "text/plain": [
              "(877763, 20)"
            ]
          },
          "metadata": {
            "tags": []
          },
          "execution_count": 13
        }
      ]
    },
    {
      "cell_type": "code",
      "metadata": {
        "colab": {
          "base_uri": "https://localhost:8080/"
        },
        "id": "EpX6Pu-rvHkS",
        "outputId": "84884589-2252-4542-bd18-9ce6686fd7d6"
      },
      "source": [
        "not_null_df = startups.dropna()\r\n",
        "not_null_df.shape"
      ],
      "execution_count": null,
      "outputs": [
        {
          "output_type": "execute_result",
          "data": {
            "text/plain": [
              "(435, 20)"
            ]
          },
          "metadata": {
            "tags": []
          },
          "execution_count": 14
        }
      ]
    },
    {
      "cell_type": "code",
      "metadata": {
        "colab": {
          "base_uri": "https://localhost:8080/"
        },
        "id": "cue-jwKAvSQg",
        "outputId": "c40bad21-b49c-4481-9aa4-aaf310fcde6b"
      },
      "source": [
        "startups[startups['Company Stage']== 'Series A']['Avg_Session_Time'].median()"
      ],
      "execution_count": null,
      "outputs": [
        {
          "output_type": "execute_result",
          "data": {
            "text/plain": [
              "0.8452855929031058"
            ]
          },
          "metadata": {
            "tags": []
          },
          "execution_count": 15
        }
      ]
    },
    {
      "cell_type": "code",
      "metadata": {
        "colab": {
          "base_uri": "https://localhost:8080/"
        },
        "id": "P-nV3f9hwq0s",
        "outputId": "095fe008-0b5b-4c50-dee0-5f262cae484e"
      },
      "source": [
        "startups[startups['Company Stage']== 'Series B']['Avg_Session_Time'].median()"
      ],
      "execution_count": null,
      "outputs": [
        {
          "output_type": "execute_result",
          "data": {
            "text/plain": [
              "1.1597418680543208"
            ]
          },
          "metadata": {
            "tags": []
          },
          "execution_count": 16
        }
      ]
    },
    {
      "cell_type": "code",
      "metadata": {
        "colab": {
          "base_uri": "https://localhost:8080/"
        },
        "id": "unCo5aqGww-l",
        "outputId": "910d40db-d229-47de-e45f-f56995a6306c"
      },
      "source": [
        "startups[startups['Company Stage']== 'Series C']['Avg_Session_Time'].median()"
      ],
      "execution_count": null,
      "outputs": [
        {
          "output_type": "execute_result",
          "data": {
            "text/plain": [
              "0.9566043956228956"
            ]
          },
          "metadata": {
            "tags": []
          },
          "execution_count": 17
        }
      ]
    },
    {
      "cell_type": "code",
      "metadata": {
        "colab": {
          "base_uri": "https://localhost:8080/"
        },
        "id": "WCT0pNvHx1ih",
        "outputId": "1b587070-4905-4b58-86ff-c5890643bc4d"
      },
      "source": [
        "# Median Avg_Session_Time for each Company Stage\r\n",
        "print(\"Company_Stage  Median Avg_Session_Time\")\r\n",
        "for stage in startups['Company Stage'].unique()[1:]:\r\n",
        "  print(stage,end=\":\\t\")\r\n",
        "  print(startups[startups['Company Stage']== stage]['Avg_Session_Time'].median())\r\n",
        "  print()"
      ],
      "execution_count": null,
      "outputs": [
        {
          "output_type": "stream",
          "text": [
            "Company_Stage  Median Avg_Session_Time\n",
            "Series A:\t0.8452855929031058\n",
            "\n",
            "Seed:\t1.1466028996847815\n",
            "\n",
            "Series B:\t1.1597418680543208\n",
            "\n",
            "Series D:\t1.1877597818775476\n",
            "\n",
            "Series C:\t0.9566043956228956\n",
            "\n",
            "Series H:\t1.0398141319678857\n",
            "\n",
            "Acquired:\t1.359713622404322\n",
            "\n",
            "Series J:\tnan\n",
            "\n",
            "Series E:\t2.257690865591402\n",
            "\n",
            "Series I:\t0.6084284571679509\n",
            "\n",
            "Series F:\t1.3817414865250521\n",
            "\n",
            "Funded:\t4.015873104070217\n",
            "\n",
            "Series G:\t1.0485492057541907\n",
            "\n"
          ],
          "name": "stdout"
        }
      ]
    },
    {
      "cell_type": "code",
      "metadata": {
        "colab": {
          "base_uri": "https://localhost:8080/"
        },
        "id": "rRjXZ43VyWQ0",
        "outputId": "8856b261-a31a-4835-c30d-e6b8382d1102"
      },
      "source": [
        "# Mean Avg_Session_Time for each Company Stage\r\n",
        "print(\"Company_Stage  Mean Avg_Session_Time\")\r\n",
        "for stage in startups['Company Stage'].unique()[1:]:\r\n",
        "  print(stage,end=\":\\t\")\r\n",
        "  print(startups[startups['Company Stage']== stage]['Avg_Session_Time'].mean())\r\n",
        "  print()"
      ],
      "execution_count": null,
      "outputs": [
        {
          "output_type": "stream",
          "text": [
            "Company_Stage  Mean Avg_Session_Time\n",
            "Series A:\t1.3716280934024514\n",
            "\n",
            "Seed:\t1.87132003701909\n",
            "\n",
            "Series B:\t2.1865301918938616\n",
            "\n",
            "Series D:\t1.5445236571738787\n",
            "\n",
            "Series C:\t1.566963894546688\n",
            "\n",
            "Series H:\t1.0699148538314946\n",
            "\n",
            "Acquired:\t1.4737326445464154\n",
            "\n",
            "Series J:\tnan\n",
            "\n",
            "Series E:\t1.5992154684920021\n",
            "\n",
            "Series I:\t0.6347854630185972\n",
            "\n",
            "Series F:\t1.347736590610043\n",
            "\n",
            "Funded:\t4.073137388757522\n",
            "\n",
            "Series G:\t1.067974072279323\n",
            "\n"
          ],
          "name": "stdout"
        }
      ]
    },
    {
      "cell_type": "code",
      "metadata": {
        "colab": {
          "base_uri": "https://localhost:8080/"
        },
        "id": "_M25piztiWxl",
        "outputId": "2bbb112a-bca4-4089-d561-bc550b59cabf"
      },
      "source": [
        "# Median Uninstall Rate for each Company Stage\r\n",
        "print(\"Company_Stage  Mean Uninstall Rate\")\r\n",
        "for stage in startups['Company Stage'].unique()[1:]:\r\n",
        "  print(stage,end=\":\\t\")\r\n",
        "  print(startups[startups['Company Stage']== stage]['Uninstall_Rate'].median())\r\n",
        "  print()"
      ],
      "execution_count": null,
      "outputs": [
        {
          "output_type": "stream",
          "text": [
            "Company_Stage  Mean Uninstall Rate\n",
            "Series A:\t0.12569832402234635\n",
            "\n",
            "Seed:\t0.12335299630630134\n",
            "\n",
            "Series B:\t0.12108472543107551\n",
            "\n",
            "Series D:\t0.11162735287109836\n",
            "\n",
            "Series C:\t0.1311475409836066\n",
            "\n",
            "Series H:\t0.11724137931034485\n",
            "\n",
            "Acquired:\t0.10476190476190472\n",
            "\n",
            "Series J:\t0.07699154428126387\n",
            "\n",
            "Series E:\t0.09417539806946618\n",
            "\n",
            "Series I:\t0.09819979108918059\n",
            "\n",
            "Series F:\t0.10332950631458092\n",
            "\n",
            "Funded:\t0.07275132275132273\n",
            "\n",
            "Series G:\t0.0650521656998872\n",
            "\n"
          ],
          "name": "stdout"
        }
      ]
    },
    {
      "cell_type": "code",
      "metadata": {
        "colab": {
          "base_uri": "https://localhost:8080/"
        },
        "id": "JXil1yT7jmTk",
        "outputId": "7e399631-705c-426c-d6cd-b9d5174a96b7"
      },
      "source": [
        "# Mean Uninstall Rate for each Company Stage\r\n",
        "print(\"Company_Stage  Mean Uninstall Rate\")\r\n",
        "for stage in startups['Company Stage'].unique()[1:]:\r\n",
        "  print(stage,end=\":\\t\")\r\n",
        "  print(startups[startups['Company Stage']== stage]['Uninstall_Rate'].mean())\r\n",
        "  print()"
      ],
      "execution_count": null,
      "outputs": [
        {
          "output_type": "stream",
          "text": [
            "Company_Stage  Mean Uninstall Rate\n",
            "Series A:\t0.13603426038798164\n",
            "\n",
            "Seed:\t0.15612784639131766\n",
            "\n",
            "Series B:\t0.1792365939546728\n",
            "\n",
            "Series D:\t0.12469005848941926\n",
            "\n",
            "Series C:\t0.14414882574361904\n",
            "\n",
            "Series H:\t0.10950911243866461\n",
            "\n",
            "Acquired:\t0.12213158231566766\n",
            "\n",
            "Series J:\t0.08320118129035962\n",
            "\n",
            "Series E:\t0.09792365921542732\n",
            "\n",
            "Series I:\t0.0952301291732481\n",
            "\n",
            "Series F:\t0.1615591730296482\n",
            "\n",
            "Funded:\t0.07275132275132273\n",
            "\n",
            "Series G:\t0.08537016811071932\n",
            "\n"
          ],
          "name": "stdout"
        }
      ]
    },
    {
      "cell_type": "code",
      "metadata": {
        "id": "kzWzZA-3gkYP"
      },
      "source": [
        "categories = startups['Application Category'].unique()"
      ],
      "execution_count": null,
      "outputs": []
    },
    {
      "cell_type": "code",
      "metadata": {
        "id": "5yk_txb7g4n9"
      },
      "source": [
        "Stages = startups['Company Stage'].unique()"
      ],
      "execution_count": null,
      "outputs": []
    },
    {
      "cell_type": "markdown",
      "metadata": {
        "id": "NHtxOHCCrK36"
      },
      "source": [
        "### **Analysing UUID**"
      ]
    },
    {
      "cell_type": "code",
      "metadata": {
        "colab": {
          "base_uri": "https://localhost:8080/"
        },
        "id": "Hn9US5tvrKXp",
        "outputId": "96738ef8-1d8f-4166-e25e-2de5c9db44a9"
      },
      "source": [
        "startups['UUID'].describe()"
      ],
      "execution_count": null,
      "outputs": [
        {
          "output_type": "execute_result",
          "data": {
            "text/plain": [
              "count                                      1500803\n",
              "unique                                      147741\n",
              "top       4e5ad248d207eaf680153dbbf3b2f5bdf3fa6f27\n",
              "freq                                          2671\n",
              "Name: UUID, dtype: object"
            ]
          },
          "metadata": {
            "tags": []
          },
          "execution_count": 24
        }
      ]
    },
    {
      "cell_type": "code",
      "metadata": {
        "colab": {
          "base_uri": "https://localhost:8080/"
        },
        "id": "pevJOU3xrcly",
        "outputId": "25298b0a-d193-436a-ce23-f9d91456cb94"
      },
      "source": [
        "startups['UUID'].isnull().sum()"
      ],
      "execution_count": null,
      "outputs": [
        {
          "output_type": "execute_result",
          "data": {
            "text/plain": [
              "1482"
            ]
          },
          "metadata": {
            "tags": []
          },
          "execution_count": 25
        }
      ]
    },
    {
      "cell_type": "code",
      "metadata": {
        "colab": {
          "base_uri": "https://localhost:8080/"
        },
        "id": "MPncijqNrtmX",
        "outputId": "d0bdc796-10c8-4848-fc3d-0bc6f8d1aed3"
      },
      "source": [
        "startups[startups['UUID'].isnull()].isnull().sum()"
      ],
      "execution_count": null,
      "outputs": [
        {
          "output_type": "execute_result",
          "data": {
            "text/plain": [
              "UUID                    1482\n",
              "month                      0\n",
              "Application Category       0\n",
              "Avg_Session_Time         816\n",
              "Business Models         1482\n",
              "City                    1482\n",
              "Company Stage           1482\n",
              "Feed Name               1482\n",
              "Founded Year            1482\n",
              "Latest Funded Date      1482\n",
              "MAU                     1424\n",
              "Open_Rate                816\n",
              "Overview                1482\n",
              "Practice Areas          1482\n",
              "Reach                    382\n",
              "Region                     0\n",
              "Total Funding (USD)     1482\n",
              "Total_Session_Time       816\n",
              "Uninstall_Rate          1298\n",
              "funding_ind                0\n",
              "dtype: int64"
            ]
          },
          "metadata": {
            "tags": []
          },
          "execution_count": 26
        }
      ]
    },
    {
      "cell_type": "code",
      "metadata": {
        "colab": {
          "base_uri": "https://localhost:8080/"
        },
        "id": "HKd8d_ctsaZ0",
        "outputId": "3c7b5fa1-f8e8-4ad6-fbb6-fee20845c49e"
      },
      "source": [
        "startups[~startups['UUID'].isnull()].isnull().sum()"
      ],
      "execution_count": null,
      "outputs": [
        {
          "output_type": "execute_result",
          "data": {
            "text/plain": [
              "UUID                          0\n",
              "month                         0\n",
              "Application Category          0\n",
              "Avg_Session_Time         623706\n",
              "Business Models         1498053\n",
              "City                    1498060\n",
              "Company Stage           1498053\n",
              "Feed Name               1498053\n",
              "Founded Year            1498053\n",
              "Latest Funded Date      1498053\n",
              "MAU                     1382769\n",
              "Open_Rate                623723\n",
              "Overview                1498053\n",
              "Practice Areas          1498053\n",
              "Reach                    450933\n",
              "Region                        0\n",
              "Total Funding (USD)     1498277\n",
              "Total_Session_Time       623773\n",
              "Uninstall_Rate          1148703\n",
              "funding_ind                   0\n",
              "dtype: int64"
            ]
          },
          "metadata": {
            "tags": []
          },
          "execution_count": 27
        }
      ]
    },
    {
      "cell_type": "code",
      "metadata": {
        "colab": {
          "base_uri": "https://localhost:8080/"
        },
        "id": "IBCJkK5bs5y_",
        "outputId": "0d74833e-70b1-441d-a131-8a4b9886ea68"
      },
      "source": [
        "startups['UUID'].value_counts()"
      ],
      "execution_count": null,
      "outputs": [
        {
          "output_type": "execute_result",
          "data": {
            "text/plain": [
              "4e5ad248d207eaf680153dbbf3b2f5bdf3fa6f27    2671\n",
              "a8febb4b767f83022235f3f34a2241ed1e13db2f    1778\n",
              "524889f05a60933210abde13d9db9211986698ac    1575\n",
              "061d769832ed6fa2e6f5f7923348f7f074e6aa91    1531\n",
              "10a07f3aa16935a1b5a79c0d19bf5e4044cd5f21    1282\n",
              "                                            ... \n",
              "16a36e58ed132ab3bd2cd01d6249d6b1b7db3d21       1\n",
              "9834a8a858760e64f5195b60e1a807ec1f16e3f2       1\n",
              "bb464bf3eb09eeefd201dabc972a15e923007a61       1\n",
              "c4dfb1bd10b116bfce0ca2368d268a17cea52b90       1\n",
              "333fddf6f8a96b356912af8ca55e94f35596d802       1\n",
              "Name: UUID, Length: 147741, dtype: int64"
            ]
          },
          "metadata": {
            "tags": []
          },
          "execution_count": 28
        }
      ]
    },
    {
      "cell_type": "code",
      "metadata": {
        "colab": {
          "base_uri": "https://localhost:8080/"
        },
        "id": "-_MM9pMlmCxN",
        "outputId": "867fd99d-442f-4e64-be9a-01ce3331c377"
      },
      "source": [
        "startups['Company Stage'].unique()"
      ],
      "execution_count": null,
      "outputs": [
        {
          "output_type": "execute_result",
          "data": {
            "text/plain": [
              "array([nan, 'Series A', 'Seed', 'Series B', 'Series D', 'Series C',\n",
              "       'Series H', 'Acquired', 'Series J', 'Series E', 'Series I',\n",
              "       'Series F', 'Funded', 'Series G'], dtype=object)"
            ]
          },
          "metadata": {
            "tags": []
          },
          "execution_count": 29
        }
      ]
    },
    {
      "cell_type": "code",
      "metadata": {
        "colab": {
          "base_uri": "https://localhost:8080/"
        },
        "id": "v2-jgcbanDsg",
        "outputId": "9c4f4bb9-d54c-48f3-8c0a-e38800ac8caa"
      },
      "source": [
        "startups[startups['Company Stage']  == 'Series A' ].dropna()['Total Funding (USD)']"
      ],
      "execution_count": null,
      "outputs": [
        {
          "output_type": "execute_result",
          "data": {
            "text/plain": [
              "30713       5588693.0\n",
              "32144       6483790.0\n",
              "32898      10422240.0\n",
              "32977      19022522.0\n",
              "35416      14996449.0\n",
              "              ...    \n",
              "1418498    12331649.0\n",
              "1418499    12331649.0\n",
              "1418500    12331649.0\n",
              "1419670    11544081.0\n",
              "1421441    12331649.0\n",
              "Name: Total Funding (USD), Length: 79, dtype: float64"
            ]
          },
          "metadata": {
            "tags": []
          },
          "execution_count": 30
        }
      ]
    },
    {
      "cell_type": "code",
      "metadata": {
        "colab": {
          "base_uri": "https://localhost:8080/"
        },
        "id": "U-G9AyVkn3gI",
        "outputId": "e4201e87-bdfd-4273-9485-eced1cab23e4"
      },
      "source": [
        "startups[startups['Company Stage']  == 'Series A' ]['Total Funding (USD)'].mean()"
      ],
      "execution_count": null,
      "outputs": [
        {
          "output_type": "execute_result",
          "data": {
            "text/plain": [
              "15556360.92204301"
            ]
          },
          "metadata": {
            "tags": []
          },
          "execution_count": 31
        }
      ]
    },
    {
      "cell_type": "code",
      "metadata": {
        "colab": {
          "base_uri": "https://localhost:8080/"
        },
        "id": "Zq_tPXIdmd1W",
        "outputId": "1c9240a2-51b0-430f-e211-9caec5a53c29"
      },
      "source": [
        "sns.histplot(startups[startups['Company Stage']  == 'Series A' ].dropna()['Total Funding (USD)'])"
      ],
      "execution_count": null,
      "outputs": [
        {
          "output_type": "execute_result",
          "data": {
            "text/plain": [
              "<matplotlib.axes._subplots.AxesSubplot at 0x7fe42e54fda0>"
            ]
          },
          "metadata": {
            "tags": []
          },
          "execution_count": 32
        },
        {
          "output_type": "display_data",
          "data": {
            "image/png": "[encoded data removed]",
            "text/plain": [
              "<Figure size 432x288 with 1 Axes>"
            ]
          },
          "metadata": {
            "tags": [],
            "needs_background": "light"
          }
        }
      ]
    },
    {
      "cell_type": "code",
      "metadata": {
        "id": "mtNsn5LbcWKD"
      },
      "source": [
        "import matplotlib.pyplot as plt\r\n",
        "import seaborn as sns\r\n",
        "%matplotlib inline"
      ],
      "execution_count": null,
      "outputs": []
    },
    {
      "cell_type": "code",
      "metadata": {
        "colab": {
          "base_uri": "https://localhost:8080/"
        },
        "id": "-dzNV6cxc5WL",
        "outputId": "b2902cd5-4624-406a-c586-96909cca661a"
      },
      "source": [
        "sns.distplot(not_null_avg_time_df.Avg_Session_Time)"
      ],
      "execution_count": null,
      "outputs": [
        {
          "output_type": "stream",
          "text": [
            "/usr/local/lib/python3.6/dist-packages/seaborn/distributions.py:2557: FutureWarning: `distplot` is a deprecated function and will be removed in a future version. Please adapt your code to use either `displot` (a figure-level function with similar flexibility) or `histplot` (an axes-level function for histograms).\n",
            "  warnings.warn(msg, FutureWarning)\n"
          ],
          "name": "stderr"
        },
        {
          "output_type": "execute_result",
          "data": {
            "text/plain": [
              "<matplotlib.axes._subplots.AxesSubplot at 0x7fe42d1b8f60>"
            ]
          },
          "metadata": {
            "tags": []
          },
          "execution_count": 34
        },
        {
          "output_type": "display_data",
          "data": {
            "image/png": "[encoded data removed]",
            "text/plain": [
              "<Figure size 432x288 with 1 Axes>"
            ]
          },
          "metadata": {
            "tags": [],
            "needs_background": "light"
          }
        }
      ]
    },
    {
      "cell_type": "code",
      "metadata": {
        "colab": {
          "base_uri": "https://localhost:8080/"
        },
        "id": "6AHo-3TOdO-N",
        "outputId": "e9435990-069f-4925-a027-a77b3a738c4f"
      },
      "source": [
        "sns.distplot(np.log10(not_null_avg_time_df.Avg_Session_Time))"
      ],
      "execution_count": null,
      "outputs": [
        {
          "output_type": "stream",
          "text": [
            "/usr/local/lib/python3.6/dist-packages/seaborn/distributions.py:2557: FutureWarning: `distplot` is a deprecated function and will be removed in a future version. Please adapt your code to use either `displot` (a figure-level function with similar flexibility) or `histplot` (an axes-level function for histograms).\n",
            "  warnings.warn(msg, FutureWarning)\n"
          ],
          "name": "stderr"
        },
        {
          "output_type": "execute_result",
          "data": {
            "text/plain": [
              "<matplotlib.axes._subplots.AxesSubplot at 0x7fe424424748>"
            ]
          },
          "metadata": {
            "tags": []
          },
          "execution_count": 35
        },
        {
          "output_type": "display_data",
          "data": {
            "image/png": "[encoded data removed]",
            "text/plain": [
              "<Figure size 432x288 with 1 Axes>"
            ]
          },
          "metadata": {
            "tags": [],
            "needs_background": "light"
          }
        }
      ]
    },
    {
      "cell_type": "code",
      "metadata": {
        "colab": {
          "base_uri": "https://localhost:8080/",
          "height": 1000
        },
        "id": "-_9RPFptdzk3",
        "outputId": "1a25ecb0-74f0-4831-eaec-831314fdc0e5"
      },
      "source": [
        "null_avg_time = startups[startups['Avg_Session_Time'].isnull()]\r\n",
        "null_avg_time.head(30)"
      ],
      "execution_count": null,
      "outputs": [
        {
          "output_type": "execute_result",
          "data": {
            "text/html": [
              "<div>\n",
              "<style scoped>\n",
              "    .dataframe tbody tr th:only-of-type {\n",
              "        vertical-align: middle;\n",
              "    }\n",
              "\n",
              "    .dataframe tbody tr th {\n",
              "        vertical-align: top;\n",
              "    }\n",
              "\n",
              "    .dataframe thead th {\n",
              "        text-align: right;\n",
              "    }\n",
              "</style>\n",
              "<table border=\"1\" class=\"dataframe\">\n",
              "  <thead>\n",
              "    <tr style=\"text-align: right;\">\n",
              "      <th></th>\n",
              "      <th>UUID</th>\n",
              "      <th>month</th>\n",
              "      <th>Application Category</th>\n",
              "      <th>Avg_Session_Time</th>\n",
              "      <th>Business Models</th>\n",
              "      <th>City</th>\n",
              "      <th>Company Stage</th>\n",
              "      <th>Feed Name</th>\n",
              "      <th>Founded Year</th>\n",
              "      <th>Latest Funded Date</th>\n",
              "      <th>MAU</th>\n",
              "      <th>Open_Rate</th>\n",
              "      <th>Overview</th>\n",
              "      <th>Practice Areas</th>\n",
              "      <th>Reach</th>\n",
              "      <th>Region</th>\n",
              "      <th>Total Funding (USD)</th>\n",
              "      <th>Total_Session_Time</th>\n",
              "      <th>Uninstall_Rate</th>\n",
              "      <th>funding_ind</th>\n",
              "    </tr>\n",
              "  </thead>\n",
              "  <tbody>\n",
              "    <tr>\n",
              "      <th>0</th>\n",
              "      <td>c1ad38e2d357610c129657d870ede902e8abfcb9</td>\n",
              "      <td>20180801</td>\n",
              "      <td>Books &amp; Reference</td>\n",
              "      <td>NaN</td>\n",
              "      <td>NaN</td>\n",
              "      <td>NaN</td>\n",
              "      <td>NaN</td>\n",
              "      <td>NaN</td>\n",
              "      <td>NaN</td>\n",
              "      <td>NaN</td>\n",
              "      <td>NaN</td>\n",
              "      <td>NaN</td>\n",
              "      <td>NaN</td>\n",
              "      <td>NaN</td>\n",
              "      <td>0.042963</td>\n",
              "      <td>National</td>\n",
              "      <td>NaN</td>\n",
              "      <td>NaN</td>\n",
              "      <td>0.024443</td>\n",
              "      <td>0</td>\n",
              "    </tr>\n",
              "    <tr>\n",
              "      <th>1</th>\n",
              "      <td>d841e670d9191f896a0cbc75961920887b375756</td>\n",
              "      <td>20180801</td>\n",
              "      <td>Books &amp; Reference</td>\n",
              "      <td>NaN</td>\n",
              "      <td>NaN</td>\n",
              "      <td>NaN</td>\n",
              "      <td>NaN</td>\n",
              "      <td>NaN</td>\n",
              "      <td>NaN</td>\n",
              "      <td>NaN</td>\n",
              "      <td>NaN</td>\n",
              "      <td>NaN</td>\n",
              "      <td>NaN</td>\n",
              "      <td>NaN</td>\n",
              "      <td>0.003244</td>\n",
              "      <td>National</td>\n",
              "      <td>NaN</td>\n",
              "      <td>NaN</td>\n",
              "      <td>0.009828</td>\n",
              "      <td>0</td>\n",
              "    </tr>\n",
              "    <tr>\n",
              "      <th>2</th>\n",
              "      <td>0a59d138b3eaccd22b665eae70c756fef83ddb63</td>\n",
              "      <td>20180801</td>\n",
              "      <td>Finance</td>\n",
              "      <td>NaN</td>\n",
              "      <td>NaN</td>\n",
              "      <td>NaN</td>\n",
              "      <td>NaN</td>\n",
              "      <td>NaN</td>\n",
              "      <td>NaN</td>\n",
              "      <td>NaN</td>\n",
              "      <td>NaN</td>\n",
              "      <td>NaN</td>\n",
              "      <td>NaN</td>\n",
              "      <td>NaN</td>\n",
              "      <td>0.000161</td>\n",
              "      <td>National</td>\n",
              "      <td>NaN</td>\n",
              "      <td>NaN</td>\n",
              "      <td>0.235294</td>\n",
              "      <td>0</td>\n",
              "    </tr>\n",
              "    <tr>\n",
              "      <th>3</th>\n",
              "      <td>0a59d138b3eaccd22b665eae70c756fef83ddb63</td>\n",
              "      <td>20180801</td>\n",
              "      <td>Books &amp; Reference</td>\n",
              "      <td>NaN</td>\n",
              "      <td>NaN</td>\n",
              "      <td>NaN</td>\n",
              "      <td>NaN</td>\n",
              "      <td>NaN</td>\n",
              "      <td>NaN</td>\n",
              "      <td>NaN</td>\n",
              "      <td>NaN</td>\n",
              "      <td>NaN</td>\n",
              "      <td>NaN</td>\n",
              "      <td>NaN</td>\n",
              "      <td>0.000077</td>\n",
              "      <td>National</td>\n",
              "      <td>NaN</td>\n",
              "      <td>NaN</td>\n",
              "      <td>0.350000</td>\n",
              "      <td>0</td>\n",
              "    </tr>\n",
              "    <tr>\n",
              "      <th>4</th>\n",
              "      <td>df5fb9891f77df24a91d039f1817c6c4e79244ef</td>\n",
              "      <td>20180801</td>\n",
              "      <td>Productivity</td>\n",
              "      <td>NaN</td>\n",
              "      <td>NaN</td>\n",
              "      <td>NaN</td>\n",
              "      <td>NaN</td>\n",
              "      <td>NaN</td>\n",
              "      <td>NaN</td>\n",
              "      <td>NaN</td>\n",
              "      <td>NaN</td>\n",
              "      <td>NaN</td>\n",
              "      <td>NaN</td>\n",
              "      <td>NaN</td>\n",
              "      <td>0.000939</td>\n",
              "      <td>National</td>\n",
              "      <td>NaN</td>\n",
              "      <td>NaN</td>\n",
              "      <td>0.312500</td>\n",
              "      <td>0</td>\n",
              "    </tr>\n",
              "    <tr>\n",
              "      <th>5</th>\n",
              "      <td>3d82666e19078799205cee6998a6c5dd8b6add2a</td>\n",
              "      <td>20180801</td>\n",
              "      <td>Travel &amp; Local</td>\n",
              "      <td>NaN</td>\n",
              "      <td>NaN</td>\n",
              "      <td>NaN</td>\n",
              "      <td>NaN</td>\n",
              "      <td>NaN</td>\n",
              "      <td>NaN</td>\n",
              "      <td>NaN</td>\n",
              "      <td>NaN</td>\n",
              "      <td>NaN</td>\n",
              "      <td>NaN</td>\n",
              "      <td>NaN</td>\n",
              "      <td>0.000927</td>\n",
              "      <td>National</td>\n",
              "      <td>NaN</td>\n",
              "      <td>NaN</td>\n",
              "      <td>0.094488</td>\n",
              "      <td>0</td>\n",
              "    </tr>\n",
              "    <tr>\n",
              "      <th>6</th>\n",
              "      <td>7dd8f8918e91940bb6f8af0b4889fedaf421d0db</td>\n",
              "      <td>20180801</td>\n",
              "      <td>Education</td>\n",
              "      <td>NaN</td>\n",
              "      <td>NaN</td>\n",
              "      <td>NaN</td>\n",
              "      <td>NaN</td>\n",
              "      <td>NaN</td>\n",
              "      <td>NaN</td>\n",
              "      <td>NaN</td>\n",
              "      <td>NaN</td>\n",
              "      <td>NaN</td>\n",
              "      <td>NaN</td>\n",
              "      <td>NaN</td>\n",
              "      <td>0.000280</td>\n",
              "      <td>National</td>\n",
              "      <td>NaN</td>\n",
              "      <td>NaN</td>\n",
              "      <td>0.096774</td>\n",
              "      <td>0</td>\n",
              "    </tr>\n",
              "    <tr>\n",
              "      <th>7</th>\n",
              "      <td>029c8ea1565578af1d3a79dfd186ad6e590ce362</td>\n",
              "      <td>20180801</td>\n",
              "      <td>Education</td>\n",
              "      <td>NaN</td>\n",
              "      <td>NaN</td>\n",
              "      <td>NaN</td>\n",
              "      <td>NaN</td>\n",
              "      <td>NaN</td>\n",
              "      <td>NaN</td>\n",
              "      <td>NaN</td>\n",
              "      <td>NaN</td>\n",
              "      <td>NaN</td>\n",
              "      <td>NaN</td>\n",
              "      <td>NaN</td>\n",
              "      <td>0.000514</td>\n",
              "      <td>National</td>\n",
              "      <td>NaN</td>\n",
              "      <td>NaN</td>\n",
              "      <td>0.134831</td>\n",
              "      <td>0</td>\n",
              "    </tr>\n",
              "    <tr>\n",
              "      <th>8</th>\n",
              "      <td>08a19c746c758161bc0436f74163f5e206dad50b</td>\n",
              "      <td>20180801</td>\n",
              "      <td>Productivity</td>\n",
              "      <td>NaN</td>\n",
              "      <td>NaN</td>\n",
              "      <td>NaN</td>\n",
              "      <td>NaN</td>\n",
              "      <td>NaN</td>\n",
              "      <td>NaN</td>\n",
              "      <td>NaN</td>\n",
              "      <td>NaN</td>\n",
              "      <td>NaN</td>\n",
              "      <td>NaN</td>\n",
              "      <td>NaN</td>\n",
              "      <td>0.000021</td>\n",
              "      <td>National</td>\n",
              "      <td>NaN</td>\n",
              "      <td>NaN</td>\n",
              "      <td>0.000000</td>\n",
              "      <td>0</td>\n",
              "    </tr>\n",
              "    <tr>\n",
              "      <th>9</th>\n",
              "      <td>0d30ce53c1f76f5ee21425b461ebf28e82728505</td>\n",
              "      <td>20180801</td>\n",
              "      <td>Finance</td>\n",
              "      <td>NaN</td>\n",
              "      <td>NaN</td>\n",
              "      <td>NaN</td>\n",
              "      <td>NaN</td>\n",
              "      <td>NaN</td>\n",
              "      <td>NaN</td>\n",
              "      <td>NaN</td>\n",
              "      <td>NaN</td>\n",
              "      <td>NaN</td>\n",
              "      <td>NaN</td>\n",
              "      <td>NaN</td>\n",
              "      <td>0.000260</td>\n",
              "      <td>National</td>\n",
              "      <td>NaN</td>\n",
              "      <td>NaN</td>\n",
              "      <td>0.114754</td>\n",
              "      <td>0</td>\n",
              "    </tr>\n",
              "    <tr>\n",
              "      <th>10</th>\n",
              "      <td>65a3985f1f08572b6a79b93f8e88b494d3ab95cb</td>\n",
              "      <td>20180801</td>\n",
              "      <td>Health &amp; Fitness</td>\n",
              "      <td>NaN</td>\n",
              "      <td>NaN</td>\n",
              "      <td>NaN</td>\n",
              "      <td>NaN</td>\n",
              "      <td>NaN</td>\n",
              "      <td>NaN</td>\n",
              "      <td>NaN</td>\n",
              "      <td>NaN</td>\n",
              "      <td>NaN</td>\n",
              "      <td>NaN</td>\n",
              "      <td>NaN</td>\n",
              "      <td>0.000339</td>\n",
              "      <td>National</td>\n",
              "      <td>NaN</td>\n",
              "      <td>NaN</td>\n",
              "      <td>0.080000</td>\n",
              "      <td>0</td>\n",
              "    </tr>\n",
              "    <tr>\n",
              "      <th>11</th>\n",
              "      <td>ded747f467ba486ce882aa40aa6db23562c7e5de</td>\n",
              "      <td>20180801</td>\n",
              "      <td>Lifestyle</td>\n",
              "      <td>NaN</td>\n",
              "      <td>NaN</td>\n",
              "      <td>NaN</td>\n",
              "      <td>NaN</td>\n",
              "      <td>NaN</td>\n",
              "      <td>NaN</td>\n",
              "      <td>NaN</td>\n",
              "      <td>NaN</td>\n",
              "      <td>NaN</td>\n",
              "      <td>NaN</td>\n",
              "      <td>NaN</td>\n",
              "      <td>0.000160</td>\n",
              "      <td>National</td>\n",
              "      <td>NaN</td>\n",
              "      <td>NaN</td>\n",
              "      <td>0.047619</td>\n",
              "      <td>0</td>\n",
              "    </tr>\n",
              "    <tr>\n",
              "      <th>12</th>\n",
              "      <td>ded747f467ba486ce882aa40aa6db23562c7e5de</td>\n",
              "      <td>20180801</td>\n",
              "      <td>Lifestyle</td>\n",
              "      <td>NaN</td>\n",
              "      <td>NaN</td>\n",
              "      <td>NaN</td>\n",
              "      <td>NaN</td>\n",
              "      <td>NaN</td>\n",
              "      <td>NaN</td>\n",
              "      <td>NaN</td>\n",
              "      <td>NaN</td>\n",
              "      <td>NaN</td>\n",
              "      <td>NaN</td>\n",
              "      <td>NaN</td>\n",
              "      <td>0.000117</td>\n",
              "      <td>National</td>\n",
              "      <td>NaN</td>\n",
              "      <td>NaN</td>\n",
              "      <td>0.062500</td>\n",
              "      <td>0</td>\n",
              "    </tr>\n",
              "    <tr>\n",
              "      <th>13</th>\n",
              "      <td>157b47544d03b7201fd6fada350a004bbbf6309f</td>\n",
              "      <td>20180801</td>\n",
              "      <td>Education</td>\n",
              "      <td>NaN</td>\n",
              "      <td>NaN</td>\n",
              "      <td>NaN</td>\n",
              "      <td>NaN</td>\n",
              "      <td>NaN</td>\n",
              "      <td>NaN</td>\n",
              "      <td>NaN</td>\n",
              "      <td>NaN</td>\n",
              "      <td>NaN</td>\n",
              "      <td>NaN</td>\n",
              "      <td>NaN</td>\n",
              "      <td>0.000181</td>\n",
              "      <td>National</td>\n",
              "      <td>NaN</td>\n",
              "      <td>NaN</td>\n",
              "      <td>0.146341</td>\n",
              "      <td>0</td>\n",
              "    </tr>\n",
              "    <tr>\n",
              "      <th>14</th>\n",
              "      <td>ae2dbcd7694da4e9e3ad3af29d9bb166c26baa8d</td>\n",
              "      <td>20180801</td>\n",
              "      <td>Health &amp; Fitness</td>\n",
              "      <td>NaN</td>\n",
              "      <td>NaN</td>\n",
              "      <td>NaN</td>\n",
              "      <td>NaN</td>\n",
              "      <td>NaN</td>\n",
              "      <td>NaN</td>\n",
              "      <td>NaN</td>\n",
              "      <td>NaN</td>\n",
              "      <td>NaN</td>\n",
              "      <td>NaN</td>\n",
              "      <td>NaN</td>\n",
              "      <td>0.000109</td>\n",
              "      <td>National</td>\n",
              "      <td>NaN</td>\n",
              "      <td>NaN</td>\n",
              "      <td>0.240000</td>\n",
              "      <td>0</td>\n",
              "    </tr>\n",
              "    <tr>\n",
              "      <th>15</th>\n",
              "      <td>59b96406cd7a992dc0e87364cadb7f15e2080b37</td>\n",
              "      <td>20180801</td>\n",
              "      <td>Music &amp; Audio</td>\n",
              "      <td>NaN</td>\n",
              "      <td>NaN</td>\n",
              "      <td>NaN</td>\n",
              "      <td>NaN</td>\n",
              "      <td>NaN</td>\n",
              "      <td>NaN</td>\n",
              "      <td>NaN</td>\n",
              "      <td>NaN</td>\n",
              "      <td>NaN</td>\n",
              "      <td>NaN</td>\n",
              "      <td>NaN</td>\n",
              "      <td>0.000046</td>\n",
              "      <td>National</td>\n",
              "      <td>NaN</td>\n",
              "      <td>NaN</td>\n",
              "      <td>0.111111</td>\n",
              "      <td>0</td>\n",
              "    </tr>\n",
              "    <tr>\n",
              "      <th>16</th>\n",
              "      <td>5b155c479a0b92bd1e35a754ceb2b3dc9f5348c9</td>\n",
              "      <td>20180801</td>\n",
              "      <td>Education</td>\n",
              "      <td>NaN</td>\n",
              "      <td>NaN</td>\n",
              "      <td>NaN</td>\n",
              "      <td>NaN</td>\n",
              "      <td>NaN</td>\n",
              "      <td>NaN</td>\n",
              "      <td>NaN</td>\n",
              "      <td>NaN</td>\n",
              "      <td>NaN</td>\n",
              "      <td>NaN</td>\n",
              "      <td>NaN</td>\n",
              "      <td>0.000219</td>\n",
              "      <td>National</td>\n",
              "      <td>NaN</td>\n",
              "      <td>NaN</td>\n",
              "      <td>0.061538</td>\n",
              "      <td>0</td>\n",
              "    </tr>\n",
              "    <tr>\n",
              "      <th>17</th>\n",
              "      <td>68dfffa93ac8ff25837b2ff26f2ef55aa368b4bd</td>\n",
              "      <td>20180801</td>\n",
              "      <td>Music &amp; Audio</td>\n",
              "      <td>NaN</td>\n",
              "      <td>NaN</td>\n",
              "      <td>NaN</td>\n",
              "      <td>NaN</td>\n",
              "      <td>NaN</td>\n",
              "      <td>NaN</td>\n",
              "      <td>NaN</td>\n",
              "      <td>NaN</td>\n",
              "      <td>NaN</td>\n",
              "      <td>NaN</td>\n",
              "      <td>NaN</td>\n",
              "      <td>0.000030</td>\n",
              "      <td>National</td>\n",
              "      <td>NaN</td>\n",
              "      <td>NaN</td>\n",
              "      <td>0.000000</td>\n",
              "      <td>0</td>\n",
              "    </tr>\n",
              "    <tr>\n",
              "      <th>18</th>\n",
              "      <td>4659572d0e800a31610786219b6ec3e687d6a8e7</td>\n",
              "      <td>20180801</td>\n",
              "      <td>Medical</td>\n",
              "      <td>NaN</td>\n",
              "      <td>NaN</td>\n",
              "      <td>NaN</td>\n",
              "      <td>NaN</td>\n",
              "      <td>NaN</td>\n",
              "      <td>NaN</td>\n",
              "      <td>NaN</td>\n",
              "      <td>NaN</td>\n",
              "      <td>NaN</td>\n",
              "      <td>NaN</td>\n",
              "      <td>NaN</td>\n",
              "      <td>0.000022</td>\n",
              "      <td>National</td>\n",
              "      <td>NaN</td>\n",
              "      <td>NaN</td>\n",
              "      <td>0.000000</td>\n",
              "      <td>0</td>\n",
              "    </tr>\n",
              "    <tr>\n",
              "      <th>19</th>\n",
              "      <td>552630be5f5b4740ab6ad2d7b3f40cad5a7e385f</td>\n",
              "      <td>20180801</td>\n",
              "      <td>Lifestyle</td>\n",
              "      <td>NaN</td>\n",
              "      <td>NaN</td>\n",
              "      <td>NaN</td>\n",
              "      <td>NaN</td>\n",
              "      <td>NaN</td>\n",
              "      <td>NaN</td>\n",
              "      <td>NaN</td>\n",
              "      <td>NaN</td>\n",
              "      <td>NaN</td>\n",
              "      <td>NaN</td>\n",
              "      <td>NaN</td>\n",
              "      <td>0.000214</td>\n",
              "      <td>National</td>\n",
              "      <td>NaN</td>\n",
              "      <td>NaN</td>\n",
              "      <td>0.176471</td>\n",
              "      <td>0</td>\n",
              "    </tr>\n",
              "    <tr>\n",
              "      <th>20</th>\n",
              "      <td>e99bdef7d99ed0edff0f364e6b83b4f28e13f812</td>\n",
              "      <td>20180801</td>\n",
              "      <td>Lifestyle</td>\n",
              "      <td>NaN</td>\n",
              "      <td>NaN</td>\n",
              "      <td>NaN</td>\n",
              "      <td>NaN</td>\n",
              "      <td>NaN</td>\n",
              "      <td>NaN</td>\n",
              "      <td>NaN</td>\n",
              "      <td>NaN</td>\n",
              "      <td>NaN</td>\n",
              "      <td>NaN</td>\n",
              "      <td>NaN</td>\n",
              "      <td>0.000006</td>\n",
              "      <td>National</td>\n",
              "      <td>NaN</td>\n",
              "      <td>NaN</td>\n",
              "      <td>NaN</td>\n",
              "      <td>0</td>\n",
              "    </tr>\n",
              "    <tr>\n",
              "      <th>21</th>\n",
              "      <td>9a074aaf967f27feeb40fcf832cb7645ba519a83</td>\n",
              "      <td>20180801</td>\n",
              "      <td>Education</td>\n",
              "      <td>NaN</td>\n",
              "      <td>NaN</td>\n",
              "      <td>NaN</td>\n",
              "      <td>NaN</td>\n",
              "      <td>NaN</td>\n",
              "      <td>NaN</td>\n",
              "      <td>NaN</td>\n",
              "      <td>NaN</td>\n",
              "      <td>NaN</td>\n",
              "      <td>NaN</td>\n",
              "      <td>NaN</td>\n",
              "      <td>0.000027</td>\n",
              "      <td>National</td>\n",
              "      <td>NaN</td>\n",
              "      <td>NaN</td>\n",
              "      <td>0.000000</td>\n",
              "      <td>0</td>\n",
              "    </tr>\n",
              "    <tr>\n",
              "      <th>22</th>\n",
              "      <td>49117d2d12c60ea85dc5e8af846ba7bc652393e3</td>\n",
              "      <td>20180801</td>\n",
              "      <td>Business</td>\n",
              "      <td>NaN</td>\n",
              "      <td>NaN</td>\n",
              "      <td>NaN</td>\n",
              "      <td>NaN</td>\n",
              "      <td>NaN</td>\n",
              "      <td>NaN</td>\n",
              "      <td>NaN</td>\n",
              "      <td>NaN</td>\n",
              "      <td>NaN</td>\n",
              "      <td>NaN</td>\n",
              "      <td>NaN</td>\n",
              "      <td>0.000070</td>\n",
              "      <td>National</td>\n",
              "      <td>NaN</td>\n",
              "      <td>NaN</td>\n",
              "      <td>0.000000</td>\n",
              "      <td>0</td>\n",
              "    </tr>\n",
              "    <tr>\n",
              "      <th>23</th>\n",
              "      <td>8ea2433fe6316166c330acf85709532620f0af8e</td>\n",
              "      <td>20180801</td>\n",
              "      <td>Maps &amp; Navigation</td>\n",
              "      <td>NaN</td>\n",
              "      <td>NaN</td>\n",
              "      <td>NaN</td>\n",
              "      <td>NaN</td>\n",
              "      <td>NaN</td>\n",
              "      <td>NaN</td>\n",
              "      <td>NaN</td>\n",
              "      <td>NaN</td>\n",
              "      <td>NaN</td>\n",
              "      <td>NaN</td>\n",
              "      <td>NaN</td>\n",
              "      <td>0.000014</td>\n",
              "      <td>National</td>\n",
              "      <td>NaN</td>\n",
              "      <td>NaN</td>\n",
              "      <td>0.000000</td>\n",
              "      <td>0</td>\n",
              "    </tr>\n",
              "    <tr>\n",
              "      <th>24</th>\n",
              "      <td>ea82b71fe237c5d6c6f5fc3a41481b8717f8ee3e</td>\n",
              "      <td>20180801</td>\n",
              "      <td>Finance</td>\n",
              "      <td>NaN</td>\n",
              "      <td>NaN</td>\n",
              "      <td>NaN</td>\n",
              "      <td>NaN</td>\n",
              "      <td>NaN</td>\n",
              "      <td>NaN</td>\n",
              "      <td>NaN</td>\n",
              "      <td>NaN</td>\n",
              "      <td>NaN</td>\n",
              "      <td>NaN</td>\n",
              "      <td>NaN</td>\n",
              "      <td>0.000038</td>\n",
              "      <td>National</td>\n",
              "      <td>NaN</td>\n",
              "      <td>NaN</td>\n",
              "      <td>0.000000</td>\n",
              "      <td>0</td>\n",
              "    </tr>\n",
              "    <tr>\n",
              "      <th>25</th>\n",
              "      <td>d2e0d088182becae053edb1a6ef65ccb6f12dfce</td>\n",
              "      <td>20180801</td>\n",
              "      <td>Travel &amp; Local</td>\n",
              "      <td>NaN</td>\n",
              "      <td>NaN</td>\n",
              "      <td>NaN</td>\n",
              "      <td>NaN</td>\n",
              "      <td>NaN</td>\n",
              "      <td>NaN</td>\n",
              "      <td>NaN</td>\n",
              "      <td>NaN</td>\n",
              "      <td>NaN</td>\n",
              "      <td>NaN</td>\n",
              "      <td>NaN</td>\n",
              "      <td>0.000089</td>\n",
              "      <td>National</td>\n",
              "      <td>NaN</td>\n",
              "      <td>NaN</td>\n",
              "      <td>0.058824</td>\n",
              "      <td>0</td>\n",
              "    </tr>\n",
              "    <tr>\n",
              "      <th>26</th>\n",
              "      <td>11229967fd557865d3f3187da9c7fb776a3fa6f4</td>\n",
              "      <td>20180801</td>\n",
              "      <td>Social</td>\n",
              "      <td>NaN</td>\n",
              "      <td>NaN</td>\n",
              "      <td>NaN</td>\n",
              "      <td>NaN</td>\n",
              "      <td>NaN</td>\n",
              "      <td>NaN</td>\n",
              "      <td>NaN</td>\n",
              "      <td>NaN</td>\n",
              "      <td>NaN</td>\n",
              "      <td>NaN</td>\n",
              "      <td>NaN</td>\n",
              "      <td>0.000623</td>\n",
              "      <td>National</td>\n",
              "      <td>NaN</td>\n",
              "      <td>NaN</td>\n",
              "      <td>0.064103</td>\n",
              "      <td>0</td>\n",
              "    </tr>\n",
              "    <tr>\n",
              "      <th>27</th>\n",
              "      <td>c2614d80b9c02e0d2188ac29a2da52140def12a1</td>\n",
              "      <td>20180801</td>\n",
              "      <td>Shopping</td>\n",
              "      <td>NaN</td>\n",
              "      <td>NaN</td>\n",
              "      <td>NaN</td>\n",
              "      <td>NaN</td>\n",
              "      <td>NaN</td>\n",
              "      <td>NaN</td>\n",
              "      <td>NaN</td>\n",
              "      <td>NaN</td>\n",
              "      <td>NaN</td>\n",
              "      <td>NaN</td>\n",
              "      <td>NaN</td>\n",
              "      <td>0.000134</td>\n",
              "      <td>National</td>\n",
              "      <td>NaN</td>\n",
              "      <td>NaN</td>\n",
              "      <td>0.285714</td>\n",
              "      <td>0</td>\n",
              "    </tr>\n",
              "    <tr>\n",
              "      <th>28</th>\n",
              "      <td>7657dad688f525701cc0e653971aa34e3e5deb47</td>\n",
              "      <td>20180801</td>\n",
              "      <td>Travel &amp; Local</td>\n",
              "      <td>NaN</td>\n",
              "      <td>NaN</td>\n",
              "      <td>NaN</td>\n",
              "      <td>NaN</td>\n",
              "      <td>NaN</td>\n",
              "      <td>NaN</td>\n",
              "      <td>NaN</td>\n",
              "      <td>NaN</td>\n",
              "      <td>NaN</td>\n",
              "      <td>NaN</td>\n",
              "      <td>NaN</td>\n",
              "      <td>0.000073</td>\n",
              "      <td>National</td>\n",
              "      <td>NaN</td>\n",
              "      <td>NaN</td>\n",
              "      <td>0.272727</td>\n",
              "      <td>0</td>\n",
              "    </tr>\n",
              "    <tr>\n",
              "      <th>29</th>\n",
              "      <td>a2710d3be15fecc472e5b9f4a675c9fed09e1f1f</td>\n",
              "      <td>20180801</td>\n",
              "      <td>Health &amp; Fitness</td>\n",
              "      <td>NaN</td>\n",
              "      <td>NaN</td>\n",
              "      <td>NaN</td>\n",
              "      <td>NaN</td>\n",
              "      <td>NaN</td>\n",
              "      <td>NaN</td>\n",
              "      <td>NaN</td>\n",
              "      <td>NaN</td>\n",
              "      <td>NaN</td>\n",
              "      <td>NaN</td>\n",
              "      <td>NaN</td>\n",
              "      <td>0.000086</td>\n",
              "      <td>National</td>\n",
              "      <td>NaN</td>\n",
              "      <td>NaN</td>\n",
              "      <td>0.714286</td>\n",
              "      <td>0</td>\n",
              "    </tr>\n",
              "  </tbody>\n",
              "</table>\n",
              "</div>"
            ],
            "text/plain": [
              "                                        UUID  ...  funding_ind\n",
              "0   c1ad38e2d357610c129657d870ede902e8abfcb9  ...            0\n",
              "1   d841e670d9191f896a0cbc75961920887b375756  ...            0\n",
              "2   0a59d138b3eaccd22b665eae70c756fef83ddb63  ...            0\n",
              "3   0a59d138b3eaccd22b665eae70c756fef83ddb63  ...            0\n",
              "4   df5fb9891f77df24a91d039f1817c6c4e79244ef  ...            0\n",
              "5   3d82666e19078799205cee6998a6c5dd8b6add2a  ...            0\n",
              "6   7dd8f8918e91940bb6f8af0b4889fedaf421d0db  ...            0\n",
              "7   029c8ea1565578af1d3a79dfd186ad6e590ce362  ...            0\n",
              "8   08a19c746c758161bc0436f74163f5e206dad50b  ...            0\n",
              "9   0d30ce53c1f76f5ee21425b461ebf28e82728505  ...            0\n",
              "10  65a3985f1f08572b6a79b93f8e88b494d3ab95cb  ...            0\n",
              "11  ded747f467ba486ce882aa40aa6db23562c7e5de  ...            0\n",
              "12  ded747f467ba486ce882aa40aa6db23562c7e5de  ...            0\n",
              "13  157b47544d03b7201fd6fada350a004bbbf6309f  ...            0\n",
              "14  ae2dbcd7694da4e9e3ad3af29d9bb166c26baa8d  ...            0\n",
              "15  59b96406cd7a992dc0e87364cadb7f15e2080b37  ...            0\n",
              "16  5b155c479a0b92bd1e35a754ceb2b3dc9f5348c9  ...            0\n",
              "17  68dfffa93ac8ff25837b2ff26f2ef55aa368b4bd  ...            0\n",
              "18  4659572d0e800a31610786219b6ec3e687d6a8e7  ...            0\n",
              "19  552630be5f5b4740ab6ad2d7b3f40cad5a7e385f  ...            0\n",
              "20  e99bdef7d99ed0edff0f364e6b83b4f28e13f812  ...            0\n",
              "21  9a074aaf967f27feeb40fcf832cb7645ba519a83  ...            0\n",
              "22  49117d2d12c60ea85dc5e8af846ba7bc652393e3  ...            0\n",
              "23  8ea2433fe6316166c330acf85709532620f0af8e  ...            0\n",
              "24  ea82b71fe237c5d6c6f5fc3a41481b8717f8ee3e  ...            0\n",
              "25  d2e0d088182becae053edb1a6ef65ccb6f12dfce  ...            0\n",
              "26  11229967fd557865d3f3187da9c7fb776a3fa6f4  ...            0\n",
              "27  c2614d80b9c02e0d2188ac29a2da52140def12a1  ...            0\n",
              "28  7657dad688f525701cc0e653971aa34e3e5deb47  ...            0\n",
              "29  a2710d3be15fecc472e5b9f4a675c9fed09e1f1f  ...            0\n",
              "\n",
              "[30 rows x 20 columns]"
            ]
          },
          "metadata": {
            "tags": []
          },
          "execution_count": 44
        }
      ]
    },
    {
      "cell_type": "code",
      "metadata": {
        "colab": {
          "base_uri": "https://localhost:8080/"
        },
        "id": "Z2e1dTkefSe8",
        "outputId": "c5d0d182-2d3a-4c4c-8132-5f498351de68"
      },
      "source": [
        "null_avg_time.shape"
      ],
      "execution_count": null,
      "outputs": [
        {
          "output_type": "execute_result",
          "data": {
            "text/plain": [
              "(624522, 20)"
            ]
          },
          "metadata": {
            "tags": []
          },
          "execution_count": 46
        }
      ]
    },
    {
      "cell_type": "code",
      "metadata": {
        "colab": {
          "base_uri": "https://localhost:8080/"
        },
        "id": "Yi0R7kFMdD2b",
        "outputId": "55e9813d-0b2d-412d-cff8-36a0db7accd2"
      },
      "source": [
        "null_avg_time.isnull().sum()"
      ],
      "execution_count": null,
      "outputs": [
        {
          "output_type": "execute_result",
          "data": {
            "text/plain": [
              "UUID                       816\n",
              "month                        0\n",
              "Application Category         0\n",
              "Avg_Session_Time        624522\n",
              "Business Models         623464\n",
              "City                    623467\n",
              "Company Stage           623464\n",
              "Feed Name               623464\n",
              "Founded Year            623464\n",
              "Latest Funded Date      623464\n",
              "MAU                     624481\n",
              "Open_Rate               624460\n",
              "Overview                623464\n",
              "Practice Areas          623464\n",
              "Reach                      113\n",
              "Region                       0\n",
              "Total Funding (USD)     623595\n",
              "Total_Session_Time      624483\n",
              "Uninstall_Rate          384661\n",
              "funding_ind                  0\n",
              "dtype: int64"
            ]
          },
          "metadata": {
            "tags": []
          },
          "execution_count": 45
        }
      ]
    },
    {
      "cell_type": "code",
      "metadata": {
        "colab": {
          "base_uri": "https://localhost:8080/"
        },
        "id": "atB5WCbvf50N",
        "outputId": "3e169705-c5af-4841-ae1c-8c6e02e62445"
      },
      "source": [
        "null_avg_time['funding_ind'].value_counts()"
      ],
      "execution_count": null,
      "outputs": [
        {
          "output_type": "execute_result",
          "data": {
            "text/plain": [
              "0    623464\n",
              "1      1058\n",
              "Name: funding_ind, dtype: int64"
            ]
          },
          "metadata": {
            "tags": []
          },
          "execution_count": 53
        }
      ]
    },
    {
      "cell_type": "code",
      "metadata": {
        "colab": {
          "base_uri": "https://localhost:8080/"
        },
        "id": "ElOZ9osheP0T",
        "outputId": "28aab10a-4027-48aa-b09f-dec04e0f9186"
      },
      "source": [
        ""
      ],
      "execution_count": null,
      "outputs": [
        {
          "output_type": "stream",
          "text": [
            "UUID\n",
            "\n",
            "  ['c1ad38e2d357610c129657d870ede902e8abfcb9'\n",
            " 'd841e670d9191f896a0cbc75961920887b375756'\n",
            " '0a59d138b3eaccd22b665eae70c756fef83ddb63' ...\n",
            " 'edcbe5f1ad6b3c0400e60d38a07a5cdaabc4b1a8'\n",
            " 'e9f9a92b05dbb720db6d49a85b2ed243fe373ccd'\n",
            " '6495e1a3ddf8ac88f119ba60eb5880da263d588c']\n",
            "month\n",
            "\n",
            "  [20180801 20190601 20191201 20200301 20190201 20200201 20190301 20200601\n",
            " 20180901 20190701 20181201 20190801 20190901 20180701 20181001 20181101\n",
            " 20191001 20200101 20200501 20190401 20200401 20190501 20191101 20190101]\n",
            "Application Category\n",
            "\n",
            "  ['Books & Reference' 'Finance' 'Productivity' 'Travel & Local' 'Education'\n",
            " 'Health & Fitness' 'Lifestyle' 'Music & Audio' 'Medical' 'Business'\n",
            " 'Maps & Navigation' 'Social' 'Shopping' 'Tools' 'Puzzle' 'Adventure'\n",
            " 'Sports' 'Casual' 'Food & Drink' 'Art & Design' 'Entertainment' 'Card'\n",
            " 'Racing' 'Photography' 'Board' 'Role Playing' 'Action' 'Simulation'\n",
            " 'Strategy' 'Educational' 'News & Magazines' 'Video Players & Editors'\n",
            " 'Personalization' 'Weather' 'Communication' 'Parenting' 'Auto & Vehicles'\n",
            " 'Arcade' 'Beauty' 'Comics' 'Trivia' 'Libraries & Demo' 'Dating'\n",
            " 'House & Home' 'Music' 'Events' 'Word' 'Casino']\n",
            "Avg_Session_Time\n",
            "\n",
            "  [       nan 0.94861977 1.28534346 ... 0.9408003  0.36134651 1.3463    ]\n",
            "Business Models\n",
            "\n",
            "  [nan 'Mom & Baby Care > Parenting > Community' 'Social Platforms > Women'\n",
            " 'Investment Tech > Online Trading Platforms > Public Market Funds > Mutual Funds'\n",
            " 'Online Travel > Transportation > Train > Online Agency'\n",
            " 'HRTech > HRMS > Suite > Enterprise\\nCross Border - India > Enterprise > Enterprise Apps > HR Tech > HRMS'\n",
            " 'Cybersecurity > Anti Fraud > Financial Fraud > Payment Fraud\\nPaaS > Technology Platform > Artificial Intelligence\\nAI Infrastructure > Machine Intelligence Systems > Workbenches\\nInsurance IT > Insurance Policy Solutions > Insurance Software Suite > Diversified'\n",
            " 'Alternative Lending > Online Lenders > Consumer Loans > Personal Loans > Marketplace\\nConsumer and SME Loans > Consumer Loans > Personal Loans > Internet-First'\n",
            " 'Fitness & Wellness Tech > Physical Fitness > Fitness and Diet Training Apps > Fitness & Nutrition > Personalized Coaching > Expert-Led\\nFood Tech > Technology Enablers > Nutritionists > Meal Planning\\nCross Border - India > Healthcare'\n",
            " 'Local Services > Personal Wellness Services > Fitness & Training > Fitness Centers > Marketplace > Subscription\\nFitness & Wellness Tech > Physical Fitness > Fitness Centers > Marketplaces > Membership Pass'\n",
            " 'Payments > Business Payments > Agent Based Payments\\nBanking Tech > Correspondent Banking > Enablers'\n",
            " 'Investment Tech > Online Trading Platforms > Stocks > Regular Trading > Brokers > Discount'\n",
            " 'Horizontal E-Commerce > Marketplace'\n",
            " 'Online Travel > Transportation > Car > Rental > Own Fleet > Station Based\\nRoad Transport Tech > Self Drive Rentals > Car > Own Fleet > Station-Based\\nOnline Rental > Vehicles > Cars > P2P\\nY Combinator Batches > 2016 > Summer'\n",
            " 'Alternative Lending > Lead Generation Platforms > Loan Comparison Platforms > Consumer Loans > Diversified'\n",
            " 'Fitness & Wellness Tech > Physical Fitness > Tracking and Monitoring > Activity Trackers > Wearable Devices > Wristwear'\n",
            " 'Mobile Gaming > Game Publishers\\neSports > League Organizers'\n",
            " 'Higher Education Tech > Admissions Support for Students > Scholarships > Discovery'\n",
            " \"Beauty Tech > Ecommerce > Men's Grooming > Multi-Category > Full Range > Internet First Brand\\nHealthcare Booking Platforms > Pharmacies > Drugs > Mens Health > Telepharmacy\"\n",
            " 'Continued Learning > Professional > Online Learning > Multi Disciplinary > Online Tutoring'\n",
            " 'Second Hand Goods > Multi Category > Listings'\n",
            " 'Healthcare IT > Employer > Population Health Management\\nEmployee Health IT > Healthcare Benefits Administration > Benefits Marketplace'\n",
            " 'Alternative Lending > Online Lenders > Consumer Loans > Diversified > Marketplace'\n",
            " 'Social Platforms > Horizontal > Social Maps\\nOnline Event Ticketing > Multicategory > Marketplace > Home Hosted Events\\nY Combinator Batches > 2019 > Winter'\n",
            " 'Social Platforms > Horizontal > Audio Sharing\\nVernacular Platforms > On-Demand-Streaming Platforms > Audio Streaming > Podcasts\\nRadio Tech > Internet Radio & Podcast > Streaming > Podcast > Network\\nAxilor Ventures Batches > 2018 > Winter'\n",
            " 'Disease Self Management > Diabetes > Monitoring > Glucose > Device\\nDiabetes > Medical Devices > Monitoring Devices > On Demand > Invasive'\n",
            " 'Alternative Lending > Online Lenders > Consumer Loans > Personal Loans > Marketplace > P2P'\n",
            " 'Internet First Media > News Portals > Aggregators > Audio\\nY Combinator Batches > 2019 > Summer'\n",
            " 'Music Tech > Streaming > On Demand > Regional Music > Indian\\nVernacular Platforms > On-Demand-Streaming Platforms > Audio Streaming > Music'\n",
            " 'Social Commerce > Reselling Platforms > Diversified\\nY Combinator Batches > 2016 > Summer'\n",
            " 'Healthcare Booking Platforms > Pharmacies > Drugs > Diversified\\nFitness & Wellness Tech > Commerce > Supplements > Retail'\n",
            " 'Auto E-Commerce & Content > Second Hand Vehicles > Multi Category > Listings\\nSecond Hand Goods > Auto > Horizontal > B2C > Listings'\n",
            " 'Alternative Lending > Online Lenders > Business Loans > Diversified > Direct Lender\\nConsumer and SME Loans > SME Loans > Term Loans'\n",
            " 'Road Transport Tech > Ride Hailing > Cars > Taxi > Intracity > Aggregator'\n",
            " 'Smart Homes > Home Appliances > Smart Fans > Internet First Brands\\nEnergy Efficiency Tech > Thermal Products > HVAC > Smart Fans'\n",
            " 'Second Hand Goods > Electronics > Outright Buy > Buy-back only\\nConsumer Electronics E-Commerce > Second Hand > Multi Category > Outright Buy'\n",
            " 'Security & Surveillance Technology > Location Tracking > Vehicle Tracking\\nConnected Vehicles > Vehicle Telematics > Consumer Telematics > Vehicle Tracking\\nLogistics Tech > Freight > Trucking > Technology enablers > Fleet Management > Fleet Tracking'\n",
            " 'Internet First Media > News Portals > Aggregators > Summaries\\nAxilor Ventures Batches > 2019 > Summer'\n",
            " 'Local Services > Multi Services > Own Fleet'\n",
            " 'Electric Vehicles > Automaker > Two Wheelers > Multi Category Two Wheelers'\n",
            " 'Alternative Lending > Online Lenders > Consumer Loans > Personal Loans > Marketplace\\nInvestment Tech > Wealth Management Platforms > Expense Management > Expenses Aggregation > Account Linked'\n",
            " 'Online Grocery > B2C Ecommerce > Meat and Seafood > Retailer > Meat\\nLivestock Tech > ECommerce > Farm Produce > B2C > Retailer > Meat'\n",
            " 'Internet First Media > News Portals > Publishers > Global > Viral\\nOTT Video > Multi Channel Networks (MCN)'\n",
            " 'Vernacular Platforms > Bookkeeping Software\\nIn Store Retail Tech > Store Operations Management > Billing and Accounting > Kirana Stores\\nFinance & Accounting Tech > Accounting Solutions > Record to Report > Bookkeeping > Small Businesses\\nY Combinator Batches > 2018 > Summer'\n",
            " 'Local Services > Multi Services > Listings > Local Businesses\\nSocial Platforms > Interest Based'\n",
            " 'Online Gifting > Personalized Celebrity Video Shout Outs'\n",
            " 'Fashion Tech > B2C Commerce > Apparel > Ethnic Wear > Women > Retailer'\n",
            " 'Road Transport Tech > Self Drive Rentals > Motorized Two-Wheeler > Own-Fleet > Station-Based\\nOnline Rental > Vehicles > Motorbikes > B2C > Station Based'\n",
            " 'Remittance > Internet First Platforms > P2P Remittance > Banking Channels\\nForex Tech > Foreign Currency Services > Diversified'\n",
            " 'Residential Real Estate Tech > Listings > P2P\\nCommercial Real Estate Tech > Listings'\n",
            " 'Food & Beverage Products > Beverages > Juices and Dilutables > Juices > Cold-pressed'\n",
            " 'E-Commerce Enablers > Shopping Cart > Proprietary > Web'\n",
            " 'Road Transport Tech > Self Drive Rentals > Motorized Two-Wheeler > Own-Fleet > Free-Float\\nOnline Rental > Vehicles > Motorbikes > B2C > Free Float'\n",
            " 'Banking Tech > Internet First Banks > Through Bank Partnerships > Retail Banking'\n",
            " 'Local Services > Personal Wellness Services > Fitness & Training > Fitness Centers > Marketplace > Pay-As-You-Go\\nFitness & Wellness Tech > Physical Fitness > Fitness Centers > Marketplaces > Subscription'\n",
            " 'K-12 EdTech > B2C Learning Solutions > School Curriculum > Multi Subject > Online Courses\\nTest Preparation Tech > Digital Learning > Diversified > Doubts clearance\\nSurge Batches > 2019 > Surge 01'\n",
            " 'Food Tech > Food Discovery and Ordering > Dine Out > Reservation and Ordering > Table Booking > Restaurants'\n",
            " 'Online Travel > Accommodation > Hotel > Aggregator'\n",
            " 'Sales Force Automation > Productivity Tools > Virtual Assistant\\nField Force Automation > Multi-Industry > Applications > Sales > Field sales productivity > Virtual Assistant\\nBanking Tech > CRM\\nInsurance IT > Corporate Functions > Sales & Marketing\\nCross Border - India > Enterprise > Enterprise Apps > Sales Force Automation\\nPlug and Play Tech Center Batches > Insurtech > Batch 4'\n",
            " 'Internet First Insurance Platforms > Internet First Insurers > Diversified'\n",
            " 'Healthcare IT > Provider > Hospital Information Systems > Standalone EMR'\n",
            " 'Digital Publishing Platforms > Storytelling Platforms > Poetry'\n",
            " 'Home Improvements > B2C Commerce > Home Appliances > Kitchen Appliances > Diversified > Internet First Brand'\n",
            " 'Food Tech > Internet First Restaurant > OnDemand'\n",
            " 'B2B E-Commerce > Food & Beverages > Groceries > Farm Products > Marketplace\\nOnline Grocery > B2B Ecommerce > Farm Produce > Multi-Category > Marketplace\\nCrop Tech > ECommerce > Farm Produce > B2B > Fruits and Vegetables > Marketplace\\nY Combinator Batches > 2016 > Winter'\n",
            " 'Test Preparation Tech > Digital Learning > Undergraduate > Medical > Self-Paced'\n",
            " 'Alternative Lending > Lead Generation Platforms > Loan Comparison Platforms > Diversified'\n",
            " 'Nutraceuticals > Dietary Supplements'\n",
            " 'Disease Self Management > Personal Health Records\\nHealthcare IT > Horizontal > Collaboration Platforms > Middleware > Hospital Information System\\nCIIE Batches > 2018'\n",
            " 'Vernacular Platforms > Education > Language Learning\\nLanguage Learning > B2C Learning Solutions > Courses > Self Paced > Horizontal\\nAxilor Ventures Batches > 2017 > Summer'\n",
            " 'Alternative Lending > Online Lenders > Consumer Loans > Personal Credit Lines > Marketplace\\nPayments > Consumer Payments > Payment Cards > Credit Cards > General Purpose > Personal Line of Credit'\n",
            " 'Road Transport Tech > Ride Hailing > Cars > Taxi > Intracity > Own-Fleet > Electric\\nElectric Vehicles > Vehicle as a Service > Cars > Ride Hailing'\n",
            " 'Online Grocery > B2C Ecommerce > Multi Category > Marketplace > Own Delivery Fleet'\n",
            " 'Road Transport Tech > Ride Hailing > Three-Wheelers > Electric\\nElectric Vehicles > Vehicle as a Service > Three Wheelers'\n",
            " 'Food Tech > Technology Enablers > Restaurants > POS'\n",
            " 'Healthcare IT > Provider > Administrative Solutions > Materials Management > Procurement > Dental Supplies'\n",
            " 'Online Travel > Transportation > Bus > Aggregator\\nRoad Transport Tech > Mass Transit > Bus > Intercity > Aggregator'\n",
            " 'Alternative Lending > Online Lenders > Consumer Loans > Personal Loans > Marketplace'\n",
            " 'Sports Tech > Booking Platforms > Horizontal > Multi Sports'\n",
            " 'Test Preparation Tech > Digital Learning > Government Services > Self-Paced'\n",
            " 'Online Travel > Holiday Packages > Marketplace'\n",
            " 'Healthcare Booking Platforms > Doctors > Telemedicine > Teleconsultation > Diversified'\n",
            " 'Internet First Insurance Platforms > Internet First Insurers > Health > Usage-based'\n",
            " 'Influencer E-Commerce > Live Video\\nVideo Commerce > Live Stream Commerce'\n",
            " 'Music Tech > Streaming > Internet Radio > Aggregators\\nVernacular Platforms > On-Demand-Streaming Platforms > Audio Streaming > Podcasts\\nRadio Tech > Internet Radio & Podcast > Streaming > Podcast > Network > Regional > Indian'\n",
            " 'Online Travel > Transportation > Car > Rental > Own Fleet > Station Based\\nRoad Transport Tech > Self Drive Rentals > Car > Own Fleet > Station-Based\\nOnline Rental > Vehicles > Cars > B2C > Station Based'\n",
            " 'Mom & Baby Care > Commerce > Multi Category > Internet First Brand'\n",
            " 'Alternative Lending > Online Lenders > Diversified > Marketplace'\n",
            " 'Online Health Information > Social Platforms > Patient Networks > Women Health\\nSocial Platforms > Interest Based > Health and Wellness > Women Health > Pregnancy and Parenting\\nMom & Baby Care > Parenting > Community'\n",
            " 'Alternative Lending > Online Lenders > Consumer Loans > Micro Loans > Marketplace'\n",
            " 'Investment Tech > Wealth Management Platforms > Financial Planners and Advisors'\n",
            " 'Healthcare IT > Provider > Administrative Solutions > HR > Learning & Development > CME\\nCorporate Learning > Learning Platforms > Healthcare > Interactive Learning\\nCIIE Batches > 2015'\n",
            " 'Local Services > Astrology\\nReligion Tech > Ecommerce > Services > Astrology'\n",
            " 'Payments > Enablers > Open Banking APIs\\nBanking Tech > Open Banking > Aggregation APIs'\n",
            " 'Mobile Gaming > Game Developers > Casual > Casino'\n",
            " 'K-12 EdTech > Tech for Teachers > Student Assessment'\n",
            " 'Field Force Automation > Logistics\\nLogistics Tech > Freight > Multimodal > Technology Enablers\\nE-Commerce Enablers > Backend > End-to-End Logistics\\nCross Border - India > Enterprise > Industry Verticals > Logistics\\nPlug and Play Tech Center Batches > Supply Chain > Batch 4'\n",
            " 'Healthcare IT > Provider > Administrative Solutions > Materials Management > Procurement > Generic'\n",
            " 'Internet First Media > Sports > Publishers > Cricket'\n",
            " 'Fashion Tech > B2C Commerce > Footwear > Casual Wear > Multi Category > Men and Women > Internet First Brand'\n",
            " 'Alternative Lending > Online Lenders > Business Loans > Merchant Cash Advance > Direct Lender\\nConsumer and SME Loans > SME Loans > Working Capital Loans > Internet-First'\n",
            " 'K-12 EdTech > B2C Learning Solutions > School Curriculum > Multi Subject > Online Tutoring\\nTest Preparation Tech > Digital Learning > Undergraduate > General Admission Tests > Instructor-Led'\n",
            " 'Wedding Tech > Planning > Vendor Services > Horizontal > Listing'\n",
            " 'Healthcare IT > Value Based Care > Remote Monitoring > Hardware > Cardiology > Tele ECG\\nCardiac and Vascular Disorders > Medical Devices > Screening Devices > Cardiac Diagnostic > Electrodiagnostic Testing (ECG) > Clinic Based'\n",
            " 'Crop Tech > ECommerce > Retail Enablers'\n",
            " 'K-12 EdTech > B2C Learning Solutions > School Curriculum > Multi Subject > Activity Based Learning > Games'\n",
            " 'Payments > Enablers > Open Banking APIs\\nBanking Tech > Open Banking > Banking APIs'\n",
            " 'K-12 EdTech > New Age Tuition Centers'\n",
            " 'Religion Tech > Ecommerce > Products'\n",
            " 'Online Grocery > B2C Ecommerce > Multi Category > Marketplace > Drop Shipping'\n",
            " 'Road Transport Tech > Self Drive Rentals > Bicycles > Own-Fleet > Station-Based > Electric\\nOnline Rental > Vehicles > Bicycles > B2C > Station Based\\nElectric Vehicles > Vehicle as a Service > Bicycles > Station Based'\n",
            " 'Road Transport Tech > Ride Hailing > Motorized Two-Wheelers'\n",
            " 'HRTech > HRMS > Employee Onboarding\\nCross Border - India > Enterprise > Enterprise Apps > HR Tech > HRMS > Onboarding'\n",
            " 'Cryptocurrencies > Financial Services > Investment Industry > Online Trading Platforms > Algo Trading'\n",
            " 'Mom & Baby Care > Parenting > Tech Solutions > Apps > Monitoring > Smartphone Activity\\nK-12 EdTech > Internet Safety'\n",
            " 'Sales Force Automation > CRM > Enterprise Suite > Multi-Industry\\nMarketingTech > Suite\\nCustomer Success Management > Suite\\nCustomer Service Software > Suite'\n",
            " 'B2B E-Commerce > Food & Beverages > Groceries > Farm Products > E-Distributor\\nOnline Grocery > B2B Ecommerce > Multi-Category > E-Distributor'\n",
            " 'K-12 EdTech > B2B2C Learning Solutions > School Curriculum > Multi Subject > Online Tutoring'\n",
            " 'Payments > Business Payments > POS Payments > POS Payment Terminal'\n",
            " 'Commercial Real Estate Tech > CoWorking > Managed'\n",
            " 'Mobile Gaming > Gaming Platforms\\neSports > eSports Platforms > Competitive Gaming > Real Money Gaming'\n",
            " 'Online Grocery > B2C Ecommerce > Multi Category > Retailer > Own Delivery Fleet'\n",
            " 'Electric Vehicles > Vehicle as a Service > Bicycles > Station Based'\n",
            " 'Fashion Tech > B2C Commerce > Accessories > Jewellery > Internet-first brands > Precious'\n",
            " 'MarketingTech > Omnichannel Marketing\\nCustomer Service Software > Call Center > Agent Productivity\\nCross Border - India > Enterprise > Enterprise Apps > Marketing Tech'\n",
            " 'Life Sciences Tech > Supply Chain Solutions > Tech Enabled Distributors'\n",
            " 'Alternative Lending > Online Lenders > Diversified > Direct Lender\\nConsumer and SME Loans > SME Loans > Working Capital Loans'\n",
            " 'Auto E-Commerce & Content > Second Hand Vehicles > Cars > Listings\\nSecond Hand Goods > Auto > Cars > B2C > Listings'\n",
            " 'Coupons and Deals > Rewards & Cashback > Online > Horizontal'\n",
            " 'Crop Tech > Post Harvest Management > Traceability'\n",
            " 'Alternative Lending > Consumer Debt Management > Credit Score Management > Credit Score Check'\n",
            " 'K-12 EdTech > B2C Learning Solutions > School Curriculum > Multi Subject > Horizontal\\nTest Preparation Tech > Digital Learning > Diversified > Self-Paced\\nY Combinator Batches > 2020 > Winter'\n",
            " 'Internet First Media > News Portals > Aggregators > Summaries'\n",
            " 'In Store Retail Tech > Retail Store Aggregator'\n",
            " 'Fashion Tech > B2C Commerce > Multi Category > Internet First Brand > Conventional Fabrics > Women'\n",
            " 'Payments > Business Payments > Reward Points Payments'\n",
            " 'Internet First Insurance Platforms > Insurance Comparison Platforms > Diversified > Rural Focused'\n",
            " 'Vernacular Platforms > Education > Continuous Learning > Programming\\nContinued Learning > Professional > Online Learning > IT Education > Diversified > Online Courses'\n",
            " 'HRTech > Benefits Administration > Benefits Marketplace\\nEmployer Insurance > Benefits Marketplace\\nHealthcare IT > Employer > Benefits Administration\\nEmployee Health IT > Healthcare Benefits Administration > Benefits Marketplace'\n",
            " 'K-12 EdTech > School IT > Learning Management System'\n",
            " 'Healthcare Booking Platforms > Pharmacies > Drugs > Diversified'\n",
            " 'Online Travel > Horizontal > Metasearch'\n",
            " 'Alternative Lending > Online Lenders > Consumer Loans > Farm Loans > Marketplace\\nCrop Tech > Finance > Loans'\n",
            " 'Beauty Tech > Ecommerce > Multi Category > Organic > Internet First Brand\\nBeauty & Personal Care Products > Multi Category > Natural > Internet First Brand'\n",
            " 'Logistics Tech > Parcel > Hyperlocal > B2C > Food\\nFood Tech > Technology Enablers > Restaurants > Analytics'\n",
            " 'Mobile App Studios > Horizontal'\n",
            " 'Test Preparation Tech > Digital Learning > Certification Exams > Finance > Self-Paced'\n",
            " 'Higher Education Tech > B2C Learning Solutions > Learning Resources > Diversified'\n",
            " 'Beauty Tech > Ecommerce > Multi Category > Full Range > Retail'\n",
            " 'In Store Retail Tech > Informal Distribution > Marketplace\\nB2B E-Commerce > Food & Beverages > Groceries > Processed Products > Marketplace\\nOnline Grocery > B2B Ecommerce > Packaged Food Products > Marketplace'\n",
            " 'Subscription Commerce > Food & Beverages > Grocery\\nOnline Grocery > B2C Ecommerce > Multi Category > Retailer > Subscription > Daily Needs'\n",
            " 'Continued Learning > Professional > Online Learning > Multi Disciplinary > Online Courses'\n",
            " 'Logistics Tech > Freight > Trucking > Light Cargo'\n",
            " 'Payments > Consumer Payments > Wallets'\n",
            " 'HRTech > Benefits Administration > Employee Wellness\\nDisease Self Management > Diabetes\\nHealthcare IT > Employer > Wellness Platform\\nEmployee Health IT > Tech Enabled Services > Physical Fitness\\nY Combinator Batches > 2020 > Winter'\n",
            " 'Residential Real Estate Tech > CoLiving > Marketplace > Student Accommodation'\n",
            " 'Healthcare Booking Platforms > Medical Procedures > Listing > Price Comparison\\nHealthcare IT > Provider > Administrative Solutions > Hospital Operations > Appointment Management > Appointment Booking'\n",
            " 'Alternative Lending > Online Lenders > Consumer Loans > Micro Loans > Direct Lender > For College Students'\n",
            " 'Vernacular Platforms > Digital Media Platforms > Self-publishing Platforms\\nDigital Publishing Platforms > Storytelling Platforms > Horizontal > Vernacular'\n",
            " 'Virtual Reality > Applications > Tourism > Online\\nOnline Travel > Guidebooks > Tours & Activities > Local Attractions > VR'\n",
            " 'Healthcare IT > Provider > Hospital Information Systems > PM & EHR Platforms > Generic'\n",
            " 'Online Rental > Furniture and Appliances > Multi Category\\nHome Improvements > Rental > Multi Category'\n",
            " 'Residential Real Estate Tech > Home Rentals > Marketplace'\n",
            " 'Fitness & Wellness Tech > Physical Fitness > Fitness and Diet Training Apps > Fitness > Apps > Training\\nSurge Batches > 2019 > Surge 02'\n",
            " 'Wearable Technology > Pet Wearables > Cattle Monitoring\\nIoT Applications > Industry Specific > Agriculture > Livestock\\nLivestock Tech > Livestock Management Software > Cattle'\n",
            " 'Healthcare IT > Employer > Social Networks\\nEmployee Health IT > Tech Enabled Services > Physical Fitness > Online Community'\n",
            " 'Logistics Tech > Parcel > Hyperlocal Delivery > B2C > Food\\nFood Tech > Food Discovery and Ordering > Restaurant Aggregator > Platform Delivered'\n",
            " 'Payments > Business Payments > Agent Based Payments'\n",
            " 'Sports Tech > Social Network > Fans > Multi Sports\\nSocial Platforms > Interest Based > Sports > Fans > Multi Sports'\n",
            " 'Home Improvements > B2C Commerce > Horizontal > Internet First Brand\\nHome Furnishing Products > Multi-Category > Internet First Brand'\n",
            " 'Vernacular Platforms > Bookkeeping Software\\nIn Store Retail Tech > Store Operations Management > Billing and Accounting > Kirana Stores\\nFinance & Accounting Tech > Accounting Solutions > Record to Report > Bookkeeping > Small Businesses\\nY Combinator Batches > 2019 > Summer\\nSurge Batches > 2019 > Surge 01'\n",
            " 'Legal Tech > Legal Marketplace > Lawyers'\n",
            " 'Fashion Tech > B2C Commerce > Accessories > Jewellery > Internet-first brands > Fast Fashion'\n",
            " 'Home Improvements > B2C Commerce > Furniture > Marketplace > Customized'\n",
            " 'Online Travel > Transportation > Bus > Aggregator\\nRoad Transport Tech > Mass Transit > Bus > Intercity > Aggregator\\nY Combinator Batches > 2016 > Summer'\n",
            " 'E-Commerce Enablers > Suite\\nB2B E-Commerce > Horizontal > Marketplace'\n",
            " 'Fitness & Wellness Tech > Physical Fitness > Fitness Centers > Tech Heavy Fitness Centers'\n",
            " 'Logistics Tech > Ecommerce Logistics > End to End Delivery Services > Own Fleet'\n",
            " 'Disease Self Management > Gastroenterology > Monitoring > Diet Management > Diseases > Diversified > App\\nHealthcare IT > Value Based Care > Patient Engagement > Digital Therapeutics > Chronic'\n",
            " 'Coupons and Deals > Rewards & Cashback > O2O > Horizontal > Mobile'\n",
            " 'Investment Tech > Wealth Management Platforms > Robo Advisors > Horizontal'\n",
            " 'Online Travel > Corporate Travel > Expense Management\\nPayments > Consumer Payments > Payment Cards > Prepaid Cards > General Purpose > Reloadable > NFC\\nFinance & Accounting Tech > Accounting Solutions > Procure to Pay > Travel & Expense > Expense Approval'\n",
            " 'Virtual Reality > Applications > Tourism > Online\\nAugmented Reality > Applications > Travel & Tourism\\nOnline Travel > Guidebooks > Horizontal > VR'\n",
            " 'Healthcare Booking Platforms > Diagnostics > Marketplaces'\n",
            " 'Healthcare Booking Platforms > Diversified'\n",
            " 'In Store Retail Tech > Payments > POS\\nPayments > Business Payments > Diversified\\nFood Tech > Technology Enablers > Restaurants > POS'\n",
            " 'Mom & Baby Care > Parenting > Content > Blog\\nInternet First Media > Lifestyle > Thematic > Parenting\\nDigital Publishing Platforms > Blogging > Parenting'\n",
            " 'Residential Real Estate Tech > Home Rentals > Managed'\n",
            " 'Social Platforms > Horizontal > Photo and Video Sharing\\nVernacular Platforms > Social Media Platforms > Communities'\n",
            " 'HRTech > Applicant Tracking System > Assessment Platform > Interviewing Platform > Video\\nComputer Vision > Industry Agnostic Applications > Human Resources\\nCross Border - India > Enterprise > Enterprise Apps > HR Tech > Recruitment > Video Interview'\n",
            " 'Social Platforms > Interest Based > Fitness\\nFitness & Wellness Tech > Physical Fitness > Social Platforms\\nY Combinator Batches > 2020 > Winter'\n",
            " 'Online Travel > Social Platforms > Travelogue\\nSocial Platforms > Interest Based > Travel'\n",
            " 'B2B E-Commerce > Agriculture > E-Distributor\\nCrop Tech > ECommerce > Farm Inputs > Multi Category > Retailer > Content Driven'\n",
            " 'Online Gifting > Ecommerce > Gift Cards > Retail > Digital\\nFinance & Accounting Tech > Payroll Management > Employee Benefits Management'\n",
            " 'Alternative Lending > Online Lenders > Consumer Loans > Diversified > Marketplace\\nY Combinator Batches > 2017 > Winter'\n",
            " 'HRTech > Benefits Administration > Employee Wellness > Fitness Challenges\\nHealthcare IT > Employer > Employee Engagement > Physical Fitness > Coaching\\nEmployee Health IT > Tech Enabled Services > Physical Fitness'\n",
            " 'Crop Tech > Farming as a Service > Tech Enabled Services'\n",
            " 'Vernacular Platforms > Digital Media Platforms > Online Publishers'\n",
            " 'Alternative Lending > Online Lenders > Business Loans > Diversified > Direct Lender'\n",
            " 'Banking Tech > Internet First Banks > Through Bank Partnerships > Business Banking'\n",
            " 'Pharmacy IT > Pharmacy Management Systems'\n",
            " 'Investment Tech > Online Trading Platforms > Forex > Algo Trading > DIY'\n",
            " 'HRTech > Job Board > Pre-Assessed Candidates'\n",
            " 'Auto E-Commerce & Content > Second Hand Vehicles > Multi Category > Marketplace\\nSecond Hand Goods > Auto > Horizontal > B2C > Marketplace'\n",
            " 'Investment Tech > Wealth Management Platforms > Expense Management > Expenses Aggregation > Manual Data Entry'\n",
            " 'Internet First Insurance Platforms > Insurance Comparison Platforms > Diversified'\n",
            " 'Alternative Lending > Online Lenders > Consumer Loans > Education Financing > Loans > Marketplace'\n",
            " 'Online Grocery > Smart Vending Machine > Food > Fresh Meals\\nFood Service Chains > Vending Machines'\n",
            " 'Online Travel > Social Platforms > Travelogue\\nSocial Platforms > Horizontal > Video Sharing > Short Videos\\nSurge Batches > 2019 > Surge 02\\nExtreme Entrepreneurs Batches > 2018'\n",
            " 'OTT Video > OTT Streaming Platforms > Video On Demand (VOD) > News'\n",
            " 'Mobile Gaming > Gaming Platforms > Distribution'\n",
            " 'B2B E-Commerce > Agriculture > Marketplace\\nCrop Tech > ECommerce > Farm Inputs > Multi Category > Retailer'\n",
            " 'Alternative Lending > Online Lenders > Business Loans > Diversified > Marketplace\\nConsumer and SME Loans > SME Loans > Working Capital Loans > Internet-First'\n",
            " 'HRTech > Job Board > Blue Collar'\n",
            " 'Auto E-Commerce & Content > Insurance > Internet First Insurer\\nInternet First Insurance Platforms > Internet First Insurers > Diversified'\n",
            " 'Online Health Information > Internet First Media > Health and Wellness'\n",
            " 'Continued Learning > Professional > Online Learning > IT Education > Diversified > Online Courses > Income Share Agreement'\n",
            " 'Continued Learning > Professional > Online Learning > IT Education > Diversified > Online Tutoring > Income Share Agreement'\n",
            " 'Continued Learning > Tech First Institutions > IT Education'\n",
            " 'K-12 EdTech > New Age Schools > Online'\n",
            " 'K-12 EdTech > School IT > Admin Solutions > Parent Teacher Communication'\n",
            " 'Social Platforms > Interest Based > Education > Higher Education > Q&A Platforms\\nTest Preparation Tech > Digital Learning > Diversified > Self-Paced'\n",
            " 'B2B E-Commerce > Virtual Assets > Marketplace\\nAlternative Lending > Online Lenders > Consumer Loans > Point of Sale Financing > Marketplace'\n",
            " 'Alternative Lending > Lead Generation Platforms > Loan Comparison Platforms > Consumer Loans > Diversified\\nPayments > Consumer Payments > Credit Card Comparison Platforms'\n",
            " 'Payments > Enablers > White Label Solutions > Payment Cards > Prepaid Cards'\n",
            " 'Auto E-Commerce & Content > Second Hand Vehicles > Motorcycles > Marketplace\\nSecond Hand Goods > Auto > Bikes > P2P > Marketplace'\n",
            " 'B2B E-Commerce > Food & Beverages > Groceries > Farm Products > E-Distributor\\nOnline Grocery > B2B Ecommerce > Farm Produce > Fruits and Vegetables > E-Distributor\\nCrop Tech > ECommerce > Farm Produce > B2B > Fruits and Vegetables > E Distributor'\n",
            " 'Sports Tech > Fantasy Sports > Online Platforms > Multi Sports'\n",
            " 'Logistics Tech > Ecommerce Logistics > Last Mile'\n",
            " 'Logistics Tech > Parcel > Technology Enablers > Delivery Management > Last Mile\\nCross Border - India > Enterprise > Enterprise Apps > Field Force Automation\\nPlug and Play Tech Center Batches > Supply Chain > Batch 3'\n",
            " 'Online Grocery > B2C Ecommerce > Multi Category > Marketplace > Outsourced Delivery'\n",
            " 'Food Tech > Catering > Office Focused > Cafeteria Management\\nFacility Management Tech > Office Management > Cafeteria Management'\n",
            " 'Cybersecurity > IAM > Customer IAM > Customer Identity Verification\\nHRTech > Applicant Tracking System > Background Check\\nRegTech > KYC'\n",
            " 'Alternative Lending > Online Lenders > Diversified > Direct Lender\\nConsumer and SME Loans > Diversified > Internet-First'\n",
            " 'Mobile Utility Tools > Mobile OS > Vernacular\\nVernacular Platforms > Operating Systems'\n",
            " 'Augmented Reality > Applications > Entertainment\\nMobile Gaming > Game Developers > Casual > Multi Genre\\neSports > League Organizers'\n",
            " 'Loyalty Software > Coalition Loyalty > Multi Industry > CheckIn based rewards\\nCoupons and Deals > Rewards & Cashback > O2O > Horizontal'\n",
            " 'Investment Tech > Online Trading Platforms > Research Platforms > Stocks > Trading Signals > Technical Analysis'\n",
            " 'Mobile Utility Tools > Personalization > Keyboard'\n",
            " 'Investment Tech > Online Trading Platforms > Public Market Funds > Mutual Funds\\nY Combinator Batches > 2018 > Winter'\n",
            " 'Vernacular Platforms > News Aggregators > Textual Content > Curated Content\\nInternet First Media > News Portals > Aggregators > Summaries'\n",
            " 'MarketingTech > Referral and Advocacy Marketing > Referral Marketing'\n",
            " 'Customer Service Software > After Sales Service\\nLocal Services > Electronics Repair\\nInternet First Insurance Platforms > Internet First Insurers > P&C > Consumer Electronics'\n",
            " 'Augmented Reality > Applications > Education > Kids Learning > STEM Learning\\nMom & Baby Care > Education > Digital Learning > Gamified Platform\\nPre-K EdTech > B2B2C Learning Solutions > AR VR Based\\nK-12 EdTech > B2B2C Learning Solutions > School Curriculum > Multi Subject > Activity Based Learning > AR and VR'\n",
            " 'Beauty Tech > Ecommerce > Multi Category > Organic > Internet First Brand\\nBeauty & Personal Care Products > Skin Care > Multi-Category > Natural > Internet First Brand'\n",
            " 'Healthcare Booking Platforms > Diversified\\nHealthcare IT > Provider > Hospital Information Systems > PM & EHR Platforms > Generic\\nCross Border - India > Healthcare'\n",
            " 'Vertical Business Intelligence > Industry Specific > Travel\\nOnline Travel > Technology Enablers > Suite\\nAviation IT > Finance and Accounting > Revenue Management > Price Analytics\\nHotel IT > Pricing Engine > Hotel\\nCross Border - India > Enterprise > Industry Verticals > Travel & Hospitality'\n",
            " 'Augmented Reality > Applications > Retail > Fashion\\nIn Store Retail Tech > Customer Experience Management > Virtual Trial > Jewellery > AR Based'\n",
            " 'Investment Tech > Online Trading Platforms > Stocks > Thematic Investments'\n",
            " 'Productivity Software > Document Storage'\n",
            " 'Chatbots > Personal Assistants > Finance Assistants > Payments\\nVernacular Platforms > Conversational AI > Virtual Assistants\\nE-Commerce Enablers > Tools > Distributed Commerce > Shopping Assistants\\nPayments > Consumer Payments > Vertical Payments > Bill Payments > Utility Bills'\n",
            " 'K-12 EdTech > B2C Learning Solutions > School Curriculum > Multi Subject > Horizontal\\nTest Preparation Tech > Digital Learning > Diversified > Self-Paced'\n",
            " 'Logistics Tech > Freight > Trucking > Heavy Cargo > Marketplace'\n",
            " 'Matchmaking > Dating > Profile matching > Personality Based > Questionnaire Driven'\n",
            " 'Continued Learning > Professional > Online Learning > Multi Disciplinary > Online Courses\\nCorporate Learning > Learning Platforms > Functional Skills > Courses'\n",
            " 'K-12 EdTech > B2C Learning Solutions > School Curriculum > Multi Subject > Online Tutoring > Subscription\\nTest Preparation Tech > Digital Learning > Diversified > Instructor-Led'\n",
            " 'Vernacular Platforms > Education > Language Learning\\nPre-K EdTech > B2C Learning Solutions > Games > Language Learning > English\\nLanguage Learning > B2C Learning Solutions > Educational Resources > English > Gamified'\n",
            " 'Residential Real Estate Tech > CoLiving > Managed'\n",
            " 'Healthcare Booking Platforms > Doctors > Telemedicine > Teleconsultation > Women Health > PCOS'\n",
            " 'Mom & Baby Care > Commerce > Multi Category > Flash Sales'\n",
            " 'Alternative Lending > Online Lenders > Consumer Loans > Diversified > Marketplace > P2P'\n",
            " 'Commercial Real Estate Tech > Ondemand Marketplace > Shared Office > Membership Pass'\n",
            " 'Chatbots > Industry Agnostic > Customer Support > Voice Based\\nSpeech and Voice Recognition > Applications > Customer Engagement\\nVernacular Platforms > Conversational AI > Virtual Assistants'\n",
            " 'Software Testing Tools > Automated Testing Tools\\nCross Border - India > Enterprise > Enterprise Infra > DevTools'\n",
            " 'Road Transport Tech > Ride Hailing > Cars > Taxi > Intracity > Aggregator > Electric\\nElectric Vehicles > Vehicle as a Service > Cars > Ride Hailing'\n",
            " 'Alternative Lending > Online Lenders > Consumer Loans > Education Financing > Loans > Direct Lender\\nHigher Education Tech > Admissions Support for Students > Loans\\nConsumer and SME Loans > Consumer Loans > Education Loans'\n",
            " 'Local Services > Personal Wellness Services > Beauty > Appointment Booking > Parlour Booking\\nBeauty Tech > Beauty Services > Appointment Booking > Salon Booking > Asset-Light Salons'\n",
            " 'Local Services > Multi Services > Marketplace'\n",
            " 'Fashion Tech > B2C Commerce > Multi Category > Inventory-led > Cross Border > Non-Luxury\\nCross Border Commerce > Fashion > Horizontal > Retailer'\n",
            " 'Road Transport Tech > Fleet Management > Fleet Tracking'\n",
            " 'Online Health Information > Social Platforms > Patient Networks > Women Health > Pregnancy and Parenting\\nSocial Platforms > Interest Based > Health and Wellness > Women Health\\nVernacular Platforms > Social Media Platforms > Social Networks\\nMom & Baby Care > Parenting > Community > Expert Advice\\nY Combinator Batches > 2017 > Winter'\n",
            " 'Online Travel > Corporate Travel > Expense Management\\nFinance & Accounting Tech > Accounting Solutions > Procure to Pay > Travel & Expense > Expense Approval'\n",
            " 'Vernacular Platforms > Digital Media Platforms > Self-publishing Platforms\\nBook Tech > Self Publishing Platforms > Books'\n",
            " 'Loyalty Software > Standalone Loyalty > Hospitality\\nFood Tech > Technology Enablers > Restaurants > Online Ordering Solutions'\n",
            " 'Social Platforms > Interest Based > Wishlist\\nSocial Commerce > Community Based Shopping Platforms > Diversified'\n",
            " 'Online Travel > Accommodation > Hotel > Online Agency > Time-based > Hourly\\nAxilor Ventures Batches > 2019 > Summer'\n",
            " 'K-12 EdTech > Tech for Teachers > Student Assessment > Grading'\n",
            " 'Payments > Business Payments > Bill Payments'\n",
            " 'Road Transport Tech > Self Drive Rentals > Motorized Two-Wheeler > Marketplace > B2C\\nOnline Rental > Vehicles > Multi-Category > B2C'\n",
            " 'Internet First Media > Business and Finance > Social Impact'\n",
            " 'Road Transport Tech > Ride Hailing > Motorized Two-Wheelers\\nOnline Rental > Vehicles > Motorbikes > B2C > Station Based\\nLogistics Tech > Ecommerce Logistics > Last Mile > Electric Vehicle Fleet\\nE-Commerce Logistics > Last Mile > Electric Vehicles\\nElectric Vehicles > Vehicle as a Service > Multi Category Vehicles > Station Based > For Delivery Professionals'\n",
            " 'HRTech > Job Board > Industry Specific > Multi Industry'\n",
            " 'Internet First Media > News Portals > Publishers > Regional\\nOTT Video > OTT Streaming Platforms > Video On Demand (VOD) > News'\n",
            " 'Alternative Lending > Online Lenders > Consumer Loans > Point of Sale Financing > Marketplace'\n",
            " 'Test Preparation Tech > Digital Learning > Diversified > Instructor-Led'\n",
            " 'Freelancer IT > Financial Solutions > Lending Solutions > Credit Card\\nAlternative Lending > Online Lenders > Consumer Loans > Payday Loans > Marketplace\\nPayments > Consumer Payments > Vertical Payments > Toll Payments > FASTag\\nAxilor Ventures Batches > 2018 > Winter'\n",
            " 'Healthcare Booking Platforms > Diagnostics > Marketplaces > Pathology'\n",
            " 'Online Travel > Horizontal > Online Agency'\n",
            " 'Online Travel > Transportation > Train > Station Assistance\\nSmart Public Transport > Consumer Transit Applications > Transit Information > Rail'\n",
            " 'Horizontal E-Commerce > Retailer'\n",
            " 'Vernacular Platforms > Digital Media Platforms > Online Publishers\\nInternet First Media > News Portals > Publishers > Regional > Freelance Journalists\\nY Combinator Batches > 2019 > Summer'\n",
            " 'Test Preparation Tech > Digital Learning > Diversified > Doubts clearance'\n",
            " 'Fashion Tech > B2C Commerce > Accessories > Eyewear > Inventory-led > Retailer'\n",
            " 'Internet First Insurance Platforms > Internet First Insurers > P&C > Consumer Electronics'\n",
            " 'Alternative Lending > Online Lenders > Consumer Loans > Asset Backed Loans > Gold > Marketplace'\n",
            " 'Second Hand Goods > Electronics > Outright Buy > Refurbisher'\n",
            " 'Residential Real Estate Tech > Online Brokers\\nCross Border - India > Enterprise > Industry Verticals > SMBs'\n",
            " 'Healthcare Booking Platforms > Doctors > Telemedicine > Teleconsultation > Diversified\\nHealthcare IT > Employer > Healthcare Services > Telemedicine\\nEmployee Health IT > Tech Enabled Services > Teleconsultation'\n",
            " 'Online Health Information > Internet First Media > Diversified\\nVernacular Platforms > Healthcare > Information Portal'\n",
            " 'K-12 EdTech > B2B2C Learning Solutions > School Curriculum > Multi Subject > Activity Based Learning > Games'\n",
            " 'K-12 EdTech > Career Guidance'\n",
            " 'Consumer Robotics > Educational > Kids Learning > DIY\\nK-12 EdTech > B2C Learning Solutions > Robotics > DIY Kits'\n",
            " 'K-12 EdTech > B2C Learning Solutions > Diversified > Online Tutoring'\n",
            " 'Mom & Baby Care > Education > Content\\nPre-K EdTech > B2C Learning Solutions > DIY Kits'\n",
            " 'GovTech > Civic Engagement > Government Schemes Information'\n",
            " 'Horizontal E-Commerce > Store Aggregator > Video Shopping\\nInfluencer E-Commerce > Live Video\\nVideo Commerce > Live Stream Commerce\\nSurge Batches > 2019 > Surge 01'\n",
            " 'Healthcare IT > Provider > Administrative Solutions > HR > Learning & Development > Medical Schools\\nContinued Learning > Professional > Online Learning > Healthcare > Diversified > Online Courses\\nContinuing Education Chains > Individuals > Healthcare'\n",
            " 'K-12 EdTech > B2B2C Learning Solutions > School Curriculum > Multi Subject > Activity Based Learning > Games > Adaptive'\n",
            " 'Smart Homes > Home Automation Controllers > Smart Switches and Plugs > Switches > Retrofit Smart Switches\\nEnergy Efficiency Tech > Power Management Devices > Smart Switches and Plugs'\n",
            " 'Speech and Voice Recognition > Applications > Education > Language Learning\\nLanguage Learning > B2C Learning Solutions > Courses > Self Paced > English > Chatbot and AI Based'\n",
            " 'MarketingTech > Industry Specific Marketing > Food > Restaurants\\nFood Tech > Technology Enablers > Restaurants > Online Ordering Solutions\\nCross Border - India > Enterprise > Industry Verticals > SMBs'\n",
            " 'Food Tech > Food Discovery and Ordering > Restaurant Aggregator > Restaurant Delivered'\n",
            " 'Investment Tech > Wealth Management Platforms > Savings Platforms'\n",
            " 'Social Platforms > Interest Based > Education > K-12\\nTest Preparation Tech > Learning Communities'\n",
            " 'Security & Surveillance Technology > PIAM > PACS > Integrated Platform'\n",
            " 'Pre-K EdTech > B2C Learning Solutions > Digital Storybooks\\nExtreme Entrepreneurs Batches > 2018'\n",
            " 'Healthcare IT > Value Based Care > Patient Engagement > Communications > Telehealth'\n",
            " 'Finance & Accounting Tech > Accounting Solutions > Procure to Pay > Suite\\nAxilor Ventures Batches > 2018 > Summer']\n",
            "City\n",
            "\n",
            "  [nan 'Mumbai' 'Delhi' 'Bangalore' 'Gurgaon' 'Singapore\\nBangalore' 'Pune'\n",
            " 'Noida' 'Hyderabad' 'Kolkata' 'Chennai' 'San Francisco\\nBangalore' 'Kota'\n",
            " 'Bhopal' 'Ahmedabad' 'Kochi' 'Fremont\\nMumbai' 'Kingstown\\nMumbai'\n",
            " 'San Mateo\\nChennai' 'Panaji' 'London' 'Coimbatore' 'Singapore\\nGurgaon'\n",
            " 'Jaipur' 'Bangalore\\nMumbai' 'Chicago\\nNoida' 'London\\nNoida'\n",
            " 'Dublin\\nBangalore' 'Hangzhou\\nDelhi' 'Allahabad' 'Faridabad' 'Kanpur']\n",
            "Company Stage\n",
            "\n",
            "  [nan 'Series A' 'Seed' 'Series B' 'Series D' 'Series C' 'Series H'\n",
            " 'Acquired' 'Series J' 'Series E' 'Series I' 'Series F' 'Funded'\n",
            " 'Series G']\n",
            "Feed Name\n",
            "\n",
            "  [nan 'Mom & Baby Care' 'Social Platforms' 'Investment Tech'\n",
            " 'Online Travel' 'HRTech\\nCross Border - India'\n",
            " 'Cybersecurity\\nPaaS\\nAI Infrastructure\\nInsurance IT'\n",
            " 'Alternative Lending\\nConsumer and SME Loans'\n",
            " 'Fitness & Wellness Tech\\nFood Tech\\nCross Border - India'\n",
            " 'Local Services\\nFitness & Wellness Tech' 'Payments\\nBanking Tech'\n",
            " 'Horizontal E-Commerce'\n",
            " 'Online Travel\\nRoad Transport Tech\\nOnline Rental\\nY Combinator Batches'\n",
            " 'Alternative Lending' 'Fitness & Wellness Tech' 'Mobile Gaming\\neSports'\n",
            " 'Higher Education Tech' 'Beauty Tech\\nHealthcare Booking Platforms'\n",
            " 'Continued Learning' 'Second Hand Goods'\n",
            " 'Healthcare IT\\nEmployee Health IT'\n",
            " 'Social Platforms\\nOnline Event Ticketing\\nY Combinator Batches'\n",
            " 'Social Platforms\\nVernacular Platforms\\nRadio Tech\\nAxilor Ventures Batches'\n",
            " 'Disease Self Management\\nDiabetes'\n",
            " 'Internet First Media\\nY Combinator Batches'\n",
            " 'Music Tech\\nVernacular Platforms'\n",
            " 'Social Commerce\\nY Combinator Batches'\n",
            " 'Healthcare Booking Platforms\\nFitness & Wellness Tech'\n",
            " 'Auto E-Commerce & Content\\nSecond Hand Goods' 'Road Transport Tech'\n",
            " 'Smart Homes\\nEnergy Efficiency Tech'\n",
            " 'Second Hand Goods\\nConsumer Electronics E-Commerce'\n",
            " 'Security & Surveillance Technology\\nConnected Vehicles\\nLogistics Tech'\n",
            " 'Internet First Media\\nAxilor Ventures Batches' 'Local Services'\n",
            " 'Electric Vehicles' 'Alternative Lending\\nInvestment Tech'\n",
            " 'Online Grocery\\nLivestock Tech' 'Internet First Media\\nOTT Video'\n",
            " 'Vernacular Platforms\\nIn Store Retail Tech\\nFinance & Accounting Tech\\nY Combinator Batches'\n",
            " 'Local Services\\nSocial Platforms' 'Online Gifting' 'Fashion Tech'\n",
            " 'Road Transport Tech\\nOnline Rental' 'Remittance\\nForex Tech'\n",
            " 'Residential Real Estate Tech\\nCommercial Real Estate Tech'\n",
            " 'Food & Beverage Products' 'E-Commerce Enablers' 'Banking Tech'\n",
            " 'K-12 EdTech\\nTest Preparation Tech\\nSurge Batches' 'Food Tech'\n",
            " 'Sales Force Automation\\nField Force Automation\\nBanking Tech\\nInsurance IT\\nCross Border - India\\nPlug and Play Tech Center Batches'\n",
            " 'Internet First Insurance Platforms' 'Healthcare IT'\n",
            " 'Digital Publishing Platforms' 'Home Improvements'\n",
            " 'B2B E-Commerce\\nOnline Grocery\\nCrop Tech\\nY Combinator Batches'\n",
            " 'Test Preparation Tech' 'Nutraceuticals'\n",
            " 'Disease Self Management\\nHealthcare IT\\nCIIE Batches'\n",
            " 'Vernacular Platforms\\nLanguage Learning\\nAxilor Ventures Batches'\n",
            " 'Alternative Lending\\nPayments' 'Road Transport Tech\\nElectric Vehicles'\n",
            " 'Online Grocery' 'Online Travel\\nRoad Transport Tech' 'Sports Tech'\n",
            " 'Healthcare Booking Platforms' 'Influencer E-Commerce\\nVideo Commerce'\n",
            " 'Music Tech\\nVernacular Platforms\\nRadio Tech'\n",
            " 'Online Travel\\nRoad Transport Tech\\nOnline Rental'\n",
            " 'Online Health Information\\nSocial Platforms\\nMom & Baby Care'\n",
            " 'Healthcare IT\\nCorporate Learning\\nCIIE Batches'\n",
            " 'Local Services\\nReligion Tech' 'Mobile Gaming' 'K-12 EdTech'\n",
            " 'Field Force Automation\\nLogistics Tech\\nE-Commerce Enablers\\nCross Border - India\\nPlug and Play Tech Center Batches'\n",
            " 'Internet First Media' 'K-12 EdTech\\nTest Preparation Tech'\n",
            " 'Wedding Tech' 'Healthcare IT\\nCardiac and Vascular Disorders'\n",
            " 'Crop Tech' 'Religion Tech'\n",
            " 'Road Transport Tech\\nOnline Rental\\nElectric Vehicles'\n",
            " 'Cryptocurrencies' 'Mom & Baby Care\\nK-12 EdTech'\n",
            " 'Sales Force Automation\\nMarketingTech\\nCustomer Success Management\\nCustomer Service Software'\n",
            " 'B2B E-Commerce\\nOnline Grocery' 'Payments' 'Commercial Real Estate Tech'\n",
            " 'MarketingTech\\nCustomer Service Software\\nCross Border - India'\n",
            " 'Life Sciences Tech' 'Coupons and Deals'\n",
            " 'K-12 EdTech\\nTest Preparation Tech\\nY Combinator Batches'\n",
            " 'In Store Retail Tech' 'Vernacular Platforms\\nContinued Learning'\n",
            " 'HRTech\\nEmployer Insurance\\nHealthcare IT\\nEmployee Health IT'\n",
            " 'Alternative Lending\\nCrop Tech'\n",
            " 'Beauty Tech\\nBeauty & Personal Care Products'\n",
            " 'Logistics Tech\\nFood Tech' 'Mobile App Studios' 'Beauty Tech'\n",
            " 'In Store Retail Tech\\nB2B E-Commerce\\nOnline Grocery'\n",
            " 'Subscription Commerce\\nOnline Grocery' 'Logistics Tech'\n",
            " 'HRTech\\nDisease Self Management\\nHealthcare IT\\nEmployee Health IT\\nY Combinator Batches'\n",
            " 'Residential Real Estate Tech'\n",
            " 'Healthcare Booking Platforms\\nHealthcare IT'\n",
            " 'Vernacular Platforms\\nDigital Publishing Platforms'\n",
            " 'Virtual Reality\\nOnline Travel' 'Online Rental\\nHome Improvements'\n",
            " 'Fitness & Wellness Tech\\nSurge Batches'\n",
            " 'Wearable Technology\\nIoT Applications\\nLivestock Tech'\n",
            " 'Sports Tech\\nSocial Platforms'\n",
            " 'Home Improvements\\nHome Furnishing Products'\n",
            " 'Vernacular Platforms\\nIn Store Retail Tech\\nFinance & Accounting Tech\\nY Combinator Batches\\nSurge Batches'\n",
            " 'Legal Tech' 'Online Travel\\nRoad Transport Tech\\nY Combinator Batches'\n",
            " 'E-Commerce Enablers\\nB2B E-Commerce'\n",
            " 'Disease Self Management\\nHealthcare IT'\n",
            " 'Online Travel\\nPayments\\nFinance & Accounting Tech'\n",
            " 'Virtual Reality\\nAugmented Reality\\nOnline Travel'\n",
            " 'In Store Retail Tech\\nPayments\\nFood Tech'\n",
            " 'Mom & Baby Care\\nInternet First Media\\nDigital Publishing Platforms'\n",
            " 'Social Platforms\\nVernacular Platforms'\n",
            " 'HRTech\\nComputer Vision\\nCross Border - India'\n",
            " 'Social Platforms\\nFitness & Wellness Tech\\nY Combinator Batches'\n",
            " 'Online Travel\\nSocial Platforms' 'B2B E-Commerce\\nCrop Tech'\n",
            " 'Online Gifting\\nFinance & Accounting Tech'\n",
            " 'Alternative Lending\\nY Combinator Batches'\n",
            " 'HRTech\\nHealthcare IT\\nEmployee Health IT' 'Vernacular Platforms'\n",
            " 'Pharmacy IT' 'HRTech' 'Online Grocery\\nFood Service Chains'\n",
            " 'Online Travel\\nSocial Platforms\\nSurge Batches\\nExtreme Entrepreneurs Batches'\n",
            " 'OTT Video'\n",
            " 'Auto E-Commerce & Content\\nInternet First Insurance Platforms'\n",
            " 'Online Health Information' 'Social Platforms\\nTest Preparation Tech'\n",
            " 'B2B E-Commerce\\nAlternative Lending'\n",
            " 'B2B E-Commerce\\nOnline Grocery\\nCrop Tech'\n",
            " 'Logistics Tech\\nCross Border - India\\nPlug and Play Tech Center Batches'\n",
            " 'Food Tech\\nFacility Management Tech' 'Cybersecurity\\nHRTech\\nRegTech'\n",
            " 'Mobile Utility Tools\\nVernacular Platforms'\n",
            " 'Augmented Reality\\nMobile Gaming\\neSports'\n",
            " 'Loyalty Software\\nCoupons and Deals' 'Mobile Utility Tools'\n",
            " 'Investment Tech\\nY Combinator Batches'\n",
            " 'Vernacular Platforms\\nInternet First Media' 'MarketingTech'\n",
            " 'Customer Service Software\\nLocal Services\\nInternet First Insurance Platforms'\n",
            " 'Augmented Reality\\nMom & Baby Care\\nPre-K EdTech\\nK-12 EdTech'\n",
            " 'Healthcare Booking Platforms\\nHealthcare IT\\nCross Border - India'\n",
            " 'Vertical Business Intelligence\\nOnline Travel\\nAviation IT\\nHotel IT\\nCross Border - India'\n",
            " 'Augmented Reality\\nIn Store Retail Tech' 'Productivity Software'\n",
            " 'Chatbots\\nVernacular Platforms\\nE-Commerce Enablers\\nPayments'\n",
            " 'Matchmaking' 'Continued Learning\\nCorporate Learning'\n",
            " 'Vernacular Platforms\\nPre-K EdTech\\nLanguage Learning'\n",
            " 'Chatbots\\nSpeech and Voice Recognition\\nVernacular Platforms'\n",
            " 'Software Testing Tools\\nCross Border - India'\n",
            " 'Alternative Lending\\nHigher Education Tech\\nConsumer and SME Loans'\n",
            " 'Local Services\\nBeauty Tech' 'Fashion Tech\\nCross Border Commerce'\n",
            " 'Online Health Information\\nSocial Platforms\\nVernacular Platforms\\nMom & Baby Care\\nY Combinator Batches'\n",
            " 'Online Travel\\nFinance & Accounting Tech'\n",
            " 'Vernacular Platforms\\nBook Tech' 'Loyalty Software\\nFood Tech'\n",
            " 'Social Platforms\\nSocial Commerce'\n",
            " 'Online Travel\\nAxilor Ventures Batches'\n",
            " 'Road Transport Tech\\nOnline Rental\\nLogistics Tech\\nE-Commerce Logistics\\nElectric Vehicles'\n",
            " 'Freelancer IT\\nAlternative Lending\\nPayments\\nAxilor Ventures Batches'\n",
            " 'Online Travel\\nSmart Public Transport'\n",
            " 'Vernacular Platforms\\nInternet First Media\\nY Combinator Batches'\n",
            " 'Residential Real Estate Tech\\nCross Border - India'\n",
            " 'Healthcare Booking Platforms\\nHealthcare IT\\nEmployee Health IT'\n",
            " 'Online Health Information\\nVernacular Platforms'\n",
            " 'Consumer Robotics\\nK-12 EdTech' 'Mom & Baby Care\\nPre-K EdTech'\n",
            " 'GovTech'\n",
            " 'Horizontal E-Commerce\\nInfluencer E-Commerce\\nVideo Commerce\\nSurge Batches'\n",
            " 'Healthcare IT\\nContinued Learning\\nContinuing Education Chains'\n",
            " 'Speech and Voice Recognition\\nLanguage Learning'\n",
            " 'MarketingTech\\nFood Tech\\nCross Border - India'\n",
            " 'Security & Surveillance Technology'\n",
            " 'Pre-K EdTech\\nExtreme Entrepreneurs Batches'\n",
            " 'Finance & Accounting Tech\\nAxilor Ventures Batches']\n",
            "Founded Year\n",
            "\n",
            "  [  nan 2017. 2013. 2016. 2014. 1995. 2012. 2015. 2008. 2018. 2000. 2011.\n",
            " 2019. 2007. 2010. 2009. 1984. 2020. 2006. 1983. 2004. 2001.]\n",
            "Latest Funded Date\n",
            "\n",
            "  [nan '2018-09-10' '2018-09-19' '2018-11-19' '2018-11-01' '2018-10-01'\n",
            " '2018-09-11' '2018-11-16' '2018-09-28' '2018-10-30' '2018-09-04'\n",
            " '2018-11-28' '2019-09-04' '2019-09-03' '2019-07-18' '2019-07-06'\n",
            " '2019-09-13' '2019-08-20' '2019-07-25' '2019-09-18' '2019-07-24'\n",
            " '2019-07-30' '2019-07-09' '2019-09-05' '2019-08-29' '2019-08-21'\n",
            " '2019-08-12' '2019-09-26' '2019-09-23' '2019-07-15' '2019-07-17'\n",
            " '2019-07-16' '2019-07-23' '2019-07-19' '2019-07-28' '2019-08-02'\n",
            " '2019-07-10' '2019-09-06' '2019-08-24' '2019-08-30' '2019-09-12'\n",
            " '2019-09-19' '2019-08-01' '2020-01-14' '2020-01-28' '2020-02-22'\n",
            " '2020-03-02' '2020-03-30' '2020-01-18' '2020-01-03' '2020-03-03'\n",
            " '2020-03-20' '2020-02-01' '2020-02-10' '2020-03-11' '2020-02-18'\n",
            " '2020-02-17' '2020-01-11' '2020-03-16' '2020-03-24' '2020-03-18'\n",
            " '2020-02-05' '2020-01-20' '2020-01-15' '2020-02-28' '2020-03-12'\n",
            " '2020-03-27' '2020-01-25' '2020-01-27' '2020-02-24' '2020-03-19'\n",
            " '2020-02-07' '2020-01-07' '2020-03-10' '2020-03-26' '2020-02-14'\n",
            " '2020-02-06' '2020-01-21' '2020-03-04' '2020-01-23' '2020-02-20'\n",
            " '2020-03-25' '2020-03-23' '2020-01-24' '2020-02-26' '2020-02-13'\n",
            " '2020-03-22' '2020-03-01' '2020-02-21' '2020-06-22' '2020-06-06'\n",
            " '2020-06-10' '2020-05-27' '2020-06-01' '2020-04-14' '2020-06-29'\n",
            " '2020-04-28' '2020-04-02' '2020-05-04' '2020-04-08' '2020-04-16'\n",
            " '2020-05-29' '2020-05-13' '2020-05-14' '2020-06-03' '2020-04-01'\n",
            " '2020-05-06' '2020-05-11' '2020-06-19' '2020-05-26' '2020-04-23'\n",
            " '2020-04-09' '2020-05-19' '2020-05-16' '2020-04-24' '2020-06-16'\n",
            " '2020-05-20' '2020-05-18' '2020-05-25' '2020-06-23' '2020-06-24'\n",
            " '2020-04-11' '2020-04-15' '2020-05-23' '2020-04-30' '2020-04-13'\n",
            " '2020-06-02' '2020-05-07' '2020-04-06' '2020-06-17' '2020-05-15'\n",
            " '2020-06-08' '2020-04-29' '2020-04-22' '2019-03-27' '2019-04-16'\n",
            " '2019-04-03' '2019-04-20' '2019-04-27' '2019-05-02' '2019-03-13'\n",
            " '2019-05-09' '2019-05-10' '2019-05-30' '2019-05-24' '2019-03-14'\n",
            " '2019-03-12' '2019-04-12' '2019-03-22' '2019-03-30' '2019-03-06'\n",
            " '2020-03-07' '2019-06-25' '2019-06-10' '2019-06-20' '2020-08-07'\n",
            " '2020-08-27' '2020-07-15' '2020-07-10' '2020-08-17' '2020-09-30'\n",
            " '2020-07-13' '2020-08-24' '2020-08-10' '2020-08-18' '2020-08-31'\n",
            " '2020-09-07' '2020-07-20' '2020-09-15' '2020-08-14' '2020-08-21'\n",
            " '2020-07-16' '2020-09-25' '2020-07-02' '2020-08-19' '2020-07-17'\n",
            " '2020-09-02' '2020-08-11' '2020-07-27' '2020-09-14' '2020-08-04'\n",
            " '2020-08-25' '2020-09-16' '2020-08-12' '2020-08-06' '2020-07-03'\n",
            " '2020-07-08' '2020-09-09' '2020-09-23' '2020-08-13' '2020-09-10'\n",
            " '2020-09-22' '2020-07-21' '2020-08-15' '2020-07-05' '2020-07-29'\n",
            " '2020-07-28' '2020-07-07' '2020-09-03' '2020-09-24' '2020-09-29'\n",
            " '2018-12-18' '2018-12-13' '2019-10-11' '2019-10-23' '2019-10-22'\n",
            " '2019-10-03' '2019-10-02' '2019-10-16' '2019-10-31' '2019-10-25'\n",
            " '2019-10-24' '2019-02-15' '2019-01-23' '2019-01-29' '2019-02-21'\n",
            " '2019-02-18' '2019-01-11' '2019-01-17' '2019-02-02' '2019-01-10'\n",
            " '2019-11-04' '2019-11-07' '2019-11-14' '2019-11-18' '2019-11-01'\n",
            " '2019-11-26' '2019-11-24' '2019-11-06' '2019-11-19' '2019-12-23'\n",
            " '2019-12-19' '2019-12-20' '2019-12-31' '2019-12-12' '2019-12-28'\n",
            " '2019-12-18' '2019-12-01' '2019-12-21' '2019-12-30' '2018-08-28'\n",
            " '2018-08-09' '2018-08-10' '2020-02-12' '2020-07-01' '2020-08-28'\n",
            " '2020-06-13' '2019-12-24' '2019-12-10' '2019-12-09' '2019-12-13'\n",
            " '2019-12-06']\n",
            "MAU\n",
            "\n",
            "  [       nan 0.64533737 0.47019868 ... 0.11744966 0.23209877 0.22710623]\n",
            "Open_Rate\n",
            "\n",
            "  [       nan 2.89274819 3.58069716 ... 4.10174152 5.54140127 3.22038567]\n",
            "Overview\n",
            "\n",
            "  [nan 'Online parenting platform for pregnancy and childcare'\n",
            " 'Web and mobile app based community for women'\n",
            " 'Online platform focused on mutual fund investments'\n",
            " 'Online platform to book train tickets in India'\n",
            " 'SaaS based Human Resource Management'\n",
            " 'Provider of workbench for deep learning model development and deployment'\n",
            " 'Online personal loans platform'\n",
            " 'Provider of an online fitness tracker and meal planning platform'\n",
            " 'Online membership pass for accessing multiple fitness centres'\n",
            " 'Agent-based payment and banking solution for consumers and businesses'\n",
            " 'Online Share & Commodity Trading platform'\n",
            " 'Online comparison based social shopping portal'\n",
            " 'Online self rental platform offering cars and motorbikes'\n",
            " 'Comparison platform for financial products'\n",
            " 'Provider of a wearable wristband integrated with personalized coaching'\n",
            " 'Mobile game publisher'\n",
            " 'Online portal for information on scholarships, examinations.'\n",
            " 'Internet first brand offering multi-category beauty care products'\n",
            " 'Provides consultancy platform designed for young professionals and students'\n",
            " 'Online classifieds portal for multi-category products'\n",
            " 'Personal health record manager and online marketplace for diagnostics test'\n",
            " 'Online marketplace for consumer loans'\n",
            " 'Online social platform to discover and meet strangers'\n",
            " 'Provider of a social audio podcast platform'\n",
            " 'Diabetes management app with remote healthcare coaching'\n",
            " 'P2P platform for personal loans'\n",
            " 'Online news aggregator providing curated audio news'\n",
            " 'Music streaming platform for on-demand music'\n",
            " 'App-based reselling platform offering multi-category products'\n",
            " 'Provider of an online marketplace for health care products'\n",
            " 'Online auto portal for buying/selling and new car research'\n",
            " 'Micro business loans to families and SMEs'\n",
            " 'App-based ride-hailing aggregator'\n",
            " 'Developer of smart fan for applications in residential buildings'\n",
            " 'Online marketplace offering multi-category products'\n",
            " 'Online  platform for buy-back platform for used gadgets'\n",
            " 'Online marketplace for multi-category products'\n",
            " 'GPS and Vehicle Tracking solution for enterprises.'\n",
            " 'AI-based news aggregator platform'\n",
            " 'App-based platform to book multiple local services'\n",
            " 'Manufacturer of electric-two-wheelers.'\n",
            " 'App-based platform for personal loans'\n",
            " 'Online fresh meat delivery service'\n",
            " 'Online digital infotainment content platform'\n",
            " 'Mobile-based transaction recording solutions'\n",
            " 'Online trading platform for stocks'\n",
            " 'Mobile platform connecting users with local businesses'\n",
            " 'Online platform offering personalized video messages from celebrities'\n",
            " 'Online retailer of apparel' 'App-based scooter rental service'\n",
            " 'Online Money Exchange and Remittances'\n",
            " 'Online P2P listing platform for residential and commercial properties'\n",
            " \"Manufactures and supplies cold pressed juice for women's health\"\n",
            " 'Provider of SaaS platform for online website creation'\n",
            " 'App-based platform for booking two-wheeler for rental'\n",
            " 'Neobank for businesses'\n",
            " 'Web portal for gym booking, fitness related articles and discussion community'\n",
            " 'Doubt clearing app for various subjects'\n",
            " 'Online platform for booking tables at restaurants'\n",
            " 'Online standardized budget hotels'\n",
            " 'Online investment platform for mutual funds & other financial products'\n",
            " 'Provides virtual assistant for sales representatives'\n",
            " 'Internet first insurance platform'\n",
            " 'Provider of electronic medical record solution'\n",
            " 'Storytelling platform based on the poetry genre'\n",
            " 'Internet-first brand of home and kitchen products'\n",
            " 'On-demand internet first restaurants'\n",
            " 'B2B marketplace for farmers and bulk buyers in India'\n",
            " 'Online courses for NEET medical exam preparation'\n",
            " 'Loan comparison platform'\n",
            " 'Manufacturer of gummies offering nutritional supplements'\n",
            " 'Provider of medical record management solutions provider and patients'\n",
            " 'Mobile and web app based language learning platform'\n",
            " 'App-based personal credit line for consumers'\n",
            " 'Provider of electric vehicle ride-hailing platform'\n",
            " 'Grocery e-tailer based out of Bhopal'\n",
            " 'App-based platform for on-demand auto rickshaw taxi services'\n",
            " 'Restaurant Management Suite'\n",
            " 'Online retailer of dental supplies for healthcare institutions'\n",
            " 'Online platform for booking of inter-city bus tickets'\n",
            " 'App-based platform for booking sports venues and players'\n",
            " 'Provider of online test preparation platform for various exams'\n",
            " 'Online marketplace for customized holiday packages'\n",
            " 'Weight loss consultation service'\n",
            " 'Usage-based health insurance platform for individuals and businesses'\n",
            " 'App-based online marketplace for video commerce'\n",
            " 'Diversified radio & podcast aggregator'\n",
            " 'Online self-driving car rental platform'\n",
            " 'Online retailer for baby products' 'Online consumer loan platform'\n",
            " 'App-based platform providing complete solution for pregnancy & parenting'\n",
            " 'App-based lending platform for microloans'\n",
            " 'AI-based wealth management platform'\n",
            " 'Technology based medical education solutions for academic institutions & hospital chains'\n",
            " 'Online astrology services through multiple channels'\n",
            " 'Open banking aggregation APIs'\n",
            " 'Independent mobile game development studio'\n",
            " 'Online platform enabling students to learn maths and analyse their performance'\n",
            " 'Provider of cloud and AI-based logistics management software'\n",
            " 'Online marketplace platform for medical equipment'\n",
            " \"Online platform providing news and information on women's cricket\"\n",
            " 'Private label brand of footwear'\n",
            " 'Online platform for merchant cash advance'\n",
            " 'Online live tutoring platform for school students'\n",
            " 'Online listing platform offering multi-category vendor services'\n",
            " 'Online platform connecting heart patients & doctors and provider of ECG devices to doctors'\n",
            " 'Unnati' 'Game based revision platform provider'\n",
            " 'Open banking API solutions'\n",
            " 'Provider of online tutoring platform for schools'\n",
            " 'Developer of Puja products' 'Online aggregator offering groceries'\n",
            " 'App-based bicycle & e-bike rental platform'\n",
            " 'App-based platform for two-wheeler ride-hailing services'\n",
            " 'Employee onboarding software' 'Crypto derivative trading platform'\n",
            " 'Provider of parental control app'\n",
            " 'Cloud-based business communication and management provider'\n",
            " 'B2B platform to procure the food ingredients'\n",
            " 'Online platform providing coding courses for K-12 students'\n",
            " 'POS suite solution offering payment acceptance without internet connectivity'\n",
            " 'Provider of managed co-working spaces'\n",
            " 'Real money based gaming platform'\n",
            " 'Online marketplace of grocery products' 'Electric bike tour operator'\n",
            " 'Online private label jewellery shopping store'\n",
            " 'Technology provider for customer engagement'\n",
            " 'Health and wellness solutions'\n",
            " 'Online platform for consumer & business loans'\n",
            " 'Online listing platform for pre-owned cars'\n",
            " 'Web based platform offering cashback and coupon offers from eCommerce portals'\n",
            " 'Provider of supply chain solution for fruits and vegetables'\n",
            " 'Digital bank for consumers'\n",
            " 'Credit score improvement platform\\xa0and lending marketplace'\n",
            " 'Online marketplace for loans' 'Online marketplace for study material'\n",
            " 'Online platform offering summarized and timeline-based news'\n",
            " 'Provider of retail store aggregating solution for businesses'\n",
            " 'Online fashion brand for fashion accessories & apparel'\n",
            " 'Reward-based payment solutions'\n",
            " 'Insurance marketplace focused on rural areas'\n",
            " 'Developer of hyperlocal mentoring platform for providing online programming in vernacular languages'\n",
            " 'Health-tech platform connecting insurers and employers'\n",
            " 'Classroom collaborative platform for teachers and student'\n",
            " 'Provider of e-pharmacy store'\n",
            " 'Provider of an AI-based metasearch platform for travel services'\n",
            " 'Online supply chain platform for farmers'\n",
            " 'Online private label brand that sells skin and hair care products'\n",
            " 'Mobile app for food ordering'\n",
            " 'Provider of an AI-based file transfer app'\n",
            " 'Provider of pendrive courses for financial certification exam'\n",
            " 'Provider of application with learning courses'\n",
            " 'Online platform for buying beauty products and booking salon and spa'\n",
            " 'Online B2B grocery company'\n",
            " 'Online Test Preparation for Grades VI to XII'\n",
            " 'Online subscription-based platform offering daily grocery needs'\n",
            " 'Provider of online courses and training solutions for corporate'\n",
            " 'App-based platform providing trucking services'\n",
            " 'Mobile wallet powered by Ola'\n",
            " 'Provider of platform for employee wellness'\n",
            " 'Online marketplace for student accommodation'\n",
            " 'Provider of an AI-based online appointment booking and EHR management platform for patients and doctors'\n",
            " 'App-based platform for micro-loans'\n",
            " 'Provider of a vernacular platform for reading and sharing of stories'\n",
            " 'Provider of cloud-based procurement software for agribusinesses'\n",
            " '360-degree VR content for tours & activities'\n",
            " 'Provider of practice management software and appointment booking solutions for patients and doctors'\n",
            " 'Online rental platform offering multi-category products'\n",
            " 'Online platform to book rental properties'\n",
            " 'Provider of online custom workout generator'\n",
            " 'Provider of farm optimization and monitoring support'\n",
            " 'Provider of solutions for mass participation and pedometer tracker'\n",
            " 'Online platform for food ordering and delivery'\n",
            " 'Agent-based payment solutions for retailers & merchants'\n",
            " 'Social platform for sports enthusiasts'\n",
            " 'Internet-first brand offering multi-category home furniture'\n",
            " 'Digital ledger account book for individuals and small businesses'\n",
            " 'Online platform to search and book for professional legal services'\n",
            " 'Internet-first brand of jewellery & accessories'\n",
            " 'Online private label custom-made furniture retail store.'\n",
            " 'Online based platform offers intercity bus services'\n",
            " 'Online assisted purchase platform catering to rural customers'\n",
            " 'Provider of tech heavy mental fitness and wellness center'\n",
            " 'Provider of eCommerce fulfillment solutions'\n",
            " 'Financial planning & advisory platform'\n",
            " 'Provider of an app for managing diabetes'\n",
            " 'App-based platform for rewards & cash backs'\n",
            " 'Platform to invest in direct mutual funds'\n",
            " 'Payments solutions for consumers and businesses'\n",
            " 'Online platform that provide VR-based tour guide'\n",
            " 'Book Pathology and Diagnostics test to be delivered at home'\n",
            " 'Provider of an online platform for medications with doctor consultation'\n",
            " 'Payment procsessing solutions for businesses & merchants'\n",
            " 'Information portal for parents'\n",
            " 'Online marketplace to book rental properties'\n",
            " 'Mobile-first photo and video based social sharing application'\n",
            " 'AI-based video interviewing and assessment pplatform'\n",
            " 'Online social platform for health and fitness'\n",
            " 'Provider of a travelogue platform'\n",
            " 'Online platform offering agri-inputs, content, and advice'\n",
            " 'Online redeemable gifting eVouchers' 'Digital banking solutions company'\n",
            " 'Health and fitness tracking wearable technology'\n",
            " 'Provider of farming services to horticulture industries'\n",
            " 'Local news portal with a focus on Uttar Pradesh'\n",
            " 'NBFC linked SME loan platform' 'Internet first retail bank'\n",
            " 'Neo bank for businesses & startups'\n",
            " 'Provider of a SaaS based pharmacy management solution'\n",
            " 'Algo trading platform'\n",
            " 'Cloud hosted solutions for job seekers and recruiting employers'\n",
            " 'AI-driven marketplace for multi-category used vehicles'\n",
            " 'App-based insurance comparison platform for individuals'\n",
            " 'Education loans platform' 'Operator of smart vending machines'\n",
            " 'App-based social travelogue platform for travelers'\n",
            " 'Local news video streaming platform' 'Gaming platform for casual gamers'\n",
            " 'Short term personal loan platform'\n",
            " 'Online marketplace offering farm inputs'\n",
            " 'Online lending marketplace for business loans'\n",
            " 'Online job board for blue collar jobs'\n",
            " 'App-based insurance platform for individuals'\n",
            " 'Provider of mobile app for health and wellness'\n",
            " 'Online platform providing income share agreement program'\n",
            " 'Provider of job-oriented software training services'\n",
            " 'Provides training on soft skills and aptitude'\n",
            " 'Academic content learning provider for schools'\n",
            " 'Closed loop “School to Parent” platform'\n",
            " 'On-demand news streaming platform' 'Q&A-based education community'\n",
            " 'Provider of an online pharmacy with doctor listing and teleconsultation services'\n",
            " 'B2B marketplace offering POS financing solutions'\n",
            " 'Online distribution and comparison platform for financial products'\n",
            " 'Provider of a cloud-based vernacular platform for on-demand music streaming'\n",
            " 'NFC-enabled payment card' 'Online marketplace for second-hand bikes'\n",
            " 'Provider of digital supply chain of fruits and vegetables from farm to business'\n",
            " 'Online fantasy platform for multi-category sports'\n",
            " 'Online marketplace for education loans'\n",
            " 'App-based hyper last-mile logistics company'\n",
            " 'Provider of AI and cloud-based last-mile delivery management solutions'\n",
            " 'App-based platform offering grocery products'\n",
            " 'Provider of cafeteria management solution'\n",
            " 'KYC and background verification software for NBFCs and other companies'\n",
            " 'Android based mobile operating system with vernacular support'\n",
            " 'Digital entertainment and gaming company'\n",
            " 'Online platform offering cashback'\n",
            " 'Real-time MCX data & market intelligence provider'\n",
            " 'Provider of an online pharmacy for medications'\n",
            " 'Internet-first brand of jewelry'\n",
            " 'Provider of mobile application for online doctor consultation'\n",
            " 'Provider of an AI-based keyboard app'\n",
            " 'Online platform focused on mutual funds'\n",
            " 'Provider of a news aggregator app'\n",
            " 'Referral-based marketing solutions using customers'\n",
            " 'Online platform for extended warranty purchases for electronics'\n",
            " 'Provider of AR-based STEM educational games'\n",
            " 'Internet first brand offering skincare products'\n",
            " 'Online platform for appointment booking, telemedicine and practice management'\n",
            " 'Provider of cloud-based management solutions for the hospitality & travel industry'\n",
            " 'A fashion advice app'\n",
            " 'Platform for thematic investing in public markets'\n",
            " 'Document storage, sorting and management app'\n",
            " 'AI-based automated order taking app for concierge services'\n",
            " 'Provider of e-learning and test preparation platform for students'\n",
            " 'Online marketplace for intercity freight transportation'\n",
            " 'Online personality-based dating and matchmaking platform'\n",
            " 'Online higher education programs for working professionals'\n",
            " 'Provider of online personalized tutoring platform'\n",
            " 'Interactive learning app for Pre-K kids'\n",
            " 'Provider of branded accommodations'\n",
            " 'Provider of online information platform for diet, workout, PCOS lifestyle and other gynaecological issues'\n",
            " 'Internet first restaurant focusing on Biryani and Indian cuisine'\n",
            " 'Flash sales site for mom and babycare products'\n",
            " 'P2P platform for consumer loans'\n",
            " 'App-based marketplace for booking co-working spaces'\n",
            " 'Recommendations for trading in stock markets'\n",
            " 'AI based personal mobile assistant with support for Indian languages'\n",
            " 'Enterprise Testing automation platform'\n",
            " 'App-based platform offering electric-ride hailing services'\n",
            " 'Secured education loans' 'Online salon booking platform'\n",
            " 'Online platform for multiple local services'\n",
            " 'Online cross-border platform for multi-category fashion products'\n",
            " 'Tech-enabled vehicle theft management and tracking solutions'\n",
            " 'Online retail store offering groceries'\n",
            " 'Social platform for parenting in vernacular languages'\n",
            " 'AI based expense management software'\n",
            " 'Operator of a self-publishing platform in vernacular languages'\n",
            " 'Loyalty and rewards platform for brands, merchants and businesses'\n",
            " 'Social platform for sharing wish list & goals publicly'\n",
            " 'Online hotel booking platform that allows users to book hotel rooms based on time slots'\n",
            " 'AI based answer sheet evaluation system provider for schools'\n",
            " 'Bill payment platform for businesses'\n",
            " 'Internet first restaurant offering freshly prepared multi-cuisine food'\n",
            " 'Web-based personal loans marketplace' 'Online parenting community'\n",
            " 'Online rental platform offering bikes'\n",
            " 'Online platform for investing in mutual funds'\n",
            " 'Online media portal for positive news from India'\n",
            " 'Provider of electric bike services to logistic and delivery companies and to individuals'\n",
            " 'Multi-industry job board'\n",
            " 'App-based online news portal focused on Uttar Pradesh'\n",
            " 'Checkout platform offering pay later option to users'\n",
            " 'Online mentor community and test series for government jobs'\n",
            " 'Provider of online test preparation platform'\n",
            " 'App-based platform for payday loans'\n",
            " 'Online closed marketplace for diagnostic tests and preventive health checkup'\n",
            " 'Online flight ticket & hotel accommodation booking platform'\n",
            " 'Online platform to discover and book PGs and hostels'\n",
            " 'App-based platform for microloans'\n",
            " 'App-based wallet for consumer payments'\n",
            " 'Online platform for real-time rail transit information and ticketing solutions'\n",
            " 'App-based online retailer of multi-category consumer products'\n",
            " 'App-based news portal focused on Telangana and Andhra Pradesh'\n",
            " 'Homework assistance app for maths' 'Online job board for job seekers'\n",
            " 'Internet first brand of eyewear'\n",
            " 'Online consumer electronics insurance platform'\n",
            " 'Wallet-based payment solution for consumers and businesses'\n",
            " 'Online marketplace for gold loans'\n",
            " 'Online platform to buy refurbished and unboxed smartphones'\n",
            " 'Mobile app connecting consumers to health and fitness providers.'\n",
            " 'Online real estate advisory and brokerage firm'\n",
            " 'Tech-based platform for matching employers and employee in the mixed collar segment'\n",
            " 'Provider of a telemedicine platform for doctor consultation'\n",
            " 'Health information portal'\n",
            " 'Multiplayer quiz platform for academic subjects'\n",
            " 'Ecommerce retail marketplace'\n",
            " 'Web platform to get recognized by international universities and get scholarships'\n",
            " 'DIY kits for students to learn robotics and engineering'\n",
            " 'Mobile-based platform providing online classes and courses for kids'\n",
            " 'EdTech company for preschool kids' 'Volunteer Sourcing Platform'\n",
            " 'Online live streaming e-commerce platform for multi-category products'\n",
            " 'Blended online and offline courses for healthcare professionals'\n",
            " 'Gamification based learning platform'\n",
            " 'Developer of IoT based solutions for home automation'\n",
            " 'Provider of AI-based English tutor platform'\n",
            " 'Platform enabling web presence & marketing for F&B industry'\n",
            " 'Online marketplace for purchase financing'\n",
            " 'Online platform providing food ordering service from restaurants'\n",
            " 'AI-driven goal-based savings platform'\n",
            " 'Adaptive learning platform for entrance exams'\n",
            " 'Provides identity and access management platform'\n",
            " 'Platform to invest in mutual funds' 'Online resources for children'\n",
            " 'Web-based practice management platform for doctors'\n",
            " 'Expense management platform for corporates']\n",
            "Practice Areas\n",
            "\n",
            "  [nan 'Retail' 'Consumer\\nMedia & Entertainment' 'FinTech'\n",
            " 'Consumer\\nTravel and Hospitality Tech'\n",
            " 'Enterprise Applications\\nGeo - India Tech'\n",
            " 'Enterprise Infrastructure\\nEnterprise Infrastructure\\nTechnology\\nFinTech\\nInsurTech'\n",
            " 'FinTech\\nFinancial Services' 'HealthTech\\nFood Tech\\nGeo - India Tech'\n",
            " 'Consumer\\nUnbundling of Craigslist\\nHealthTech' 'FinTech\\nFinTech'\n",
            " 'Retail\\nCovid-19'\n",
            " 'Consumer\\nTravel and Hospitality Tech\\nConsumer\\nAuto Tech\\nTravel and Hospitality Tech\\nConsumer\\nAccelerator Batches'\n",
            " 'HealthTech' 'Mobile\\nGaming\\nGaming' 'EdTech' 'Retail\\nHealthTech'\n",
            " 'Retail\\nUnbundling of Craigslist' 'HealthTech\\nHealthTech'\n",
            " 'Consumer\\nMedia & Entertainment\\nMedia & Entertainment\\nAccelerator Batches'\n",
            " 'Consumer\\nMedia & Entertainment\\nConsumer\\nMedia & Entertainment\\nAccelerator Batches'\n",
            " 'HealthTech\\nLife Sciences' 'Media & Entertainment\\nAccelerator Batches'\n",
            " 'Consumer\\nMedia & Entertainment\\nConsumer' 'Retail\\nAccelerator Batches'\n",
            " 'Consumer\\nAuto Tech\\nRetail\\nUnbundling of Craigslist'\n",
            " 'Consumer\\nAuto Tech\\nTravel and Hospitality Tech'\n",
            " 'Technology\\nInternet of Things\\nEnergy Tech'\n",
            " 'Retail\\nUnbundling of Craigslist\\nRetail'\n",
            " 'Technology\\nAuto Tech\\nInternet of Things\\nConsumer\\nLogistics Tech'\n",
            " 'Consumer\\nUnbundling of Craigslist' 'Auto Tech\\nEnergy Tech'\n",
            " 'Food Tech\\nAgriculture' 'Media & Entertainment\\nMedia & Entertainment'\n",
            " 'Consumer\\nRetail\\nFinTech\\nAccelerator Batches'\n",
            " 'Consumer\\nUnbundling of Craigslist\\nConsumer\\nMedia & Entertainment'\n",
            " 'Consumer\\nRetail'\n",
            " 'Consumer\\nAuto Tech\\nTravel and Hospitality Tech\\nConsumer'\n",
            " 'Consumer\\nReal Estate and Construction Tech\\nReal Estate and Construction Tech'\n",
            " 'Food\\nConsumer Goods' 'EdTech\\nEdTech\\nAccelerator Batches' 'Food Tech'\n",
            " 'Enterprise Applications\\nEnterprise Applications\\nFinTech\\nFinTech\\nInsurTech\\nGeo - India Tech\\nAccelerator Batches'\n",
            " 'FinTech\\nInsurTech' 'Media & Entertainment'\n",
            " 'Retail\\nFood Tech\\nAgriculture\\nAccelerator Batches' 'Healthcare'\n",
            " 'HealthTech\\nHealthTech\\nAccelerator Batches'\n",
            " 'Consumer\\nEdTech\\nAccelerator Batches'\n",
            " 'Consumer\\nAuto Tech\\nTravel and Hospitality Tech\\nAuto Tech\\nEnergy Tech'\n",
            " 'Consumer\\nTravel and Hospitality Tech\\nConsumer\\nAuto Tech\\nTravel and Hospitality Tech'\n",
            " 'Consumer' 'Retail\\nRetail'\n",
            " 'Consumer\\nMedia & Entertainment\\nConsumer\\nMedia & Entertainment'\n",
            " 'Consumer\\nTravel and Hospitality Tech\\nConsumer\\nAuto Tech\\nTravel and Hospitality Tech\\nConsumer'\n",
            " 'HealthTech\\nCovid-19\\nConsumer\\nMedia & Entertainment\\nRetail'\n",
            " 'HealthTech\\nEdTech\\nAccelerator Batches'\n",
            " 'Consumer\\nUnbundling of Craigslist\\nConsumer' 'Mobile\\nGaming'\n",
            " 'Enterprise Applications\\nConsumer\\nLogistics Tech\\nRetail\\nGeo - India Tech\\nAccelerator Batches'\n",
            " 'EdTech\\nEdTech' 'Agriculture'\n",
            " 'Consumer\\nAuto Tech\\nTravel and Hospitality Tech\\nConsumer\\nAuto Tech\\nEnergy Tech'\n",
            " 'Retail\\nEdTech'\n",
            " 'Enterprise Applications\\nEnterprise Applications\\nEnterprise Applications\\nEnterprise Applications'\n",
            " 'Retail\\nFood Tech' 'Real Estate and Construction Tech'\n",
            " 'Enterprise Applications\\nEnterprise Applications\\nGeo - India Tech'\n",
            " 'Consumer\\nEdTech'\n",
            " 'Enterprise Applications\\nFinTech\\nInsurTech\\nHealthTech\\nHealthTech'\n",
            " 'FinTech\\nAgriculture' 'Retail\\nConsumer Goods'\n",
            " 'Consumer\\nLogistics Tech\\nFood Tech' 'Consumer\\nMobile'\n",
            " 'Retail\\nRetail\\nFood Tech' 'Consumer\\nLogistics Tech'\n",
            " 'Enterprise Applications\\nHealthTech\\nHealthTech\\nHealthTech\\nAccelerator Batches'\n",
            " 'Consumer\\nReal Estate and Construction Tech'\n",
            " 'Technology\\nConsumer\\nTravel and Hospitality Tech'\n",
            " 'HealthTech\\nAccelerator Batches'\n",
            " 'Technology\\nInternet of Things\\nTechnology\\nInternet of Things\\nAgriculture'\n",
            " 'Consumer\\nConsumer\\nMedia & Entertainment'\n",
            " 'Consumer\\nRetail\\nFinTech\\nAccelerator Batches\\nAccelerator Batches'\n",
            " 'Enterprise Applications'\n",
            " 'Consumer\\nTravel and Hospitality Tech\\nConsumer\\nAuto Tech\\nTravel and Hospitality Tech\\nAccelerator Batches'\n",
            " 'Consumer\\nTravel and Hospitality Tech\\nFinTech\\nFinTech'\n",
            " 'Technology\\nTechnology\\nConsumer\\nTravel and Hospitality Tech'\n",
            " 'Retail\\nFinTech\\nFood Tech'\n",
            " 'Retail\\nMedia & Entertainment\\nMedia & Entertainment'\n",
            " 'Enterprise Applications\\nTechnology\\nArtificial Intelligence\\nGeo - India Tech'\n",
            " 'Consumer\\nMedia & Entertainment\\nHealthTech\\nAccelerator Batches'\n",
            " 'Consumer\\nTravel and Hospitality Tech\\nConsumer\\nMedia & Entertainment'\n",
            " 'Retail\\nAgriculture' 'Consumer\\nRetail\\nFinTech'\n",
            " 'FinTech\\nAccelerator Batches'\n",
            " 'Enterprise Applications\\nHealthTech\\nHealthTech' 'Food Tech\\nFood'\n",
            " 'Consumer\\nTravel and Hospitality Tech\\nConsumer\\nMedia & Entertainment\\nAccelerator Batches\\nAccelerator Batches'\n",
            " 'Consumer\\nAuto Tech\\nFinTech\\nInsurTech' 'HealthTech\\nCovid-19'\n",
            " 'Consumer\\nMedia & Entertainment\\nEdTech' 'Retail\\nFinTech'\n",
            " 'Retail\\nFood Tech\\nAgriculture'\n",
            " 'Consumer\\nLogistics Tech\\nGeo - India Tech\\nAccelerator Batches'\n",
            " 'Food Tech\\nReal Estate and Construction Tech'\n",
            " 'Enterprise Infrastructure\\nEnterprise Applications\\nFinTech'\n",
            " 'Consumer\\nMobile\\nConsumer' 'Technology\\nMobile\\nGaming\\nGaming'\n",
            " 'Enterprise Applications\\nRetail'\n",
            " 'Enterprise Applications\\nConsumer\\nUnbundling of Craigslist\\nFinTech\\nInsurTech'\n",
            " 'Technology\\nRetail\\nEdTech\\nEdTech'\n",
            " 'HealthTech\\nHealthTech\\nGeo - India Tech'\n",
            " 'Enterprise Applications\\nConsumer\\nTravel and Hospitality Tech\\nTravel and Hospitality Tech\\nAerospace, Maritime and Defense Tech\\nTravel and Hospitality Tech\\nGeo - India Tech'\n",
            " 'Technology\\nRetail' 'Technology\\nConsumer\\nRetail\\nFinTech'\n",
            " 'Consumer\\nEdTech\\nEdTech' 'Technology\\nTechnology\\nConsumer'\n",
            " 'Enterprise Infrastructure\\nGeo - India Tech'\n",
            " 'FinTech\\nEdTech\\nFinancial Services'\n",
            " 'Consumer\\nUnbundling of Craigslist\\nRetail' 'Consumer\\nRetail\\nRetail'\n",
            " 'HealthTech\\nCovid-19\\nConsumer\\nMedia & Entertainment\\nConsumer\\nRetail\\nAccelerator Batches'\n",
            " 'Consumer\\nTravel and Hospitality Tech\\nFinTech'\n",
            " 'Enterprise Applications\\nFood Tech'\n",
            " 'Consumer\\nMedia & Entertainment\\nRetail'\n",
            " 'Consumer\\nTravel and Hospitality Tech\\nAccelerator Batches'\n",
            " 'Consumer\\nAuto Tech\\nTravel and Hospitality Tech\\nConsumer\\nConsumer\\nLogistics Tech\\nRetail\\nAuto Tech\\nEnergy Tech'\n",
            " 'Gig Economy\\nFinTech\\nFinTech\\nAccelerator Batches'\n",
            " 'Consumer\\nTravel and Hospitality Tech\\nTravel and Hospitality Tech'\n",
            " 'Consumer\\nMedia & Entertainment\\nAccelerator Batches'\n",
            " 'Consumer\\nReal Estate and Construction Tech\\nGeo - India Tech'\n",
            " 'HealthTech\\nHealthTech\\nHealthTech' 'HealthTech\\nCovid-19\\nConsumer'\n",
            " 'Technology\\nEdTech'\n",
            " 'Retail\\nCovid-19\\nRetail\\nRetail\\nAccelerator Batches'\n",
            " 'HealthTech\\nEdTech\\nEducation'\n",
            " 'Enterprise Applications\\nFood Tech\\nGeo - India Tech' 'Technology'\n",
            " 'EdTech\\nAccelerator Batches']\n",
            "Reach\n",
            "\n",
            "  [0.04296326 0.00324441 0.00016134 ... 0.00115337 0.00079944 0.00349757]\n",
            "Region\n",
            "\n",
            "  ['National']\n",
            "Total Funding (USD)\n",
            "\n",
            "  [           nan 4.08742700e+06 4.47302900e+06 1.22035300e+06\n",
            " 1.15604500e+06 3.44440000e+04 1.48790800e+06 5.49395900e+06\n",
            " 2.52500000e+07 3.85993700e+06 9.97351300e+06 1.89571200e+07\n",
            " 1.32562183e+08 4.00000000e+07 5.00000000e+07 1.14230450e+08\n",
            " 3.58033200e+06 1.00000000e+07 4.20800000e+04 3.69650951e+08\n",
            " 5.75394200e+06 4.28574180e+07 1.85000000e+06 7.72191000e+05\n",
            " 7.01169800e+06 1.78405300e+06 1.50000000e+05 1.56000000e+08\n",
            " 1.90412335e+08 4.81737000e+07 2.50674100e+06 1.21816000e+06\n",
            " 3.28445879e+09 5.51768100e+06 8.16771000e+08 2.24960450e+07\n",
            " 1.77339531e+09 8.52555000e+06 8.56570000e+04 2.15395239e+08\n",
            " 3.50000000e+07 4.85225500e+07 9.05937500e+06 8.30067100e+06\n",
            " 8.48700000e+07 2.90000000e+07 7.99000000e+04 2.00000000e+06\n",
            " 2.23524600e+06 1.53503614e+08 5.58869300e+06 1.52768959e+08\n",
            " 2.06563600e+06 3.73988330e+07 2.50000000e+08 6.48379000e+06\n",
            " 1.04222400e+07 1.90225220e+07 1.59537390e+07 4.87470100e+07\n",
            " 1.64406330e+07 2.30000000e+07 2.24350026e+08 4.40225000e+06\n",
            " 4.82643000e+05 1.49964490e+07 3.49311500e+06 4.91317000e+05\n",
            " 1.29166100e+06 1.00000000e+05 2.85762400e+06 2.56833000e+05\n",
            " 3.38927000e+08 2.06867300e+06 1.38222700e+07 5.71388200e+06\n",
            " 2.02071000e+06 1.38872000e+07 3.40167160e+07 1.16807600e+06\n",
            " 1.30589470e+07 4.63822300e+07 4.79323700e+06 8.05895000e+05\n",
            " 1.60000000e+07 6.42891800e+06 1.41445923e+08 5.53125438e+08\n",
            " 3.29960800e+07 6.32784400e+06 9.50000000e+06 5.73461000e+07\n",
            " 5.51947000e+05 7.01881000e+05 1.85000000e+07 2.42006000e+05\n",
            " 8.90544000e+05 2.52855560e+07 1.00000000e+06 9.51343300e+07\n",
            " 7.40141000e+05 1.72697050e+07 4.52321000e+05 5.90238000e+06\n",
            " 7.25704000e+05 2.66667000e+05 3.00000000e+05 2.00778900e+07\n",
            " 8.22135180e+07 4.13000000e+05 6.66670000e+04 3.35164200e+07\n",
            " 6.48999984e+08 9.44690000e+04 4.00000000e+06 2.46926700e+06\n",
            " 8.10000000e+07 4.14000000e+07 7.87555202e+08 7.06690000e+05\n",
            " 7.41271450e+07 2.60000000e+07 7.53762600e+07 1.53928520e+08\n",
            " 2.97035830e+08 1.74746000e+07 6.93081300e+06 1.42137410e+07\n",
            " 1.92867400e+06 3.05232000e+05 2.96172300e+06 1.38001950e+07\n",
            " 2.58020100e+06 1.18109000e+06 9.30731000e+05 4.20392800e+06\n",
            " 7.70716000e+05 4.32141550e+07 6.01406000e+06 9.46477000e+05\n",
            " 1.38932400e+06 5.04421600e+07 4.20016100e+06 6.23913000e+05\n",
            " 4.05753400e+07 4.91997330e+07 2.71392000e+07 9.44931000e+05\n",
            " 1.54173520e+07 4.20000000e+05 6.42410000e+04 3.06552400e+07\n",
            " 4.80409000e+06 4.03303000e+06 4.58000000e+07 1.90091460e+07\n",
            " 1.62382060e+09 3.56353000e+06 7.05614200e+06 1.07031605e+08\n",
            " 8.70000000e+07 2.84508240e+07 4.10000000e+06 5.97818600e+07\n",
            " 6.80316000e+05 1.13526590e+07 4.55464000e+06 8.71288600e+06\n",
            " 6.20000000e+01 5.00000000e+06 2.67698710e+07 8.51871000e+05\n",
            " 1.12518700e+06 1.70651570e+07 1.04828220e+08 6.13770000e+06\n",
            " 1.15046464e+08 4.32000000e+07 7.47743000e+06 2.61566000e+05\n",
            " 7.54425400e+06 4.71826720e+07 4.94900000e+04 1.55249000e+05\n",
            " 1.60000000e+06 1.34778300e+06 1.46348370e+07 4.76828000e+06\n",
            " 4.51234130e+07 2.69526000e+05 3.70000000e+07 5.81327600e+06\n",
            " 1.35887600e+06 1.82184700e+06 1.41580500e+08 4.62056000e+05\n",
            " 3.77503020e+07 5.60414300e+08 1.20000000e+06 1.22005100e+06\n",
            " 1.92972780e+07 4.69927100e+06 2.29575000e+07 4.36848400e+06\n",
            " 2.30680740e+08 8.00000000e+06 2.09464300e+08 3.44919000e+05\n",
            " 1.71944200e+06 3.27871800e+06 1.30000000e+06 3.93960400e+07\n",
            " 5.50023800e+06 2.01480700e+06 1.57853452e+08 3.34463700e+06\n",
            " 1.16765860e+08 2.02036900e+08 3.74113400e+06 2.57411070e+07\n",
            " 5.86669600e+06 3.85000000e+08 1.12105130e+07 9.13386000e+05\n",
            " 5.14336700e+07 7.20142998e+09 5.44438000e+05 4.38153500e+07\n",
            " 8.47873100e+06 2.12353300e+08 2.18070700e+07 5.54821290e+07\n",
            " 4.12263600e+07 1.86414000e+05 7.33579000e+07 4.74221200e+07\n",
            " 2.89542990e+07 1.00233800e+07 5.94825520e+07 6.43509170e+07\n",
            " 3.20104180e+07 1.29254230e+07 1.68495500e+07 2.31921850e+08\n",
            " 5.49706600e+07 5.57195000e+05 2.97694030e+07 6.83850000e+04\n",
            " 9.44772300e+06 1.07186595e+08 5.12916000e+05 7.00644000e+06\n",
            " 2.06388793e+08 7.38637000e+05 1.00947681e+08 3.41610000e+04\n",
            " 3.60601000e+05 9.29121500e+06 5.10000000e+07 9.83740000e+05\n",
            " 2.10068000e+05 9.98549000e+06 3.15000000e+06 1.46390900e+07\n",
            " 3.54104750e+07 1.01888500e+06 3.04036000e+07 2.20000000e+08\n",
            " 2.93185000e+05 5.47521700e+08 1.05531940e+07 4.85559000e+05\n",
            " 8.15181800e+06 2.85000000e+06 2.20981000e+05 1.69688000e+05\n",
            " 2.45543240e+08 2.53919600e+07 9.54134000e+05 1.27209400e+06\n",
            " 3.59806480e+07 3.67717700e+06 2.59669000e+05 4.58077800e+06\n",
            " 7.87878000e+05 5.66402000e+06 1.68941620e+07 1.41006800e+06\n",
            " 2.28285840e+07 4.93000000e+07 2.14588900e+06 8.29572300e+06\n",
            " 3.53535841e+09 3.11182480e+07 1.06128800e+07 3.88614900e+06\n",
            " 2.00837000e+06 4.22052000e+05 4.78332390e+08 4.20327580e+07\n",
            " 6.68000000e+08 7.64062310e+07 1.23316490e+07 5.82835700e+07\n",
            " 1.15440810e+07 2.88997000e+05 5.35274100e+06 3.00000000e+06\n",
            " 2.48902717e+08 5.15275500e+06 3.16197000e+05 2.94303000e+06\n",
            " 1.91000000e+05 2.55125900e+07 2.80000000e+06 2.84856640e+07\n",
            " 7.44882000e+05 4.92390000e+04 6.59207100e+06 1.53803700e+06\n",
            " 7.86824000e+06 3.19210000e+04 1.45000000e+05 1.30620500e+06\n",
            " 2.34070000e+05 6.63746200e+06 1.19116000e+06 1.69061000e+05]\n",
            "Total_Session_Time\n",
            "\n",
            "  [        nan  2.74799435  4.12121421 ...  1.3463     75.60653333\n",
            " 97.12285   ]\n",
            "Uninstall_Rate\n",
            "\n",
            "  [0.02444298 0.00982801 0.23529412 ... 0.18711801 0.1218986  0.04151177]\n",
            "funding_ind\n",
            "\n",
            "  [0 1]\n"
          ],
          "name": "stdout"
        }
      ]
    },
    {
      "cell_type": "markdown",
      "metadata": {
        "id": "Tu7umeeY7vtu"
      },
      "source": [
        "### **D**"
      ]
    },
    {
      "cell_type": "markdown",
      "metadata": {
        "id": "A4E25D1o9rX3"
      },
      "source": [
        "checking for duplicated and dropping them."
      ]
    },
    {
      "cell_type": "code",
      "metadata": {
        "colab": {
          "base_uri": "https://localhost:8080/"
        },
        "id": "Kn53KvjI9zsy",
        "outputId": "e4e2a998-1bb9-47f3-f61f-ba313b60a446"
      },
      "source": [
        "startups.duplicated().sum()"
      ],
      "execution_count": null,
      "outputs": [
        {
          "output_type": "execute_result",
          "data": {
            "text/plain": [
              "89460"
            ]
          },
          "metadata": {
            "tags": []
          },
          "execution_count": 88
        }
      ]
    },
    {
      "cell_type": "code",
      "metadata": {
        "colab": {
          "base_uri": "https://localhost:8080/"
        },
        "id": "0aYs4Wk5-sws",
        "outputId": "833f445c-632f-4c4d-9e24-5e85bd9b2f5d"
      },
      "source": [
        "# dropping ALL duplicte values \r\n",
        "new_df = startups.drop_duplicates()\r\n",
        "new_df.shape "
      ],
      "execution_count": null,
      "outputs": [
        {
          "output_type": "execute_result",
          "data": {
            "text/plain": [
              "(1412825, 20)"
            ]
          },
          "metadata": {
            "tags": []
          },
          "execution_count": 89
        }
      ]
    },
    {
      "cell_type": "code",
      "metadata": {
        "colab": {
          "base_uri": "https://localhost:8080/"
        },
        "id": "7fmT_7lN7vQ2",
        "outputId": "dd7ac86b-beb8-4938-9d0b-76bd11655f9a"
      },
      "source": [
        "total_features = list(new_df.columns)\r\n",
        "total_features"
      ],
      "execution_count": null,
      "outputs": [
        {
          "output_type": "execute_result",
          "data": {
            "text/plain": [
              "['UUID',\n",
              " 'month',\n",
              " 'Application Category',\n",
              " 'Avg_Session_Time',\n",
              " 'Business Models',\n",
              " 'City',\n",
              " 'Company Stage',\n",
              " 'Feed Name',\n",
              " 'Founded Year',\n",
              " 'Latest Funded Date',\n",
              " 'MAU',\n",
              " 'Open_Rate',\n",
              " 'Overview',\n",
              " 'Practice Areas',\n",
              " 'Reach',\n",
              " 'Region',\n",
              " 'Total Funding (USD)',\n",
              " 'Total_Session_Time',\n",
              " 'Uninstall_Rate',\n",
              " 'funding_ind']"
            ]
          },
          "metadata": {
            "tags": []
          },
          "execution_count": 90
        }
      ]
    },
    {
      "cell_type": "code",
      "metadata": {
        "id": "xbDVnXSLlore"
      },
      "source": [
        "usable_features = ['UUID',\r\n",
        " 'month',\r\n",
        " 'Application Category',\r\n",
        " 'Avg_Session_Time',\r\n",
        " 'Open_Rate',\r\n",
        " 'Reach',\r\n",
        " 'Total_Session_Time',\r\n",
        " 'funding_ind']"
      ],
      "execution_count": null,
      "outputs": []
    },
    {
      "cell_type": "code",
      "metadata": {
        "id": "jEnq5wzS9WBv"
      },
      "source": [
        "clf_df = new_df[usable_features]"
      ],
      "execution_count": null,
      "outputs": []
    },
    {
      "cell_type": "code",
      "metadata": {
        "colab": {
          "base_uri": "https://localhost:8080/",
          "height": 215
        },
        "id": "45-J6-nNAEg6",
        "outputId": "2404509f-f21b-44c6-b8b0-bf972de76d45"
      },
      "source": [
        "clf_df.head()"
      ],
      "execution_count": null,
      "outputs": [
        {
          "output_type": "execute_result",
          "data": {
            "text/html": [
              "<div>\n",
              "<style scoped>\n",
              "    .dataframe tbody tr th:only-of-type {\n",
              "        vertical-align: middle;\n",
              "    }\n",
              "\n",
              "    .dataframe tbody tr th {\n",
              "        vertical-align: top;\n",
              "    }\n",
              "\n",
              "    .dataframe thead th {\n",
              "        text-align: right;\n",
              "    }\n",
              "</style>\n",
              "<table border=\"1\" class=\"dataframe\">\n",
              "  <thead>\n",
              "    <tr style=\"text-align: right;\">\n",
              "      <th></th>\n",
              "      <th>UUID</th>\n",
              "      <th>month</th>\n",
              "      <th>Application Category</th>\n",
              "      <th>Avg_Session_Time</th>\n",
              "      <th>Open_Rate</th>\n",
              "      <th>Reach</th>\n",
              "      <th>Total_Session_Time</th>\n",
              "      <th>funding_ind</th>\n",
              "    </tr>\n",
              "  </thead>\n",
              "  <tbody>\n",
              "    <tr>\n",
              "      <th>0</th>\n",
              "      <td>c1ad38e2d357610c129657d870ede902e8abfcb9</td>\n",
              "      <td>20180801</td>\n",
              "      <td>Books &amp; Reference</td>\n",
              "      <td>NaN</td>\n",
              "      <td>NaN</td>\n",
              "      <td>0.042963</td>\n",
              "      <td>NaN</td>\n",
              "      <td>0</td>\n",
              "    </tr>\n",
              "    <tr>\n",
              "      <th>1</th>\n",
              "      <td>d841e670d9191f896a0cbc75961920887b375756</td>\n",
              "      <td>20180801</td>\n",
              "      <td>Books &amp; Reference</td>\n",
              "      <td>NaN</td>\n",
              "      <td>NaN</td>\n",
              "      <td>0.003244</td>\n",
              "      <td>NaN</td>\n",
              "      <td>0</td>\n",
              "    </tr>\n",
              "    <tr>\n",
              "      <th>2</th>\n",
              "      <td>0a59d138b3eaccd22b665eae70c756fef83ddb63</td>\n",
              "      <td>20180801</td>\n",
              "      <td>Finance</td>\n",
              "      <td>NaN</td>\n",
              "      <td>NaN</td>\n",
              "      <td>0.000161</td>\n",
              "      <td>NaN</td>\n",
              "      <td>0</td>\n",
              "    </tr>\n",
              "    <tr>\n",
              "      <th>3</th>\n",
              "      <td>0a59d138b3eaccd22b665eae70c756fef83ddb63</td>\n",
              "      <td>20180801</td>\n",
              "      <td>Books &amp; Reference</td>\n",
              "      <td>NaN</td>\n",
              "      <td>NaN</td>\n",
              "      <td>0.000077</td>\n",
              "      <td>NaN</td>\n",
              "      <td>0</td>\n",
              "    </tr>\n",
              "    <tr>\n",
              "      <th>4</th>\n",
              "      <td>df5fb9891f77df24a91d039f1817c6c4e79244ef</td>\n",
              "      <td>20180801</td>\n",
              "      <td>Productivity</td>\n",
              "      <td>NaN</td>\n",
              "      <td>NaN</td>\n",
              "      <td>0.000939</td>\n",
              "      <td>NaN</td>\n",
              "      <td>0</td>\n",
              "    </tr>\n",
              "  </tbody>\n",
              "</table>\n",
              "</div>"
            ],
            "text/plain": [
              "                                       UUID  ...  funding_ind\n",
              "0  c1ad38e2d357610c129657d870ede902e8abfcb9  ...            0\n",
              "1  d841e670d9191f896a0cbc75961920887b375756  ...            0\n",
              "2  0a59d138b3eaccd22b665eae70c756fef83ddb63  ...            0\n",
              "3  0a59d138b3eaccd22b665eae70c756fef83ddb63  ...            0\n",
              "4  df5fb9891f77df24a91d039f1817c6c4e79244ef  ...            0\n",
              "\n",
              "[5 rows x 8 columns]"
            ]
          },
          "metadata": {
            "tags": []
          },
          "execution_count": 93
        }
      ]
    },
    {
      "cell_type": "markdown",
      "metadata": {
        "id": "SGGCc1tsBu6l"
      },
      "source": [
        "Checking for null values"
      ]
    },
    {
      "cell_type": "code",
      "metadata": {
        "colab": {
          "base_uri": "https://localhost:8080/"
        },
        "id": "ygpupa7aAOSm",
        "outputId": "84283291-daff-463c-8a16-38005a10864d"
      },
      "source": [
        "clf_df.isnull().sum()"
      ],
      "execution_count": null,
      "outputs": [
        {
          "output_type": "execute_result",
          "data": {
            "text/plain": [
              "UUID                       969\n",
              "month                        0\n",
              "Application Category         0\n",
              "Avg_Session_Time        535062\n",
              "Open_Rate               535079\n",
              "Reach                   451315\n",
              "Total_Session_Time      535129\n",
              "funding_ind                  0\n",
              "dtype: int64"
            ]
          },
          "metadata": {
            "tags": []
          },
          "execution_count": 94
        }
      ]
    },
    {
      "cell_type": "code",
      "metadata": {
        "colab": {
          "base_uri": "https://localhost:8080/",
          "height": 544
        },
        "id": "uu-nMaRFByK9",
        "outputId": "0f221d74-993f-4641-b2c7-ba4017c70126"
      },
      "source": [
        "plt.figure(figsize=(14,7))\r\n",
        "sns.heatmap(clf_df.isnull())"
      ],
      "execution_count": null,
      "outputs": [
        {
          "output_type": "execute_result",
          "data": {
            "text/plain": [
              "<matplotlib.axes._subplots.AxesSubplot at 0x7fe41912e208>"
            ]
          },
          "metadata": {
            "tags": []
          },
          "execution_count": 95
        },
        {
          "output_type": "display_data",
          "data": {
            "image/png": "[encoded data removed]",
            "text/plain": [
              "<Figure size 1008x504 with 2 Axes>"
            ]
          },
          "metadata": {
            "tags": [],
            "needs_background": "light"
          }
        }
      ]
    },
    {
      "cell_type": "code",
      "metadata": {
        "colab": {
          "base_uri": "https://localhost:8080/"
        },
        "id": "B0sQZLqrDKXp",
        "outputId": "d460b08c-92ec-4d19-e88d-d92c25328d72"
      },
      "source": [
        "clf_df[clf_df['funding_ind'] == 1].UUID.isnull().sum()"
      ],
      "execution_count": null,
      "outputs": [
        {
          "output_type": "execute_result",
          "data": {
            "text/plain": [
              "0"
            ]
          },
          "metadata": {
            "tags": []
          },
          "execution_count": 96
        }
      ]
    },
    {
      "cell_type": "code",
      "metadata": {
        "colab": {
          "base_uri": "https://localhost:8080/"
        },
        "id": "prCTfkBcDzS8",
        "outputId": "2bafb20d-05f1-420f-b2c8-c42c5292ceb1"
      },
      "source": [
        "clf_df[clf_df['funding_ind'] == 0].UUID.isnull().sum()"
      ],
      "execution_count": null,
      "outputs": [
        {
          "output_type": "execute_result",
          "data": {
            "text/plain": [
              "969"
            ]
          },
          "metadata": {
            "tags": []
          },
          "execution_count": 97
        }
      ]
    },
    {
      "cell_type": "code",
      "metadata": {
        "id": "g-d7EukID_zl"
      },
      "source": [
        "clf_df =clf_df[~clf_df['UUID'].isnull()] "
      ],
      "execution_count": null,
      "outputs": []
    },
    {
      "cell_type": "code",
      "metadata": {
        "colab": {
          "base_uri": "https://localhost:8080/"
        },
        "id": "6iUXORc3D5HM",
        "outputId": "d53a9848-e121-4249-899d-96f948182829"
      },
      "source": [
        "clf_df[clf_df['funding_ind'] == 0].UUID.isnull().sum()"
      ],
      "execution_count": null,
      "outputs": [
        {
          "output_type": "execute_result",
          "data": {
            "text/plain": [
              "0"
            ]
          },
          "metadata": {
            "tags": []
          },
          "execution_count": 99
        }
      ]
    },
    {
      "cell_type": "code",
      "metadata": {
        "id": "A-jCJu5Ib7LW"
      },
      "source": [
        "# Function to create barplots that indicate percentage for each category.\r\n",
        "\r\n",
        "def perc_on_bar(plot, feature):\r\n",
        "    '''\r\n",
        "    plot\r\n",
        "    feature: categorical feature\r\n",
        "    the function won't work if a column is passed in hue parameter\r\n",
        "    '''\r\n",
        "    total = len(feature) # length of the column\r\n",
        "    for p in ax.patches:\r\n",
        "        percentage = '{:.1f}%'.format(100 * p.get_height()/total) # percentage of each class of the category\r\n",
        "        x = p.get_x() + p.get_width() / 2 - 0.05 # width of the plot\r\n",
        "        y = p.get_y() + p.get_height()           # hieght of the plot\r\n",
        "        ax.annotate(percentage, (x, y), size = 12) # annotate the percantage \r\n",
        "    plt.show() # show the plot"
      ],
      "execution_count": 46,
      "outputs": []
    },
    {
      "cell_type": "code",
      "metadata": {
        "id": "ZX-SKhiC_T6u"
      },
      "source": [
        "def changeTodate(x):\r\n",
        "  month = str(x)[4:6]\r\n",
        "  day = str(x)[6:]\r\n",
        "  year = str(x)[0:4]\r\n",
        "  date = day+'/'+month+'/'+year\r\n",
        "  return int(day),int(month),int(year),date\r\n",
        "  # return pd.to_datetime(date,format='dd/mm/yy')\r\n"
      ],
      "execution_count": null,
      "outputs": []
    },
    {
      "cell_type": "code",
      "metadata": {
        "id": "hyH-am4r-623"
      },
      "source": [
        "clf_df['observed day'] = clf_df['month'].apply(lambda x:changeTodate(x)[0])\r\n",
        "clf_df['observed month'] = clf_df['month'].apply(lambda x: changeTodate(x)[1])\r\n",
        "clf_df['observed year'] = clf_df['month'].apply(lambda x: changeTodate(x)[2])"
      ],
      "execution_count": null,
      "outputs": []
    },
    {
      "cell_type": "code",
      "metadata": {
        "id": "6C8QRzElN7D6"
      },
      "source": [
        "import warnings\r\n",
        "warnings.filterwarnings('ignore')"
      ],
      "execution_count": null,
      "outputs": []
    },
    {
      "cell_type": "code",
      "metadata": {
        "id": "cH2rLmWmM3zB"
      },
      "source": [
        "def fill_missing(dataframe):\r\n",
        "  new_data = pd.DataFrame(columns=dataframe.columns)\r\n",
        "  Category_list = dataframe['Application Category'].value_counts().index.to_list()\r\n",
        "  years = dataframe['observed year'].value_counts().index.to_list()\r\n",
        "  for i in Category_list:\r\n",
        "    temp = dataframe[dataframe['Application Category']==i]\r\n",
        "    for y in years:\r\n",
        "      temp1 = temp[temp['observed year']==y]\r\n",
        "      temp1.fillna(method='ffill', limit = 2, inplace = True)\r\n",
        "      temp1.fillna(method='backfill', limit = 1, inplace = True)\r\n",
        "      new_data = pd.concat([new_data, temp1])\r\n",
        "  \r\n",
        "  new_data_1 = pd.DataFrame(columns=dataframe.columns)\r\n",
        "  for i in Category_list:\r\n",
        "    temp = new_data[new_data['Application Category']==i]\r\n",
        "    for y in years:\r\n",
        "      temp1 = temp[temp['observed year']==y]\r\n",
        "      temp1.fillna(temp1.mean(), inplace = True)\r\n",
        "      new_data_1 = pd.concat([new_data_1, temp1])\r\n",
        "\r\n",
        "  Final_data = pd.DataFrame(columns=dataframe.columns)  \r\n",
        "  for i in Category_list:\r\n",
        "    temp = new_data_1[new_data_1['Application Category']==i]\r\n",
        "    temp.fillna(temp.mean(), inplace = True)\r\n",
        "    Final_data = pd.concat([Final_data, temp])\r\n",
        "\r\n",
        "  return Final_data"
      ],
      "execution_count": null,
      "outputs": []
    },
    {
      "cell_type": "code",
      "metadata": {
        "id": "rbBHTP7YM9z2"
      },
      "source": [
        "final_df = fill_missing(clf_df)"
      ],
      "execution_count": null,
      "outputs": []
    },
    {
      "cell_type": "code",
      "metadata": {
        "colab": {
          "base_uri": "https://localhost:8080/",
          "height": 316
        },
        "id": "aVT6uJOMVtmG",
        "outputId": "75b8e650-c904-42dd-c377-9bbb423ff950"
      },
      "source": [
        "final_df.head()"
      ],
      "execution_count": null,
      "outputs": [
        {
          "output_type": "execute_result",
          "data": {
            "text/html": [
              "<div>\n",
              "<style scoped>\n",
              "    .dataframe tbody tr th:only-of-type {\n",
              "        vertical-align: middle;\n",
              "    }\n",
              "\n",
              "    .dataframe tbody tr th {\n",
              "        vertical-align: top;\n",
              "    }\n",
              "\n",
              "    .dataframe thead th {\n",
              "        text-align: right;\n",
              "    }\n",
              "</style>\n",
              "<table border=\"1\" class=\"dataframe\">\n",
              "  <thead>\n",
              "    <tr style=\"text-align: right;\">\n",
              "      <th></th>\n",
              "      <th>UUID</th>\n",
              "      <th>month</th>\n",
              "      <th>Application Category</th>\n",
              "      <th>Avg_Session_Time</th>\n",
              "      <th>Open_Rate</th>\n",
              "      <th>Reach</th>\n",
              "      <th>Total_Session_Time</th>\n",
              "      <th>funding_ind</th>\n",
              "      <th>observed day</th>\n",
              "      <th>observed month</th>\n",
              "      <th>observed year</th>\n",
              "    </tr>\n",
              "  </thead>\n",
              "  <tbody>\n",
              "    <tr>\n",
              "      <th>125726</th>\n",
              "      <td>615ff89844fb9b8804559eedab5f13f569b8c63c</td>\n",
              "      <td>20200301</td>\n",
              "      <td>Education</td>\n",
              "      <td>0.799037</td>\n",
              "      <td>3.571429</td>\n",
              "      <td>9.860441e-06</td>\n",
              "      <td>3.285362</td>\n",
              "      <td>0</td>\n",
              "      <td>1</td>\n",
              "      <td>3</td>\n",
              "      <td>2020</td>\n",
              "    </tr>\n",
              "    <tr>\n",
              "      <th>125731</th>\n",
              "      <td>4096f9f35c2efe32751614b5de6ca4966d770b41</td>\n",
              "      <td>20200301</td>\n",
              "      <td>Education</td>\n",
              "      <td>0.799037</td>\n",
              "      <td>3.571429</td>\n",
              "      <td>1.972088e-07</td>\n",
              "      <td>3.285362</td>\n",
              "      <td>0</td>\n",
              "      <td>1</td>\n",
              "      <td>3</td>\n",
              "      <td>2020</td>\n",
              "    </tr>\n",
              "    <tr>\n",
              "      <th>125760</th>\n",
              "      <td>ea1d85c85770124a6ec1904843f066a3a7d09b0a</td>\n",
              "      <td>20200301</td>\n",
              "      <td>Education</td>\n",
              "      <td>0.799037</td>\n",
              "      <td>3.571429</td>\n",
              "      <td>1.972088e-07</td>\n",
              "      <td>3.285362</td>\n",
              "      <td>0</td>\n",
              "      <td>1</td>\n",
              "      <td>3</td>\n",
              "      <td>2020</td>\n",
              "    </tr>\n",
              "    <tr>\n",
              "      <th>125771</th>\n",
              "      <td>c495446fe78d349ba3a51b12029d4343e4ed8001</td>\n",
              "      <td>20200301</td>\n",
              "      <td>Education</td>\n",
              "      <td>1.504116</td>\n",
              "      <td>3.131962</td>\n",
              "      <td>1.972088e-07</td>\n",
              "      <td>4.991207</td>\n",
              "      <td>0</td>\n",
              "      <td>1</td>\n",
              "      <td>3</td>\n",
              "      <td>2020</td>\n",
              "    </tr>\n",
              "    <tr>\n",
              "      <th>125776</th>\n",
              "      <td>caf0ec13bb28fc975d5c3a1fabed988c753c7af2</td>\n",
              "      <td>20200301</td>\n",
              "      <td>Education</td>\n",
              "      <td>1.504116</td>\n",
              "      <td>3.131962</td>\n",
              "      <td>1.972088e-07</td>\n",
              "      <td>4.991207</td>\n",
              "      <td>0</td>\n",
              "      <td>1</td>\n",
              "      <td>3</td>\n",
              "      <td>2020</td>\n",
              "    </tr>\n",
              "  </tbody>\n",
              "</table>\n",
              "</div>"
            ],
            "text/plain": [
              "                                            UUID  ... observed year\n",
              "125726  615ff89844fb9b8804559eedab5f13f569b8c63c  ...          2020\n",
              "125731  4096f9f35c2efe32751614b5de6ca4966d770b41  ...          2020\n",
              "125760  ea1d85c85770124a6ec1904843f066a3a7d09b0a  ...          2020\n",
              "125771  c495446fe78d349ba3a51b12029d4343e4ed8001  ...          2020\n",
              "125776  caf0ec13bb28fc975d5c3a1fabed988c753c7af2  ...          2020\n",
              "\n",
              "[5 rows x 11 columns]"
            ]
          },
          "metadata": {
            "tags": []
          },
          "execution_count": 121
        }
      ]
    },
    {
      "cell_type": "code",
      "metadata": {
        "id": "CDnGItsEQiYJ"
      },
      "source": [
        "final_df.to_csv('/content/drive/MyDrive/AlmaBetter/Cohort Aravali/Module 4/Week 4/cleaned_data.csv',index=False)"
      ],
      "execution_count": null,
      "outputs": []
    },
    {
      "cell_type": "code",
      "metadata": {
        "colab": {
          "base_uri": "https://localhost:8080/",
          "height": 316
        },
        "id": "DGiuOY2oQxSf",
        "outputId": "63bdf21e-50b7-4e28-851c-ffc810fa09e7"
      },
      "source": [
        "cleaned_df = pd.read_csv('/content/drive/MyDrive/AlmaBetter/Cohort Aravali/Module 4/Week 4/cleaned_data.csv')\r\n",
        "cleaned_df.head()"
      ],
      "execution_count": 14,
      "outputs": [
        {
          "output_type": "execute_result",
          "data": {
            "text/html": [
              "<div>\n",
              "<style scoped>\n",
              "    .dataframe tbody tr th:only-of-type {\n",
              "        vertical-align: middle;\n",
              "    }\n",
              "\n",
              "    .dataframe tbody tr th {\n",
              "        vertical-align: top;\n",
              "    }\n",
              "\n",
              "    .dataframe thead th {\n",
              "        text-align: right;\n",
              "    }\n",
              "</style>\n",
              "<table border=\"1\" class=\"dataframe\">\n",
              "  <thead>\n",
              "    <tr style=\"text-align: right;\">\n",
              "      <th></th>\n",
              "      <th>UUID</th>\n",
              "      <th>month</th>\n",
              "      <th>Application Category</th>\n",
              "      <th>Avg_Session_Time</th>\n",
              "      <th>Open_Rate</th>\n",
              "      <th>Reach</th>\n",
              "      <th>Total_Session_Time</th>\n",
              "      <th>funding_ind</th>\n",
              "      <th>observed day</th>\n",
              "      <th>observed month</th>\n",
              "      <th>observed year</th>\n",
              "    </tr>\n",
              "  </thead>\n",
              "  <tbody>\n",
              "    <tr>\n",
              "      <th>0</th>\n",
              "      <td>615ff89844fb9b8804559eedab5f13f569b8c63c</td>\n",
              "      <td>20200301</td>\n",
              "      <td>Education</td>\n",
              "      <td>0.799037</td>\n",
              "      <td>3.571429</td>\n",
              "      <td>9.860441e-06</td>\n",
              "      <td>3.285362</td>\n",
              "      <td>0</td>\n",
              "      <td>1</td>\n",
              "      <td>3</td>\n",
              "      <td>2020</td>\n",
              "    </tr>\n",
              "    <tr>\n",
              "      <th>1</th>\n",
              "      <td>4096f9f35c2efe32751614b5de6ca4966d770b41</td>\n",
              "      <td>20200301</td>\n",
              "      <td>Education</td>\n",
              "      <td>0.799037</td>\n",
              "      <td>3.571429</td>\n",
              "      <td>1.972088e-07</td>\n",
              "      <td>3.285362</td>\n",
              "      <td>0</td>\n",
              "      <td>1</td>\n",
              "      <td>3</td>\n",
              "      <td>2020</td>\n",
              "    </tr>\n",
              "    <tr>\n",
              "      <th>2</th>\n",
              "      <td>ea1d85c85770124a6ec1904843f066a3a7d09b0a</td>\n",
              "      <td>20200301</td>\n",
              "      <td>Education</td>\n",
              "      <td>0.799037</td>\n",
              "      <td>3.571429</td>\n",
              "      <td>1.972088e-07</td>\n",
              "      <td>3.285362</td>\n",
              "      <td>0</td>\n",
              "      <td>1</td>\n",
              "      <td>3</td>\n",
              "      <td>2020</td>\n",
              "    </tr>\n",
              "    <tr>\n",
              "      <th>3</th>\n",
              "      <td>c495446fe78d349ba3a51b12029d4343e4ed8001</td>\n",
              "      <td>20200301</td>\n",
              "      <td>Education</td>\n",
              "      <td>1.504116</td>\n",
              "      <td>3.131962</td>\n",
              "      <td>1.972088e-07</td>\n",
              "      <td>4.991207</td>\n",
              "      <td>0</td>\n",
              "      <td>1</td>\n",
              "      <td>3</td>\n",
              "      <td>2020</td>\n",
              "    </tr>\n",
              "    <tr>\n",
              "      <th>4</th>\n",
              "      <td>caf0ec13bb28fc975d5c3a1fabed988c753c7af2</td>\n",
              "      <td>20200301</td>\n",
              "      <td>Education</td>\n",
              "      <td>1.504116</td>\n",
              "      <td>3.131962</td>\n",
              "      <td>1.972088e-07</td>\n",
              "      <td>4.991207</td>\n",
              "      <td>0</td>\n",
              "      <td>1</td>\n",
              "      <td>3</td>\n",
              "      <td>2020</td>\n",
              "    </tr>\n",
              "  </tbody>\n",
              "</table>\n",
              "</div>"
            ],
            "text/plain": [
              "                                       UUID  ...  observed year\n",
              "0  615ff89844fb9b8804559eedab5f13f569b8c63c  ...           2020\n",
              "1  4096f9f35c2efe32751614b5de6ca4966d770b41  ...           2020\n",
              "2  ea1d85c85770124a6ec1904843f066a3a7d09b0a  ...           2020\n",
              "3  c495446fe78d349ba3a51b12029d4343e4ed8001  ...           2020\n",
              "4  caf0ec13bb28fc975d5c3a1fabed988c753c7af2  ...           2020\n",
              "\n",
              "[5 rows x 11 columns]"
            ]
          },
          "metadata": {
            "tags": []
          },
          "execution_count": 14
        }
      ]
    },
    {
      "cell_type": "code",
      "metadata": {
        "id": "G4YhKILtRt54"
      },
      "source": [
        "cleaned_df.drop(['observed day','month'],axis=1,inplace=True)"
      ],
      "execution_count": 15,
      "outputs": []
    },
    {
      "cell_type": "code",
      "metadata": {
        "colab": {
          "base_uri": "https://localhost:8080/"
        },
        "id": "Wl32_8c4RauB",
        "outputId": "257f12d2-824a-41fc-910d-9a0772144f2e"
      },
      "source": [
        "cleaned_df.isna().sum()"
      ],
      "execution_count": 16,
      "outputs": [
        {
          "output_type": "execute_result",
          "data": {
            "text/plain": [
              "UUID                    0\n",
              "Application Category    0\n",
              "Avg_Session_Time        0\n",
              "Open_Rate               0\n",
              "Reach                   0\n",
              "Total_Session_Time      0\n",
              "funding_ind             0\n",
              "observed month          0\n",
              "observed year           0\n",
              "dtype: int64"
            ]
          },
          "metadata": {
            "tags": []
          },
          "execution_count": 16
        }
      ]
    },
    {
      "cell_type": "code",
      "metadata": {
        "colab": {
          "base_uri": "https://localhost:8080/",
          "height": 316
        },
        "id": "Zho2WBIhMIe3",
        "outputId": "9d18b171-3cf4-4f0b-cf53-3591e348043d"
      },
      "source": [
        "month_wise_df= cleaned_df.groupby(['UUID','Application Category','observed month','observed year']).mean().reset_index()\r\n",
        "month_wise_df.head()"
      ],
      "execution_count": 31,
      "outputs": [
        {
          "output_type": "execute_result",
          "data": {
            "text/html": [
              "<div>\n",
              "<style scoped>\n",
              "    .dataframe tbody tr th:only-of-type {\n",
              "        vertical-align: middle;\n",
              "    }\n",
              "\n",
              "    .dataframe tbody tr th {\n",
              "        vertical-align: top;\n",
              "    }\n",
              "\n",
              "    .dataframe thead th {\n",
              "        text-align: right;\n",
              "    }\n",
              "</style>\n",
              "<table border=\"1\" class=\"dataframe\">\n",
              "  <thead>\n",
              "    <tr style=\"text-align: right;\">\n",
              "      <th></th>\n",
              "      <th>UUID</th>\n",
              "      <th>Application Category</th>\n",
              "      <th>observed month</th>\n",
              "      <th>observed year</th>\n",
              "      <th>Avg_Session_Time</th>\n",
              "      <th>Open_Rate</th>\n",
              "      <th>Reach</th>\n",
              "      <th>Total_Session_Time</th>\n",
              "      <th>funding_ind</th>\n",
              "    </tr>\n",
              "  </thead>\n",
              "  <tbody>\n",
              "    <tr>\n",
              "      <th>0</th>\n",
              "      <td>000066f130e3b972364c505c805e2cddee68816d</td>\n",
              "      <td>Business</td>\n",
              "      <td>3</td>\n",
              "      <td>2020</td>\n",
              "      <td>0.770633</td>\n",
              "      <td>3.322581</td>\n",
              "      <td>1.972088e-07</td>\n",
              "      <td>2.770216</td>\n",
              "      <td>0</td>\n",
              "    </tr>\n",
              "    <tr>\n",
              "      <th>1</th>\n",
              "      <td>000066f130e3b972364c505c805e2cddee68816d</td>\n",
              "      <td>Business</td>\n",
              "      <td>4</td>\n",
              "      <td>2020</td>\n",
              "      <td>1.422606</td>\n",
              "      <td>1.666667</td>\n",
              "      <td>3.022203e-07</td>\n",
              "      <td>2.793617</td>\n",
              "      <td>0</td>\n",
              "    </tr>\n",
              "    <tr>\n",
              "      <th>2</th>\n",
              "      <td>000066f130e3b972364c505c805e2cddee68816d</td>\n",
              "      <td>Business</td>\n",
              "      <td>6</td>\n",
              "      <td>2020</td>\n",
              "      <td>1.106979</td>\n",
              "      <td>4.333333</td>\n",
              "      <td>4.889378e-06</td>\n",
              "      <td>2.576717</td>\n",
              "      <td>0</td>\n",
              "    </tr>\n",
              "    <tr>\n",
              "      <th>3</th>\n",
              "      <td>0000c4128bc8bb7dbfbc68f2afec85f485dbcc6b</td>\n",
              "      <td>Finance</td>\n",
              "      <td>4</td>\n",
              "      <td>2020</td>\n",
              "      <td>0.595371</td>\n",
              "      <td>6.166667</td>\n",
              "      <td>3.022203e-07</td>\n",
              "      <td>3.845703</td>\n",
              "      <td>0</td>\n",
              "    </tr>\n",
              "    <tr>\n",
              "      <th>4</th>\n",
              "      <td>0000d19d56df9df1f266fc1fd245a37ff27fb1f3</td>\n",
              "      <td>Social</td>\n",
              "      <td>2</td>\n",
              "      <td>2020</td>\n",
              "      <td>1.471044</td>\n",
              "      <td>3.000000</td>\n",
              "      <td>9.665592e-04</td>\n",
              "      <td>4.413133</td>\n",
              "      <td>0</td>\n",
              "    </tr>\n",
              "  </tbody>\n",
              "</table>\n",
              "</div>"
            ],
            "text/plain": [
              "                                       UUID  ... funding_ind\n",
              "0  000066f130e3b972364c505c805e2cddee68816d  ...           0\n",
              "1  000066f130e3b972364c505c805e2cddee68816d  ...           0\n",
              "2  000066f130e3b972364c505c805e2cddee68816d  ...           0\n",
              "3  0000c4128bc8bb7dbfbc68f2afec85f485dbcc6b  ...           0\n",
              "4  0000d19d56df9df1f266fc1fd245a37ff27fb1f3  ...           0\n",
              "\n",
              "[5 rows x 9 columns]"
            ]
          },
          "metadata": {
            "tags": []
          },
          "execution_count": 31
        }
      ]
    },
    {
      "cell_type": "code",
      "metadata": {
        "id": "hC-VK8eNU3dC"
      },
      "source": [
        "UUID_value_count_df = month_wise_df.UUID.value_counts().reset_index()\r\n",
        "UUID_value_count_df = UUID_value_count_df.rename(columns={'index':'UUID','UUID':'value_counts'})\r\n",
        "indx = UUID_value_count_df[(UUID_value_count_df['value_counts'] == 1) | (UUID_value_count_df['value_counts'] == 2)].UUID.index"
      ],
      "execution_count": 52,
      "outputs": []
    },
    {
      "cell_type": "code",
      "metadata": {
        "id": "rcVqsHixasaQ"
      },
      "source": [
        "new_df = month_wise_df.drop(indx)\r\n"
      ],
      "execution_count": 53,
      "outputs": []
    },
    {
      "cell_type": "code",
      "metadata": {
        "colab": {
          "base_uri": "https://localhost:8080/"
        },
        "id": "T3Pt7W4Va_JX",
        "outputId": "109cec28-9626-4c33-bae9-dc547ed0c972"
      },
      "source": [
        "new_df.shape"
      ],
      "execution_count": 54,
      "outputs": [
        {
          "output_type": "execute_result",
          "data": {
            "text/plain": [
              "(888618, 9)"
            ]
          },
          "metadata": {
            "tags": []
          },
          "execution_count": 54
        }
      ]
    },
    {
      "cell_type": "code",
      "metadata": {
        "colab": {
          "base_uri": "https://localhost:8080/"
        },
        "id": "cBnvi5KybJzK",
        "outputId": "df3d4769-be76-4655-b6c7-cb4966aa2bab"
      },
      "source": [
        "new_df.funding_ind.value_counts()"
      ],
      "execution_count": 55,
      "outputs": [
        {
          "output_type": "execute_result",
          "data": {
            "text/plain": [
              "0    887183\n",
              "1      1435\n",
              "Name: funding_ind, dtype: int64"
            ]
          },
          "metadata": {
            "tags": []
          },
          "execution_count": 55
        }
      ]
    },
    {
      "cell_type": "code",
      "metadata": {
        "colab": {
          "base_uri": "https://localhost:8080/"
        },
        "id": "4n2Z_YD_T-mn",
        "outputId": "a5651f79-0e09-4f09-9cd8-0f2d0b137fc4"
      },
      "source": [
        "month_wise_df.funding_ind.value_counts()"
      ],
      "execution_count": 32,
      "outputs": [
        {
          "output_type": "execute_result",
          "data": {
            "text/plain": [
              "0    943655\n",
              "1      1529\n",
              "Name: funding_ind, dtype: int64"
            ]
          },
          "metadata": {
            "tags": []
          },
          "execution_count": 32
        }
      ]
    },
    {
      "cell_type": "code",
      "metadata": {
        "colab": {
          "base_uri": "https://localhost:8080/",
          "height": 438
        },
        "id": "2LBWe75xfqnq",
        "outputId": "6b739d30-23b7-4aaa-cf2c-2d6dbbfc84b8"
      },
      "source": [
        "new_df[new_df['funding_ind']==1]"
      ],
      "execution_count": 56,
      "outputs": [
        {
          "output_type": "execute_result",
          "data": {
            "text/html": [
              "<div>\n",
              "<style scoped>\n",
              "    .dataframe tbody tr th:only-of-type {\n",
              "        vertical-align: middle;\n",
              "    }\n",
              "\n",
              "    .dataframe tbody tr th {\n",
              "        vertical-align: top;\n",
              "    }\n",
              "\n",
              "    .dataframe thead th {\n",
              "        text-align: right;\n",
              "    }\n",
              "</style>\n",
              "<table border=\"1\" class=\"dataframe\">\n",
              "  <thead>\n",
              "    <tr style=\"text-align: right;\">\n",
              "      <th></th>\n",
              "      <th>UUID</th>\n",
              "      <th>Application Category</th>\n",
              "      <th>observed month</th>\n",
              "      <th>observed year</th>\n",
              "      <th>Avg_Session_Time</th>\n",
              "      <th>Open_Rate</th>\n",
              "      <th>Reach</th>\n",
              "      <th>Total_Session_Time</th>\n",
              "      <th>funding_ind</th>\n",
              "    </tr>\n",
              "  </thead>\n",
              "  <tbody>\n",
              "    <tr>\n",
              "      <th>402</th>\n",
              "      <td>0022cb351d65829b6604dac5347f5a94c9a458b4</td>\n",
              "      <td>Finance</td>\n",
              "      <td>8</td>\n",
              "      <td>2019</td>\n",
              "      <td>0.973182</td>\n",
              "      <td>4.105739</td>\n",
              "      <td>0.000102</td>\n",
              "      <td>4.058006</td>\n",
              "      <td>1</td>\n",
              "    </tr>\n",
              "    <tr>\n",
              "      <th>404</th>\n",
              "      <td>0022cb351d65829b6604dac5347f5a94c9a458b4</td>\n",
              "      <td>Finance</td>\n",
              "      <td>9</td>\n",
              "      <td>2019</td>\n",
              "      <td>0.973182</td>\n",
              "      <td>4.105739</td>\n",
              "      <td>0.000111</td>\n",
              "      <td>4.058006</td>\n",
              "      <td>1</td>\n",
              "    </tr>\n",
              "    <tr>\n",
              "      <th>406</th>\n",
              "      <td>0022cb351d65829b6604dac5347f5a94c9a458b4</td>\n",
              "      <td>Finance</td>\n",
              "      <td>10</td>\n",
              "      <td>2019</td>\n",
              "      <td>0.973182</td>\n",
              "      <td>4.105739</td>\n",
              "      <td>0.000134</td>\n",
              "      <td>4.058006</td>\n",
              "      <td>1</td>\n",
              "    </tr>\n",
              "    <tr>\n",
              "      <th>473</th>\n",
              "      <td>002a227d76dec56e6fd80868a72b198d74b27418</td>\n",
              "      <td>Shopping</td>\n",
              "      <td>2</td>\n",
              "      <td>2020</td>\n",
              "      <td>1.684031</td>\n",
              "      <td>5.395269</td>\n",
              "      <td>0.000725</td>\n",
              "      <td>9.009780</td>\n",
              "      <td>1</td>\n",
              "    </tr>\n",
              "    <tr>\n",
              "      <th>475</th>\n",
              "      <td>002a227d76dec56e6fd80868a72b198d74b27418</td>\n",
              "      <td>Shopping</td>\n",
              "      <td>3</td>\n",
              "      <td>2020</td>\n",
              "      <td>1.377684</td>\n",
              "      <td>3.839242</td>\n",
              "      <td>0.000574</td>\n",
              "      <td>5.108240</td>\n",
              "      <td>1</td>\n",
              "    </tr>\n",
              "    <tr>\n",
              "      <th>...</th>\n",
              "      <td>...</td>\n",
              "      <td>...</td>\n",
              "      <td>...</td>\n",
              "      <td>...</td>\n",
              "      <td>...</td>\n",
              "      <td>...</td>\n",
              "      <td>...</td>\n",
              "      <td>...</td>\n",
              "      <td>...</td>\n",
              "    </tr>\n",
              "    <tr>\n",
              "      <th>936594</th>\n",
              "      <td>fd964943c01a84bc2c54d747f6bd9bbf162c1673</td>\n",
              "      <td>Business</td>\n",
              "      <td>6</td>\n",
              "      <td>2020</td>\n",
              "      <td>0.728288</td>\n",
              "      <td>54.839357</td>\n",
              "      <td>0.000156</td>\n",
              "      <td>40.831801</td>\n",
              "      <td>1</td>\n",
              "    </tr>\n",
              "    <tr>\n",
              "      <th>940647</th>\n",
              "      <td>fecd7c1ab55bf429eb709bdc07e2b95dc8df61d3</td>\n",
              "      <td>Casual</td>\n",
              "      <td>4</td>\n",
              "      <td>2020</td>\n",
              "      <td>2.140412</td>\n",
              "      <td>6.085648</td>\n",
              "      <td>0.000043</td>\n",
              "      <td>12.777813</td>\n",
              "      <td>1</td>\n",
              "    </tr>\n",
              "    <tr>\n",
              "      <th>940648</th>\n",
              "      <td>fecd7c1ab55bf429eb709bdc07e2b95dc8df61d3</td>\n",
              "      <td>Casual</td>\n",
              "      <td>5</td>\n",
              "      <td>2020</td>\n",
              "      <td>4.447131</td>\n",
              "      <td>6.692118</td>\n",
              "      <td>0.000133</td>\n",
              "      <td>32.388855</td>\n",
              "      <td>1</td>\n",
              "    </tr>\n",
              "    <tr>\n",
              "      <th>940649</th>\n",
              "      <td>fecd7c1ab55bf429eb709bdc07e2b95dc8df61d3</td>\n",
              "      <td>Casual</td>\n",
              "      <td>6</td>\n",
              "      <td>2020</td>\n",
              "      <td>3.923142</td>\n",
              "      <td>5.044077</td>\n",
              "      <td>0.000103</td>\n",
              "      <td>20.330275</td>\n",
              "      <td>1</td>\n",
              "    </tr>\n",
              "    <tr>\n",
              "      <th>941573</th>\n",
              "      <td>ff0e12c5ef5043e6dc8af2da006c45a918db9e79</td>\n",
              "      <td>Shopping</td>\n",
              "      <td>6</td>\n",
              "      <td>2020</td>\n",
              "      <td>1.176330</td>\n",
              "      <td>2.298246</td>\n",
              "      <td>0.000181</td>\n",
              "      <td>3.171058</td>\n",
              "      <td>1</td>\n",
              "    </tr>\n",
              "  </tbody>\n",
              "</table>\n",
              "<p>1435 rows × 9 columns</p>\n",
              "</div>"
            ],
            "text/plain": [
              "                                            UUID  ... funding_ind\n",
              "402     0022cb351d65829b6604dac5347f5a94c9a458b4  ...           1\n",
              "404     0022cb351d65829b6604dac5347f5a94c9a458b4  ...           1\n",
              "406     0022cb351d65829b6604dac5347f5a94c9a458b4  ...           1\n",
              "473     002a227d76dec56e6fd80868a72b198d74b27418  ...           1\n",
              "475     002a227d76dec56e6fd80868a72b198d74b27418  ...           1\n",
              "...                                          ...  ...         ...\n",
              "936594  fd964943c01a84bc2c54d747f6bd9bbf162c1673  ...           1\n",
              "940647  fecd7c1ab55bf429eb709bdc07e2b95dc8df61d3  ...           1\n",
              "940648  fecd7c1ab55bf429eb709bdc07e2b95dc8df61d3  ...           1\n",
              "940649  fecd7c1ab55bf429eb709bdc07e2b95dc8df61d3  ...           1\n",
              "941573  ff0e12c5ef5043e6dc8af2da006c45a918db9e79  ...           1\n",
              "\n",
              "[1435 rows x 9 columns]"
            ]
          },
          "metadata": {
            "tags": []
          },
          "execution_count": 56
        }
      ]
    },
    {
      "cell_type": "code",
      "metadata": {
        "colab": {
          "base_uri": "https://localhost:8080/",
          "height": 606
        },
        "id": "M_C4Kjxkf46g",
        "outputId": "d20dc9a8-69b8-4f44-c217-09cb4ada2373"
      },
      "source": [
        "new_df[new_df['funding_ind']==0]"
      ],
      "execution_count": 57,
      "outputs": [
        {
          "output_type": "execute_result",
          "data": {
            "text/html": [
              "<div>\n",
              "<style scoped>\n",
              "    .dataframe tbody tr th:only-of-type {\n",
              "        vertical-align: middle;\n",
              "    }\n",
              "\n",
              "    .dataframe tbody tr th {\n",
              "        vertical-align: top;\n",
              "    }\n",
              "\n",
              "    .dataframe thead th {\n",
              "        text-align: right;\n",
              "    }\n",
              "</style>\n",
              "<table border=\"1\" class=\"dataframe\">\n",
              "  <thead>\n",
              "    <tr style=\"text-align: right;\">\n",
              "      <th></th>\n",
              "      <th>UUID</th>\n",
              "      <th>Application Category</th>\n",
              "      <th>observed month</th>\n",
              "      <th>observed year</th>\n",
              "      <th>Avg_Session_Time</th>\n",
              "      <th>Open_Rate</th>\n",
              "      <th>Reach</th>\n",
              "      <th>Total_Session_Time</th>\n",
              "      <th>funding_ind</th>\n",
              "    </tr>\n",
              "  </thead>\n",
              "  <tbody>\n",
              "    <tr>\n",
              "      <th>0</th>\n",
              "      <td>000066f130e3b972364c505c805e2cddee68816d</td>\n",
              "      <td>Business</td>\n",
              "      <td>3</td>\n",
              "      <td>2020</td>\n",
              "      <td>0.770633</td>\n",
              "      <td>3.322581</td>\n",
              "      <td>1.972088e-07</td>\n",
              "      <td>2.770216</td>\n",
              "      <td>0</td>\n",
              "    </tr>\n",
              "    <tr>\n",
              "      <th>1</th>\n",
              "      <td>000066f130e3b972364c505c805e2cddee68816d</td>\n",
              "      <td>Business</td>\n",
              "      <td>4</td>\n",
              "      <td>2020</td>\n",
              "      <td>1.422606</td>\n",
              "      <td>1.666667</td>\n",
              "      <td>3.022203e-07</td>\n",
              "      <td>2.793617</td>\n",
              "      <td>0</td>\n",
              "    </tr>\n",
              "    <tr>\n",
              "      <th>2</th>\n",
              "      <td>000066f130e3b972364c505c805e2cddee68816d</td>\n",
              "      <td>Business</td>\n",
              "      <td>6</td>\n",
              "      <td>2020</td>\n",
              "      <td>1.106979</td>\n",
              "      <td>4.333333</td>\n",
              "      <td>4.889378e-06</td>\n",
              "      <td>2.576717</td>\n",
              "      <td>0</td>\n",
              "    </tr>\n",
              "    <tr>\n",
              "      <th>3</th>\n",
              "      <td>0000c4128bc8bb7dbfbc68f2afec85f485dbcc6b</td>\n",
              "      <td>Finance</td>\n",
              "      <td>4</td>\n",
              "      <td>2020</td>\n",
              "      <td>0.595371</td>\n",
              "      <td>6.166667</td>\n",
              "      <td>3.022203e-07</td>\n",
              "      <td>3.845703</td>\n",
              "      <td>0</td>\n",
              "    </tr>\n",
              "    <tr>\n",
              "      <th>4</th>\n",
              "      <td>0000d19d56df9df1f266fc1fd245a37ff27fb1f3</td>\n",
              "      <td>Social</td>\n",
              "      <td>2</td>\n",
              "      <td>2020</td>\n",
              "      <td>1.471044</td>\n",
              "      <td>3.000000</td>\n",
              "      <td>9.665592e-04</td>\n",
              "      <td>4.413133</td>\n",
              "      <td>0</td>\n",
              "    </tr>\n",
              "    <tr>\n",
              "      <th>...</th>\n",
              "      <td>...</td>\n",
              "      <td>...</td>\n",
              "      <td>...</td>\n",
              "      <td>...</td>\n",
              "      <td>...</td>\n",
              "      <td>...</td>\n",
              "      <td>...</td>\n",
              "      <td>...</td>\n",
              "      <td>...</td>\n",
              "    </tr>\n",
              "    <tr>\n",
              "      <th>945179</th>\n",
              "      <td>ffff67b9dfc65a5f1f146d681497a933998c2256</td>\n",
              "      <td>Education</td>\n",
              "      <td>6</td>\n",
              "      <td>2020</td>\n",
              "      <td>1.516300</td>\n",
              "      <td>1.000000</td>\n",
              "      <td>4.610266e-05</td>\n",
              "      <td>1.516300</td>\n",
              "      <td>0</td>\n",
              "    </tr>\n",
              "    <tr>\n",
              "      <th>945180</th>\n",
              "      <td>ffff74dbc24df592b6355be32f5a71adeefb3b48</td>\n",
              "      <td>Finance</td>\n",
              "      <td>4</td>\n",
              "      <td>2020</td>\n",
              "      <td>0.774724</td>\n",
              "      <td>3.364751</td>\n",
              "      <td>6.044405e-07</td>\n",
              "      <td>2.954551</td>\n",
              "      <td>0</td>\n",
              "    </tr>\n",
              "    <tr>\n",
              "      <th>945181</th>\n",
              "      <td>ffff99e9bacd6d34b2823a0bac8b3e137d3b35ac</td>\n",
              "      <td>Casual</td>\n",
              "      <td>2</td>\n",
              "      <td>2020</td>\n",
              "      <td>0.062117</td>\n",
              "      <td>1.000000</td>\n",
              "      <td>2.110230e-04</td>\n",
              "      <td>0.062117</td>\n",
              "      <td>0</td>\n",
              "    </tr>\n",
              "    <tr>\n",
              "      <th>945182</th>\n",
              "      <td>ffff99e9bacd6d34b2823a0bac8b3e137d3b35ac</td>\n",
              "      <td>Casual</td>\n",
              "      <td>3</td>\n",
              "      <td>2020</td>\n",
              "      <td>7.180876</td>\n",
              "      <td>3.467236</td>\n",
              "      <td>1.972088e-07</td>\n",
              "      <td>28.323236</td>\n",
              "      <td>0</td>\n",
              "    </tr>\n",
              "    <tr>\n",
              "      <th>945183</th>\n",
              "      <td>ffff99e9bacd6d34b2823a0bac8b3e137d3b35ac</td>\n",
              "      <td>Casual</td>\n",
              "      <td>4</td>\n",
              "      <td>2020</td>\n",
              "      <td>1.042250</td>\n",
              "      <td>1.500000</td>\n",
              "      <td>3.022203e-07</td>\n",
              "      <td>1.346292</td>\n",
              "      <td>0</td>\n",
              "    </tr>\n",
              "  </tbody>\n",
              "</table>\n",
              "<p>887183 rows × 9 columns</p>\n",
              "</div>"
            ],
            "text/plain": [
              "                                            UUID  ... funding_ind\n",
              "0       000066f130e3b972364c505c805e2cddee68816d  ...           0\n",
              "1       000066f130e3b972364c505c805e2cddee68816d  ...           0\n",
              "2       000066f130e3b972364c505c805e2cddee68816d  ...           0\n",
              "3       0000c4128bc8bb7dbfbc68f2afec85f485dbcc6b  ...           0\n",
              "4       0000d19d56df9df1f266fc1fd245a37ff27fb1f3  ...           0\n",
              "...                                          ...  ...         ...\n",
              "945179  ffff67b9dfc65a5f1f146d681497a933998c2256  ...           0\n",
              "945180  ffff74dbc24df592b6355be32f5a71adeefb3b48  ...           0\n",
              "945181  ffff99e9bacd6d34b2823a0bac8b3e137d3b35ac  ...           0\n",
              "945182  ffff99e9bacd6d34b2823a0bac8b3e137d3b35ac  ...           0\n",
              "945183  ffff99e9bacd6d34b2823a0bac8b3e137d3b35ac  ...           0\n",
              "\n",
              "[887183 rows x 9 columns]"
            ]
          },
          "metadata": {
            "tags": []
          },
          "execution_count": 57
        }
      ]
    },
    {
      "cell_type": "code",
      "metadata": {
        "id": "AQzm6F1IgwPe"
      },
      "source": [
        "never_funded_index = []\r\n",
        "def check_funded_cat(x):\r\n",
        "  if x in not_funded_cat:\r\n",
        "\r\n",
        "    never_funded_index.append(new_df[new_df['Application Category']==x].index)\r\n",
        "\r\n",
        "     "
      ],
      "execution_count": 65,
      "outputs": []
    },
    {
      "cell_type": "code",
      "metadata": {
        "id": "O2gER7Ttgd3m"
      },
      "source": [
        "\r\n",
        "new_df['Application Category'].apply(check_funded_cat)"
      ],
      "execution_count": null,
      "outputs": []
    },
    {
      "cell_type": "code",
      "metadata": {
        "id": "7qRbpo1AWd1S"
      },
      "source": [
        "# month_wise_df[month_wise_df['funding_ind']==1]"
      ],
      "execution_count": 62,
      "outputs": []
    },
    {
      "cell_type": "code",
      "metadata": {
        "colab": {
          "base_uri": "https://localhost:8080/"
        },
        "id": "TZiecp6TXkLh",
        "outputId": "33af2653-d7fb-42b3-975a-0cab55bf737c"
      },
      "source": [
        "month_wise_df['observed month'].unique()"
      ],
      "execution_count": 34,
      "outputs": [
        {
          "output_type": "execute_result",
          "data": {
            "text/plain": [
              "array([ 3,  4,  6,  2,  5, 12,  1, 11,  7,  8,  9, 10])"
            ]
          },
          "metadata": {
            "tags": []
          },
          "execution_count": 34
        }
      ]
    },
    {
      "cell_type": "markdown",
      "metadata": {
        "id": "DJMk8vSkFAYO"
      },
      "source": [
        "### **Understanding `Funding_ind`**"
      ]
    },
    {
      "cell_type": "code",
      "metadata": {
        "colab": {
          "base_uri": "https://localhost:8080/",
          "height": 0
        },
        "id": "CXP5ye_UE_o1",
        "outputId": "94bd1a4d-a262-49e9-e98f-a20b63e5f5bb"
      },
      "source": [
        "print(cleaned_df['funding_ind'].value_counts())\r\n",
        "fig, ax = plt.subplots(figsize =(10, 7)) \r\n",
        "ax = sns.countplot(x=cleaned_df['funding_ind'])\r\n",
        "plt.title(\"Count plot for funding indecator\")\r\n",
        "perc_on_bar(ax,cleaned_df[\"funding_ind\"])"
      ],
      "execution_count": 48,
      "outputs": [
        {
          "output_type": "stream",
          "text": [
            "0    1409302\n",
            "1       2554\n",
            "Name: funding_ind, dtype: int64\n"
          ],
          "name": "stdout"
        },
        {
          "output_type": "display_data",
          "data": {
            "image/png": "[encoded data removed]",
            "text/plain": [
              "<Figure size 720x504 with 1 Axes>"
            ]
          },
          "metadata": {
            "tags": [],
            "needs_background": "light"
          }
        }
      ]
    },
    {
      "cell_type": "markdown",
      "metadata": {
        "id": "FIkOLiWeGALa"
      },
      "source": [
        "* *The dataset lookes highly imbalanced*"
      ]
    },
    {
      "cell_type": "markdown",
      "metadata": {
        "id": "7_atEhr4HqAd"
      },
      "source": [
        "### **understanding `month`**"
      ]
    },
    {
      "cell_type": "code",
      "metadata": {
        "colab": {
          "base_uri": "https://localhost:8080/"
        },
        "id": "XgA2vQiKH9xE",
        "outputId": "d58f2be9-1f57-4382-adc3-82cd013761ae"
      },
      "source": [
        "clf_df.month.unique()"
      ],
      "execution_count": null,
      "outputs": [
        {
          "output_type": "execute_result",
          "data": {
            "text/plain": [
              "array([20180801, 20190601, 20191201, 20200301, 20190201, 20200201,\n",
              "       20190301, 20200601, 20180901, 20190701, 20181201, 20190801,\n",
              "       20190901, 20180701, 20181001, 20181101, 20191001, 20200101,\n",
              "       20200501, 20190401, 20200401, 20190501, 20191101, 20190101])"
            ]
          },
          "metadata": {
            "tags": []
          },
          "execution_count": 50
        }
      ]
    },
    {
      "cell_type": "code",
      "metadata": {
        "colab": {
          "base_uri": "https://localhost:8080/"
        },
        "id": "sz6_7yZWFlWB",
        "outputId": "f5b0f292-df5a-4437-f79a-e8ddf86edc30"
      },
      "source": [
        "clf_df.month.describe()"
      ],
      "execution_count": null,
      "outputs": [
        {
          "output_type": "execute_result",
          "data": {
            "text/plain": [
              "count    1.411856e+06\n",
              "mean     2.019699e+07\n",
              "std      5.644440e+03\n",
              "min      2.018070e+07\n",
              "25%      2.019120e+07\n",
              "50%      2.020030e+07\n",
              "75%      2.020040e+07\n",
              "max      2.020060e+07\n",
              "Name: month, dtype: float64"
            ]
          },
          "metadata": {
            "tags": []
          },
          "execution_count": 51
        }
      ]
    },
    {
      "cell_type": "code",
      "metadata": {
        "colab": {
          "base_uri": "https://localhost:8080/"
        },
        "id": "9fCAQ_S5KF7_",
        "outputId": "84b2eaee-b3d1-4585-816a-37a9aa3b6c9f"
      },
      "source": [
        "clf_df['month'].apply(lambda x: changeTodate(x)[2])"
      ],
      "execution_count": null,
      "outputs": [
        {
          "output_type": "execute_result",
          "data": {
            "text/plain": [
              "0          2018\n",
              "1          2018\n",
              "2          2018\n",
              "3          2018\n",
              "4          2018\n",
              "           ... \n",
              "1502280    2019\n",
              "1502281    2019\n",
              "1502282    2019\n",
              "1502283    2019\n",
              "1502284    2019\n",
              "Name: month, Length: 1411856, dtype: int64"
            ]
          },
          "metadata": {
            "tags": []
          },
          "execution_count": 85
        }
      ]
    },
    {
      "cell_type": "code",
      "metadata": {
        "colab": {
          "base_uri": "https://localhost:8080/"
        },
        "id": "L_ZHNnOuAuoy",
        "outputId": "75fe6b7a-0dc4-4428-d4cb-5348b126d801"
      },
      "source": [
        "changeTodate(20180801)[0]"
      ],
      "execution_count": null,
      "outputs": [
        {
          "output_type": "execute_result",
          "data": {
            "text/plain": [
              "1"
            ]
          },
          "metadata": {
            "tags": []
          },
          "execution_count": 77
        }
      ]
    },
    {
      "cell_type": "code",
      "metadata": {
        "colab": {
          "base_uri": "https://localhost:8080/",
          "height": 316
        },
        "id": "TWLHjnCdD0qI",
        "outputId": "6b42d6e6-ae3d-42fa-c3c4-9e26ffdf8cc8"
      },
      "source": [
        "clf_df.head()"
      ],
      "execution_count": null,
      "outputs": [
        {
          "output_type": "execute_result",
          "data": {
            "text/html": [
              "<div>\n",
              "<style scoped>\n",
              "    .dataframe tbody tr th:only-of-type {\n",
              "        vertical-align: middle;\n",
              "    }\n",
              "\n",
              "    .dataframe tbody tr th {\n",
              "        vertical-align: top;\n",
              "    }\n",
              "\n",
              "    .dataframe thead th {\n",
              "        text-align: right;\n",
              "    }\n",
              "</style>\n",
              "<table border=\"1\" class=\"dataframe\">\n",
              "  <thead>\n",
              "    <tr style=\"text-align: right;\">\n",
              "      <th></th>\n",
              "      <th>UUID</th>\n",
              "      <th>month</th>\n",
              "      <th>Application Category</th>\n",
              "      <th>Avg_Session_Time</th>\n",
              "      <th>Open_Rate</th>\n",
              "      <th>Reach</th>\n",
              "      <th>Total_Session_Time</th>\n",
              "      <th>funding_ind</th>\n",
              "      <th>observed date</th>\n",
              "      <th>observed day</th>\n",
              "      <th>observed month</th>\n",
              "      <th>observed year</th>\n",
              "    </tr>\n",
              "  </thead>\n",
              "  <tbody>\n",
              "    <tr>\n",
              "      <th>0</th>\n",
              "      <td>c1ad38e2d357610c129657d870ede902e8abfcb9</td>\n",
              "      <td>20180801</td>\n",
              "      <td>Books &amp; Reference</td>\n",
              "      <td>NaN</td>\n",
              "      <td>NaN</td>\n",
              "      <td>0.042963</td>\n",
              "      <td>NaN</td>\n",
              "      <td>0</td>\n",
              "      <td>2018-01-08</td>\n",
              "      <td>1</td>\n",
              "      <td>8</td>\n",
              "      <td>2018</td>\n",
              "    </tr>\n",
              "    <tr>\n",
              "      <th>1</th>\n",
              "      <td>d841e670d9191f896a0cbc75961920887b375756</td>\n",
              "      <td>20180801</td>\n",
              "      <td>Books &amp; Reference</td>\n",
              "      <td>NaN</td>\n",
              "      <td>NaN</td>\n",
              "      <td>0.003244</td>\n",
              "      <td>NaN</td>\n",
              "      <td>0</td>\n",
              "      <td>2018-01-08</td>\n",
              "      <td>1</td>\n",
              "      <td>8</td>\n",
              "      <td>2018</td>\n",
              "    </tr>\n",
              "    <tr>\n",
              "      <th>2</th>\n",
              "      <td>0a59d138b3eaccd22b665eae70c756fef83ddb63</td>\n",
              "      <td>20180801</td>\n",
              "      <td>Finance</td>\n",
              "      <td>NaN</td>\n",
              "      <td>NaN</td>\n",
              "      <td>0.000161</td>\n",
              "      <td>NaN</td>\n",
              "      <td>0</td>\n",
              "      <td>2018-01-08</td>\n",
              "      <td>1</td>\n",
              "      <td>8</td>\n",
              "      <td>2018</td>\n",
              "    </tr>\n",
              "    <tr>\n",
              "      <th>3</th>\n",
              "      <td>0a59d138b3eaccd22b665eae70c756fef83ddb63</td>\n",
              "      <td>20180801</td>\n",
              "      <td>Books &amp; Reference</td>\n",
              "      <td>NaN</td>\n",
              "      <td>NaN</td>\n",
              "      <td>0.000077</td>\n",
              "      <td>NaN</td>\n",
              "      <td>0</td>\n",
              "      <td>2018-01-08</td>\n",
              "      <td>1</td>\n",
              "      <td>8</td>\n",
              "      <td>2018</td>\n",
              "    </tr>\n",
              "    <tr>\n",
              "      <th>4</th>\n",
              "      <td>df5fb9891f77df24a91d039f1817c6c4e79244ef</td>\n",
              "      <td>20180801</td>\n",
              "      <td>Productivity</td>\n",
              "      <td>NaN</td>\n",
              "      <td>NaN</td>\n",
              "      <td>0.000939</td>\n",
              "      <td>NaN</td>\n",
              "      <td>0</td>\n",
              "      <td>2018-01-08</td>\n",
              "      <td>1</td>\n",
              "      <td>8</td>\n",
              "      <td>2018</td>\n",
              "    </tr>\n",
              "  </tbody>\n",
              "</table>\n",
              "</div>"
            ],
            "text/plain": [
              "                                       UUID  ...  observed year\n",
              "0  c1ad38e2d357610c129657d870ede902e8abfcb9  ...           2018\n",
              "1  d841e670d9191f896a0cbc75961920887b375756  ...           2018\n",
              "2  0a59d138b3eaccd22b665eae70c756fef83ddb63  ...           2018\n",
              "3  0a59d138b3eaccd22b665eae70c756fef83ddb63  ...           2018\n",
              "4  df5fb9891f77df24a91d039f1817c6c4e79244ef  ...           2018\n",
              "\n",
              "[5 rows x 12 columns]"
            ]
          },
          "metadata": {
            "tags": []
          },
          "execution_count": 87
        }
      ]
    },
    {
      "cell_type": "code",
      "metadata": {
        "id": "V5IWZ4rnBhY7"
      },
      "source": [
        "clf_df['Observed_year'] = clf"
      ],
      "execution_count": null,
      "outputs": []
    },
    {
      "cell_type": "markdown",
      "metadata": {
        "id": "AG9phyYsJJvS"
      },
      "source": [
        "### **Understanding `Application category`**"
      ]
    },
    {
      "cell_type": "code",
      "metadata": {
        "colab": {
          "base_uri": "https://localhost:8080/"
        },
        "id": "xhvmvc1gJYoB",
        "outputId": "cfb3702e-886e-42f6-c541-eb785df038ec"
      },
      "source": [
        "total_cat = cleaned_df['Application Category'].unique()\r\n",
        "print(total_cat)\r\n",
        "print(f'Length: {len(total_cat)}')"
      ],
      "execution_count": 60,
      "outputs": [
        {
          "output_type": "stream",
          "text": [
            "['Education' 'Tools' 'Business' 'Books & Reference' 'Entertainment'\n",
            " 'Productivity' 'Finance' 'Photography' 'Personalization' 'Music & Audio'\n",
            " 'Lifestyle' 'Social' 'Communication' 'Health & Fitness' 'Travel & Local'\n",
            " 'Shopping' 'Simulation' 'News & Magazines' 'Casual' 'Action'\n",
            " 'Video Players & Editors' 'Puzzle' 'Sports' 'Arcade' 'Medical'\n",
            " 'Educational' 'Maps & Navigation' 'Racing' 'Food & Drink' 'Adventure'\n",
            " 'Art & Design' 'Auto & Vehicles' 'Role Playing' 'Board' 'Card' 'Strategy'\n",
            " 'Weather' 'House & Home' 'Word' 'Events' 'Dating' 'Trivia' 'Beauty'\n",
            " 'Comics' 'Casino' 'Music' 'Parenting' 'Libraries & Demo']\n",
            "Length: 48\n"
          ],
          "name": "stdout"
        }
      ]
    },
    {
      "cell_type": "code",
      "metadata": {
        "colab": {
          "base_uri": "https://localhost:8080/"
        },
        "id": "cQLtSjs1Jlux",
        "outputId": "6fb3d6a8-528b-42a1-bb2d-72519be0db53"
      },
      "source": [
        "# Application categories that are funded\r\n",
        "funded_cat = cleaned_df[cleaned_df['funding_ind']==1]['Application Category'].unique()\r\n",
        "print(funded_cat)\r\n",
        "print(f'Length: {len(funded_cat)}')\r\n"
      ],
      "execution_count": 58,
      "outputs": [
        {
          "output_type": "stream",
          "text": [
            "['Education' 'Tools' 'Business' 'Books & Reference' 'Entertainment'\n",
            " 'Productivity' 'Finance' 'Photography' 'Personalization' 'Music & Audio'\n",
            " 'Lifestyle' 'Social' 'Communication' 'Health & Fitness' 'Travel & Local'\n",
            " 'Shopping' 'Simulation' 'News & Magazines' 'Casual' 'Action'\n",
            " 'Video Players & Editors' 'Puzzle' 'Sports' 'Arcade' 'Medical'\n",
            " 'Educational' 'Maps & Navigation' 'Racing' 'Food & Drink' 'Adventure'\n",
            " 'Auto & Vehicles' 'Role Playing' 'Board' 'Card' 'Strategy' 'Weather'\n",
            " 'House & Home' 'Trivia' 'Beauty' 'Comics' 'Parenting']\n",
            "Length: 41\n"
          ],
          "name": "stdout"
        }
      ]
    },
    {
      "cell_type": "code",
      "metadata": {
        "colab": {
          "base_uri": "https://localhost:8080/"
        },
        "id": "hdOh_UktLLnx",
        "outputId": "3d096d05-bf38-4586-ce40-80ef0dc9ee45"
      },
      "source": [
        "# Application categories that are not funded so far\r\n",
        "not_funded_cat =  [ele for ele in total_cat if ele not in funded_cat]\r\n",
        "print(not_funded_cat) \r\n",
        "print(len(not_funded_cat))"
      ],
      "execution_count": 61,
      "outputs": [
        {
          "output_type": "stream",
          "text": [
            "['Art & Design', 'Word', 'Events', 'Dating', 'Casino', 'Music', 'Libraries & Demo']\n",
            "7\n"
          ],
          "name": "stdout"
        }
      ]
    },
    {
      "cell_type": "code",
      "metadata": {
        "colab": {
          "base_uri": "https://localhost:8080/",
          "height": 459
        },
        "id": "0r3F5JAyO0AU",
        "outputId": "16c7858b-385b-4b27-835d-23ff7715efa2"
      },
      "source": [
        "plt.figure(figsize=(14,7))\r\n",
        "sns.barplot(x = 'Application Category',y = 'index',data =cleaned_df[cleaned_df['funding_ind']==1]['Application Category'].value_counts().reset_index())"
      ],
      "execution_count": null,
      "outputs": [
        {
          "output_type": "execute_result",
          "data": {
            "text/plain": [
              "<matplotlib.axes._subplots.AxesSubplot at 0x7fe415bb4ba8>"
            ]
          },
          "metadata": {
            "tags": []
          },
          "execution_count": 131
        },
        {
          "output_type": "display_data",
          "data": {
            "image/png": "[encoded data removed]",
            "text/plain": [
              "<Figure size 1008x504 with 1 Axes>"
            ]
          },
          "metadata": {
            "tags": [],
            "needs_background": "light"
          }
        }
      ]
    },
    {
      "cell_type": "code",
      "metadata": {
        "colab": {
          "base_uri": "https://localhost:8080/"
        },
        "id": "9o4RvhoYXx_r",
        "outputId": "4df250c7-528b-434a-d83a-307eea1b03e7"
      },
      "source": [
        "clf_df['Avg_Session_Time'].describe()"
      ],
      "execution_count": null,
      "outputs": [
        {
          "output_type": "execute_result",
          "data": {
            "text/plain": [
              "count    877097.000000\n",
              "mean          1.623716\n",
              "std           2.253572\n",
              "min           0.000033\n",
              "25%           0.417860\n",
              "50%           0.890115\n",
              "75%           1.917746\n",
              "max          58.561333\n",
              "Name: Avg_Session_Time, dtype: float64"
            ]
          },
          "metadata": {
            "tags": []
          },
          "execution_count": 136
        }
      ]
    },
    {
      "cell_type": "code",
      "metadata": {
        "colab": {
          "base_uri": "https://localhost:8080/"
        },
        "id": "pZmeGce4Xi1J",
        "outputId": "c4cd3cfb-cb45-435f-8069-7a59067131a3"
      },
      "source": [
        "cleaned_df['Avg_Session_Time'].describe()"
      ],
      "execution_count": null,
      "outputs": [
        {
          "output_type": "execute_result",
          "data": {
            "text/plain": [
              "count    1.411856e+06\n",
              "mean     1.567898e+00\n",
              "std      2.003959e+00\n",
              "min      3.333333e-05\n",
              "25%      5.235612e-01\n",
              "50%      9.778198e-01\n",
              "75%      1.722726e+00\n",
              "max      5.856133e+01\n",
              "Name: Avg_Session_Time, dtype: float64"
            ]
          },
          "metadata": {
            "tags": []
          },
          "execution_count": 134
        }
      ]
    },
    {
      "cell_type": "code",
      "metadata": {
        "colab": {
          "base_uri": "https://localhost:8080/",
          "height": 386
        },
        "id": "ZMnXBqUYXGob",
        "outputId": "b04cb1c7-fec5-4c5a-90cd-463f10740dae"
      },
      "source": [
        "sns.displot(cleaned_df['Avg_Session_Time'])"
      ],
      "execution_count": null,
      "outputs": [
        {
          "output_type": "execute_result",
          "data": {
            "text/plain": [
              "<seaborn.axisgrid.FacetGrid at 0x7fe415bae668>"
            ]
          },
          "metadata": {
            "tags": []
          },
          "execution_count": 135
        },
        {
          "output_type": "display_data",
          "data": {
            "image/png": "[encoded data removed]",
            "text/plain": [
              "<Figure size 360x360 with 1 Axes>"
            ]
          },
          "metadata": {
            "tags": [],
            "needs_background": "light"
          }
        }
      ]
    },
    {
      "cell_type": "code",
      "metadata": {
        "colab": {
          "base_uri": "https://localhost:8080/",
          "height": 386
        },
        "id": "bma7iXOYXVGj",
        "outputId": "3268f351-70bf-452a-e0ca-4f10ae4dd1c8"
      },
      "source": [
        "sns.displot(np.log10(cleaned_df['Avg_Session_Time']))"
      ],
      "execution_count": null,
      "outputs": [
        {
          "output_type": "execute_result",
          "data": {
            "text/plain": [
              "<seaborn.axisgrid.FacetGrid at 0x7fe413e541d0>"
            ]
          },
          "metadata": {
            "tags": []
          },
          "execution_count": 133
        },
        {
          "output_type": "display_data",
          "data": {
            "image/png": "[encoded data removed]",
            "text/plain": [
              "<Figure size 360x360 with 1 Axes>"
            ]
          },
          "metadata": {
            "tags": [],
            "needs_background": "light"
          }
        }
      ]
    },
    {
      "cell_type": "code",
      "metadata": {
        "colab": {
          "base_uri": "https://localhost:8080/",
          "height": 297
        },
        "id": "BRDyBFB-jIzq",
        "outputId": "e2cd5f12-b6bf-4fca-ef96-21006ca74d38"
      },
      "source": [
        "sns.distplot(cleaned_df[cleaned_df['funding_ind']==1]['Avg_Session_Time'])"
      ],
      "execution_count": null,
      "outputs": [
        {
          "output_type": "execute_result",
          "data": {
            "text/plain": [
              "<matplotlib.axes._subplots.AxesSubplot at 0x7fe411d17e10>"
            ]
          },
          "metadata": {
            "tags": []
          },
          "execution_count": 138
        },
        {
          "output_type": "display_data",
          "data": {
            "image/png": "[encoded data removed]",
            "text/plain": [
              "<Figure size 432x288 with 1 Axes>"
            ]
          },
          "metadata": {
            "tags": [],
            "needs_background": "light"
          }
        }
      ]
    },
    {
      "cell_type": "code",
      "metadata": {
        "colab": {
          "base_uri": "https://localhost:8080/",
          "height": 297
        },
        "id": "G1VKP3RPjn1X",
        "outputId": "b47830f9-23e7-4cef-cb5a-ec98b8631a4a"
      },
      "source": [
        "sns.distplot(np.log10(cleaned_df[cleaned_df['funding_ind']==1]['Avg_Session_Time']))"
      ],
      "execution_count": null,
      "outputs": [
        {
          "output_type": "execute_result",
          "data": {
            "text/plain": [
              "<matplotlib.axes._subplots.AxesSubplot at 0x7fe411b1d4e0>"
            ]
          },
          "metadata": {
            "tags": []
          },
          "execution_count": 139
        },
        {
          "output_type": "display_data",
          "data": {
            "image/png": "[encoded data removed]",
            "text/plain": [
              "<Figure size 432x288 with 1 Axes>"
            ]
          },
          "metadata": {
            "tags": [],
            "needs_background": "light"
          }
        }
      ]
    },
    {
      "cell_type": "code",
      "metadata": {
        "colab": {
          "base_uri": "https://localhost:8080/",
          "height": 297
        },
        "id": "3NYa-XFsj2iB",
        "outputId": "afba248b-5125-4ed8-83ab-bb1878a4e839"
      },
      "source": [
        "sns.distplot(cleaned_df[cleaned_df['funding_ind']==0]['Avg_Session_Time'])"
      ],
      "execution_count": null,
      "outputs": [
        {
          "output_type": "execute_result",
          "data": {
            "text/plain": [
              "<matplotlib.axes._subplots.AxesSubplot at 0x7fe4114dcf98>"
            ]
          },
          "metadata": {
            "tags": []
          },
          "execution_count": 140
        },
        {
          "output_type": "display_data",
          "data": {
            "image/png": "[encoded data removed]",
            "text/plain": [
              "<Figure size 432x288 with 1 Axes>"
            ]
          },
          "metadata": {
            "tags": [],
            "needs_background": "light"
          }
        }
      ]
    },
    {
      "cell_type": "code",
      "metadata": {
        "colab": {
          "base_uri": "https://localhost:8080/",
          "height": 297
        },
        "id": "Hyvo8lVqkCKG",
        "outputId": "f3e4de56-93f0-4aba-b62c-b5c21ae75455"
      },
      "source": [
        "sns.distplot(np.log10(cleaned_df[cleaned_df['funding_ind']==0]['Avg_Session_Time']))"
      ],
      "execution_count": null,
      "outputs": [
        {
          "output_type": "execute_result",
          "data": {
            "text/plain": [
              "<matplotlib.axes._subplots.AxesSubplot at 0x7fe411254e10>"
            ]
          },
          "metadata": {
            "tags": []
          },
          "execution_count": 141
        },
        {
          "output_type": "display_data",
          "data": {
            "image/png": "[encoded data removed]",
            "text/plain": [
              "<Figure size 432x288 with 1 Axes>"
            ]
          },
          "metadata": {
            "tags": [],
            "needs_background": "light"
          }
        }
      ]
    },
    {
      "cell_type": "code",
      "metadata": {
        "colab": {
          "base_uri": "https://localhost:8080/"
        },
        "id": "VDN9WL6sN0Zd",
        "outputId": "b74ca7b8-e111-437e-ef09-1310447957af"
      },
      "source": [
        "not_funded_cat"
      ],
      "execution_count": null,
      "outputs": [
        {
          "output_type": "execute_result",
          "data": {
            "text/plain": [
              "[0          False\n",
              " 1          False\n",
              " 2          False\n",
              " 3          False\n",
              " 4          False\n",
              "            ...  \n",
              " 1502280    False\n",
              " 1502281    False\n",
              " 1502282    False\n",
              " 1502283    False\n",
              " 1502284    False\n",
              " Name: Application Category, Length: 1411856, dtype: bool]"
            ]
          },
          "metadata": {
            "tags": []
          },
          "execution_count": 74
        }
      ]
    },
    {
      "cell_type": "code",
      "metadata": {
        "colab": {
          "base_uri": "https://localhost:8080/"
        },
        "id": "romppy6vAJcQ",
        "outputId": "7454803f-8011-4686-9bb4-1ac391c99cb4"
      },
      "source": [
        "clf_df.UUID.value_counts()"
      ],
      "execution_count": null,
      "outputs": [
        {
          "output_type": "execute_result",
          "data": {
            "text/plain": [
              "4e5ad248d207eaf680153dbbf3b2f5bdf3fa6f27    2654\n",
              "a8febb4b767f83022235f3f34a2241ed1e13db2f    1670\n",
              "061d769832ed6fa2e6f5f7923348f7f074e6aa91    1529\n",
              "ec1cd22193eda5ec91905247ea3079ae84e2dd30    1224\n",
              "03fb932e41ef68f1df45e0b20f326de05ebd438c    1086\n",
              "                                            ... \n",
              "664aa660b24bbfde19579838f56335913e8556e6       1\n",
              "6101e98a205000be9ab068d95ebfc1fd0f32acf7       1\n",
              "e839d4f917cd833b6273d33a06f4e354ac65fec1       1\n",
              "8429682b40a3f6a30a46a091ca032f3c6402b7d2       1\n",
              "75945505cc6e1858b38aede39e8ddc95f87ef78f       1\n",
              "Name: UUID, Length: 147741, dtype: int64"
            ]
          },
          "metadata": {
            "tags": []
          },
          "execution_count": 27
        }
      ]
    },
    {
      "cell_type": "code",
      "metadata": {
        "id": "is0g7cVgBtIe"
      },
      "source": [
        "\r\n"
      ],
      "execution_count": null,
      "outputs": []
    },
    {
      "cell_type": "code",
      "metadata": {
        "id": "9MmGIEUHA-jo"
      },
      "source": [
        ""
      ],
      "execution_count": null,
      "outputs": []
    }
  ]
}